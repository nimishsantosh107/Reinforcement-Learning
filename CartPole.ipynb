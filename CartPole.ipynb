{
 "metadata": {
  "language_info": {
   "codemirror_mode": {
    "name": "ipython",
    "version": 3
   },
   "file_extension": ".py",
   "mimetype": "text/x-python",
   "name": "python",
   "nbconvert_exporter": "python",
   "pygments_lexer": "ipython3",
   "version": "3.6.10-final"
  },
  "orig_nbformat": 2,
  "kernelspec": {
   "name": "python_defaultSpec_1596629733313",
   "display_name": "Python 3.6.10 64-bit ('reinforcement-learning': conda)"
  }
 },
 "nbformat": 4,
 "nbformat_minor": 2,
 "cells": [
  {
   "cell_type": "markdown",
   "metadata": {},
   "source": [
    "# Init"
   ]
  },
  {
   "cell_type": "code",
   "execution_count": 1,
   "metadata": {},
   "outputs": [],
   "source": [
    "import gym\n",
    "import numpy as np\n",
    "import matplotlib.pyplot as plt\n",
    "\n",
    "from tqdm import tqdm\n",
    "\n",
    "%matplotlib inline"
   ]
  },
  {
   "cell_type": "markdown",
   "metadata": {},
   "source": [
    "# Q-Learning"
   ]
  },
  {
   "cell_type": "code",
   "execution_count": 82,
   "metadata": {},
   "outputs": [],
   "source": [
    "env = gym.make('CartPole-v0')"
   ]
  },
  {
   "cell_type": "code",
   "execution_count": 88,
   "metadata": {},
   "outputs": [],
   "source": [
    "class QLearningAgent:\n",
    "    def __init__(self, n_states, n_actions, gamma, alpha, epsilon, epsilon_min, epsilon_decay):\n",
    "        self.n_states = n_states\n",
    "        self.n_actions = n_actions\n",
    "        self.GAMMA = gamma\n",
    "        self.ALPHA = alpha\n",
    "        self.EPSILON = epsilon\n",
    "        self.epsilon_min = epsilon_min \n",
    "        self.epsilon_decay = epsilon_decay\n",
    "        self.Q = np.zeros((*n_states, n_actions))\n",
    "        self.bins = self.create_bins()\n",
    "\n",
    "    # e-GREEDY POLICY\n",
    "    def get_action(self, state, greedy=False):\n",
    "        if( (np.random.uniform() >= self.EPSILON) or greedy):\n",
    "            action = np.argmax(self.Q[state])\n",
    "        else:\n",
    "            action = env.action_space.sample()\n",
    "        return action\n",
    "    \n",
    "    # Q-Learning\n",
    "    def update_q(self, state, action, reward, state_):\n",
    "        actionMAX_ = np.argmax(self.Q[state_])\n",
    "        qMAX_ = self.Q[state_][actionMAX_]\n",
    "        self.Q[state][action] += (self.ALPHA * (reward + (self.GAMMA * qMAX_) - self.Q[state][action]))\n",
    "        self.decay_epsilon()\n",
    "\n",
    "    def decay_epsilon(self):\n",
    "        if(self.EPSILON > self.epsilon_min):\n",
    "            self.EPSILON = self.EPSILON * self.epsilon_decay\n",
    "        else:\n",
    "            self.EPSILON = self.epsilon_min\n",
    "\n",
    "    # DISCRETIZING CONTINUOUS SPACE\n",
    "    def create_bins(self):\n",
    "        bins = [None] * 4\n",
    "        bins[0] = np.linspace(-2.4, 2.4, self.n_states[0])\n",
    "        bins[1] = np.linspace(-5, 5, self.n_states[1])\n",
    "        bins[2] = np.linspace(-0.418, 0.418, self.n_states[2])\n",
    "        bins[3] = np.linspace(-5, 5, self.n_states[3])\n",
    "        return np.array(bins)\n",
    "\n",
    "    # GIVEN OBSERVATION ARRAY AND BINS, RETURNS STATE NUMBER\n",
    "    def get_state(self, observation):\n",
    "        state = [None] * 4\n",
    "        for i in range(4):\n",
    "            state[i] = int(np.digitize(observation[i], self.bins[i]) - 1)\n",
    "        return tuple(state)"
   ]
  },
  {
   "cell_type": "code",
   "execution_count": 89,
   "metadata": {},
   "outputs": [],
   "source": [
    "#PLAY SINGLE EPISODE - Q-Learning\n",
    "def play_episode(agent):\n",
    "    total_reward = 0\n",
    "\n",
    "    observation = env.reset()\n",
    "    state = agent.get_state(observation)\n",
    "    \n",
    "    for moves in range(MAX_MOVES):\n",
    "        # e-GREEDY\n",
    "        action = agent.get_action(state)\n",
    "\n",
    "        # TAKE ACTION\n",
    "        observation_, reward, done, _ = env.step(action)\n",
    "\n",
    "        # PUNISH FOR FAILURE\n",
    "        if( done and (moves < (MAX_MOVES - 5)) ):\n",
    "            reward = -300\n",
    "        total_reward += reward\n",
    "\n",
    "        # UPDATE Q-VALUES (greedify - Off policy)\n",
    "        state_ = agent.get_state(observation_)\n",
    "        agent.update_q(state, action, reward, state_)\n",
    "\n",
    "        state = state_\n",
    "\n",
    "        # BREAK IF TERMINATED\n",
    "        if(done): break \n",
    "\n",
    "    return (round(total_reward), round(moves))"
   ]
  },
  {
   "cell_type": "code",
   "execution_count": 90,
   "metadata": {},
   "outputs": [],
   "source": [
    "# Init\n",
    "MAX_MOVES = env._max_episode_steps #200\n",
    "N_STATES = (10, 10, 10, 10)\n",
    "NUM_EPISODES = 3000\n",
    "\n",
    "agent = QLearningAgent(n_states = N_STATES,\n",
    "                       n_actions = env.action_space.n,\n",
    "                       gamma = 0.9,\n",
    "                       alpha = 0.01,\n",
    "                       epsilon = 1.0,\n",
    "                       epsilon_min = 0.01,\n",
    "                       epsilon_decay=0.999968)"
   ]
  },
  {
   "cell_type": "code",
   "execution_count": 91,
   "metadata": {
    "tags": []
   },
   "outputs": [
    {
     "output_type": "stream",
     "name": "stdout",
     "text": "ITER:  99 \tMEAN_REWARD:  -279.13 \tEPSILON:  0.9324 \tLENGTH:  17\n ITER:  199 \tMEAN_REWARD:  -277.19 \tEPSILON:  0.864 \tLENGTH:  11\n ITER:  299 \tMEAN_REWARD:  -271.73 \tEPSILON:  0.7868 \tLENGTH:  21\n ITER:  399 \tMEAN_REWARD:  -266.88 \tEPSILON:  0.7054 \tLENGTH:  53\n ITER:  499 \tMEAN_REWARD:  -261.58 \tEPSILON:  0.6218 \tLENGTH:  82\n ITER:  599 \tMEAN_REWARD:  -247.82 \tEPSILON:  0.5245 \tLENGTH:  129\n ITER:  699 \tMEAN_REWARD:  -239.29 \tEPSILON:  0.4305 \tLENGTH:  48\n ITER:  799 \tMEAN_REWARD:  -226.67 \tEPSILON:  0.3394 \tLENGTH:  43\n ITER:  899 \tMEAN_REWARD:  -213.28 \tEPSILON:  0.2588 \tLENGTH:  105\n ITER:  999 \tMEAN_REWARD:  -197.52 \tEPSILON:  0.1876 \tLENGTH:  118\n ITER:  1099 \tMEAN_REWARD:  -187.34 \tEPSILON:  0.1342 \tLENGTH:  84\n ITER:  1199 \tMEAN_REWARD:  -162.4 \tEPSILON:  0.0887 \tLENGTH:  124\n ITER:  1299 \tMEAN_REWARD:  -163.16 \tEPSILON:  0.0576 \tLENGTH:  127\n ITER:  1399 \tMEAN_REWARD:  -159.56 \tEPSILON:  0.037 \tLENGTH:  133\n ITER:  1499 \tMEAN_REWARD:  -167.25 \tEPSILON:  0.0243 \tLENGTH:  153\n ITER:  1599 \tMEAN_REWARD:  -141.96 \tEPSILON:  0.0148 \tLENGTH:  154\n ITER:  1699 \tMEAN_REWARD:  -138.18 \tEPSILON:  0.01 \tLENGTH:  153\n ITER:  1799 \tMEAN_REWARD:  -93.86 \tEPSILON:  0.01 \tLENGTH:  186\n ITER:  1899 \tMEAN_REWARD:  -69.48 \tEPSILON:  0.01 \tLENGTH:  177\n ITER:  1999 \tMEAN_REWARD:  -113.84 \tEPSILON:  0.01 \tLENGTH:  162\n ITER:  2099 \tMEAN_REWARD:  -71.79 \tEPSILON:  0.01 \tLENGTH:  162\n ITER:  2199 \tMEAN_REWARD:  -113.88 \tEPSILON:  0.01 \tLENGTH:  157\n ITER:  2299 \tMEAN_REWARD:  -58.67 \tEPSILON:  0.01 \tLENGTH:  182\n ITER:  2399 \tMEAN_REWARD:  -61.01 \tEPSILON:  0.01 \tLENGTH:  174\n ITER:  2499 \tMEAN_REWARD:  -58.48 \tEPSILON:  0.01 \tLENGTH:  186\n ITER:  2599 \tMEAN_REWARD:  -75.56 \tEPSILON:  0.01 \tLENGTH:  172\n ITER:  2699 \tMEAN_REWARD:  -56.82 \tEPSILON:  0.01 \tLENGTH:  153\n ITER:  2799 \tMEAN_REWARD:  -68.3 \tEPSILON:  0.01 \tLENGTH:  193\n ITER:  2899 \tMEAN_REWARD:  -30.26 \tEPSILON:  0.01 \tLENGTH:  196\n ITER:  2999 \tMEAN_REWARD:  -32.41 \tEPSILON:  0.01 \tLENGTH:  199\n"
    }
   ],
   "source": [
    "# TRAINING\n",
    "episode_rewards = []\n",
    "episode_lengths = []\n",
    "mean_rewards = [] # MEAN REWARD OF LAST 100 GAMES\n",
    "\n",
    "for episode_n in (range(NUM_EPISODES)):\n",
    "    \n",
    "    episode_reward, episode_length = play_episode(agent)\n",
    "    episode_rewards.append(episode_reward)\n",
    "    episode_lengths.append(episode_length)\n",
    "\n",
    "    if((episode_n + 1)%100 == 0):\n",
    "        mean_reward = np.mean(episode_rewards[-100:])\n",
    "        mean_rewards.append(mean_reward)\n",
    "        print(\" ITER: \",(episode_n),\"\\tMEAN_REWARD: \",mean_reward ,\"\\tEPSILON: \",round(agent.EPSILON,4), \"\\tLENGTH: \",episode_length)"
   ]
  },
  {
   "cell_type": "code",
   "execution_count": 92,
   "metadata": {},
   "outputs": [
    {
     "output_type": "execute_result",
     "data": {
      "text/plain": "[<matplotlib.lines.Line2D at 0x12b77d710>]"
     },
     "metadata": {},
     "execution_count": 92
    },
    {
     "output_type": "display_data",
     "data": {
      "text/plain": "<Figure size 432x288 with 1 Axes>",
      "image/svg+xml": "<?xml version=\"1.0\" encoding=\"utf-8\" standalone=\"no\"?>\n<!DOCTYPE svg PUBLIC \"-//W3C//DTD SVG 1.1//EN\"\n  \"http://www.w3.org/Graphics/SVG/1.1/DTD/svg11.dtd\">\n<!-- Created with matplotlib (https://matplotlib.org/) -->\n<svg height=\"248.518125pt\" version=\"1.1\" viewBox=\"0 0 385.306803 248.518125\" width=\"385.306803pt\" xmlns=\"http://www.w3.org/2000/svg\" xmlns:xlink=\"http://www.w3.org/1999/xlink\">\n <defs>\n  <style type=\"text/css\">\n*{stroke-linecap:butt;stroke-linejoin:round;}\n  </style>\n </defs>\n <g id=\"figure_1\">\n  <g id=\"patch_1\">\n   <path d=\"M 0 248.518125 \nL 385.306803 248.518125 \nL 385.306803 0 \nL 0 0 \nz\n\" style=\"fill:none;\"/>\n  </g>\n  <g id=\"axes_1\">\n   <g id=\"patch_2\">\n    <path d=\"M 41.667188 224.64 \nL 376.467188 224.64 \nL 376.467188 7.2 \nL 41.667188 7.2 \nz\n\"/>\n   </g>\n   <g id=\"matplotlib.axis_1\">\n    <g id=\"xtick_1\">\n     <g id=\"line2d_1\">\n      <defs>\n       <path d=\"M 0 0 \nL 0 3.5 \n\" id=\"m1079f395a4\" style=\"stroke:#ffffff;stroke-width:0.8;\"/>\n      </defs>\n      <g>\n       <use style=\"fill:#ffffff;stroke:#ffffff;stroke-width:0.8;\" x=\"56.885369\" xlink:href=\"#m1079f395a4\" y=\"224.64\"/>\n      </g>\n     </g>\n     <g id=\"text_1\">\n      <!-- 0 -->\n      <defs>\n       <path d=\"M 31.78125 66.40625 \nQ 24.171875 66.40625 20.328125 58.90625 \nQ 16.5 51.421875 16.5 36.375 \nQ 16.5 21.390625 20.328125 13.890625 \nQ 24.171875 6.390625 31.78125 6.390625 \nQ 39.453125 6.390625 43.28125 13.890625 \nQ 47.125 21.390625 47.125 36.375 \nQ 47.125 51.421875 43.28125 58.90625 \nQ 39.453125 66.40625 31.78125 66.40625 \nz\nM 31.78125 74.21875 \nQ 44.046875 74.21875 50.515625 64.515625 \nQ 56.984375 54.828125 56.984375 36.375 \nQ 56.984375 17.96875 50.515625 8.265625 \nQ 44.046875 -1.421875 31.78125 -1.421875 \nQ 19.53125 -1.421875 13.0625 8.265625 \nQ 6.59375 17.96875 6.59375 36.375 \nQ 6.59375 54.828125 13.0625 64.515625 \nQ 19.53125 74.21875 31.78125 74.21875 \nz\n\" id=\"DejaVuSans-48\"/>\n      </defs>\n      <g style=\"fill:#ffffff;\" transform=\"translate(53.704119 239.238438)scale(0.1 -0.1)\">\n       <use xlink:href=\"#DejaVuSans-48\"/>\n      </g>\n     </g>\n    </g>\n    <g id=\"xtick_2\">\n     <g id=\"line2d_2\">\n      <g>\n       <use style=\"fill:#ffffff;stroke:#ffffff;stroke-width:0.8;\" x=\"109.361858\" xlink:href=\"#m1079f395a4\" y=\"224.64\"/>\n      </g>\n     </g>\n     <g id=\"text_2\">\n      <!-- 5 -->\n      <defs>\n       <path d=\"M 10.796875 72.90625 \nL 49.515625 72.90625 \nL 49.515625 64.59375 \nL 19.828125 64.59375 \nL 19.828125 46.734375 \nQ 21.96875 47.46875 24.109375 47.828125 \nQ 26.265625 48.1875 28.421875 48.1875 \nQ 40.625 48.1875 47.75 41.5 \nQ 54.890625 34.8125 54.890625 23.390625 \nQ 54.890625 11.625 47.5625 5.09375 \nQ 40.234375 -1.421875 26.90625 -1.421875 \nQ 22.3125 -1.421875 17.546875 -0.640625 \nQ 12.796875 0.140625 7.71875 1.703125 \nL 7.71875 11.625 \nQ 12.109375 9.234375 16.796875 8.0625 \nQ 21.484375 6.890625 26.703125 6.890625 \nQ 35.15625 6.890625 40.078125 11.328125 \nQ 45.015625 15.765625 45.015625 23.390625 \nQ 45.015625 31 40.078125 35.4375 \nQ 35.15625 39.890625 26.703125 39.890625 \nQ 22.75 39.890625 18.8125 39.015625 \nQ 14.890625 38.140625 10.796875 36.28125 \nz\n\" id=\"DejaVuSans-53\"/>\n      </defs>\n      <g style=\"fill:#ffffff;\" transform=\"translate(106.180608 239.238438)scale(0.1 -0.1)\">\n       <use xlink:href=\"#DejaVuSans-53\"/>\n      </g>\n     </g>\n    </g>\n    <g id=\"xtick_3\">\n     <g id=\"line2d_3\">\n      <g>\n       <use style=\"fill:#ffffff;stroke:#ffffff;stroke-width:0.8;\" x=\"161.838347\" xlink:href=\"#m1079f395a4\" y=\"224.64\"/>\n      </g>\n     </g>\n     <g id=\"text_3\">\n      <!-- 10 -->\n      <defs>\n       <path d=\"M 12.40625 8.296875 \nL 28.515625 8.296875 \nL 28.515625 63.921875 \nL 10.984375 60.40625 \nL 10.984375 69.390625 \nL 28.421875 72.90625 \nL 38.28125 72.90625 \nL 38.28125 8.296875 \nL 54.390625 8.296875 \nL 54.390625 0 \nL 12.40625 0 \nz\n\" id=\"DejaVuSans-49\"/>\n      </defs>\n      <g style=\"fill:#ffffff;\" transform=\"translate(155.475847 239.238438)scale(0.1 -0.1)\">\n       <use xlink:href=\"#DejaVuSans-49\"/>\n       <use x=\"63.623047\" xlink:href=\"#DejaVuSans-48\"/>\n      </g>\n     </g>\n    </g>\n    <g id=\"xtick_4\">\n     <g id=\"line2d_4\">\n      <g>\n       <use style=\"fill:#ffffff;stroke:#ffffff;stroke-width:0.8;\" x=\"214.314836\" xlink:href=\"#m1079f395a4\" y=\"224.64\"/>\n      </g>\n     </g>\n     <g id=\"text_4\">\n      <!-- 15 -->\n      <g style=\"fill:#ffffff;\" transform=\"translate(207.952336 239.238438)scale(0.1 -0.1)\">\n       <use xlink:href=\"#DejaVuSans-49\"/>\n       <use x=\"63.623047\" xlink:href=\"#DejaVuSans-53\"/>\n      </g>\n     </g>\n    </g>\n    <g id=\"xtick_5\">\n     <g id=\"line2d_5\">\n      <g>\n       <use style=\"fill:#ffffff;stroke:#ffffff;stroke-width:0.8;\" x=\"266.791325\" xlink:href=\"#m1079f395a4\" y=\"224.64\"/>\n      </g>\n     </g>\n     <g id=\"text_5\">\n      <!-- 20 -->\n      <defs>\n       <path d=\"M 19.1875 8.296875 \nL 53.609375 8.296875 \nL 53.609375 0 \nL 7.328125 0 \nL 7.328125 8.296875 \nQ 12.9375 14.109375 22.625 23.890625 \nQ 32.328125 33.6875 34.8125 36.53125 \nQ 39.546875 41.84375 41.421875 45.53125 \nQ 43.3125 49.21875 43.3125 52.78125 \nQ 43.3125 58.59375 39.234375 62.25 \nQ 35.15625 65.921875 28.609375 65.921875 \nQ 23.96875 65.921875 18.8125 64.3125 \nQ 13.671875 62.703125 7.8125 59.421875 \nL 7.8125 69.390625 \nQ 13.765625 71.78125 18.9375 73 \nQ 24.125 74.21875 28.421875 74.21875 \nQ 39.75 74.21875 46.484375 68.546875 \nQ 53.21875 62.890625 53.21875 53.421875 \nQ 53.21875 48.921875 51.53125 44.890625 \nQ 49.859375 40.875 45.40625 35.40625 \nQ 44.1875 33.984375 37.640625 27.21875 \nQ 31.109375 20.453125 19.1875 8.296875 \nz\n\" id=\"DejaVuSans-50\"/>\n      </defs>\n      <g style=\"fill:#ffffff;\" transform=\"translate(260.428825 239.238438)scale(0.1 -0.1)\">\n       <use xlink:href=\"#DejaVuSans-50\"/>\n       <use x=\"63.623047\" xlink:href=\"#DejaVuSans-48\"/>\n      </g>\n     </g>\n    </g>\n    <g id=\"xtick_6\">\n     <g id=\"line2d_6\">\n      <g>\n       <use style=\"fill:#ffffff;stroke:#ffffff;stroke-width:0.8;\" x=\"319.267814\" xlink:href=\"#m1079f395a4\" y=\"224.64\"/>\n      </g>\n     </g>\n     <g id=\"text_6\">\n      <!-- 25 -->\n      <g style=\"fill:#ffffff;\" transform=\"translate(312.905314 239.238438)scale(0.1 -0.1)\">\n       <use xlink:href=\"#DejaVuSans-50\"/>\n       <use x=\"63.623047\" xlink:href=\"#DejaVuSans-53\"/>\n      </g>\n     </g>\n    </g>\n    <g id=\"xtick_7\">\n     <g id=\"line2d_7\">\n      <g>\n       <use style=\"fill:#ffffff;stroke:#ffffff;stroke-width:0.8;\" x=\"371.744303\" xlink:href=\"#m1079f395a4\" y=\"224.64\"/>\n      </g>\n     </g>\n     <g id=\"text_7\">\n      <!-- 30 -->\n      <defs>\n       <path d=\"M 40.578125 39.3125 \nQ 47.65625 37.796875 51.625 33 \nQ 55.609375 28.21875 55.609375 21.1875 \nQ 55.609375 10.40625 48.1875 4.484375 \nQ 40.765625 -1.421875 27.09375 -1.421875 \nQ 22.515625 -1.421875 17.65625 -0.515625 \nQ 12.796875 0.390625 7.625 2.203125 \nL 7.625 11.71875 \nQ 11.71875 9.328125 16.59375 8.109375 \nQ 21.484375 6.890625 26.8125 6.890625 \nQ 36.078125 6.890625 40.9375 10.546875 \nQ 45.796875 14.203125 45.796875 21.1875 \nQ 45.796875 27.640625 41.28125 31.265625 \nQ 36.765625 34.90625 28.71875 34.90625 \nL 20.21875 34.90625 \nL 20.21875 43.015625 \nL 29.109375 43.015625 \nQ 36.375 43.015625 40.234375 45.921875 \nQ 44.09375 48.828125 44.09375 54.296875 \nQ 44.09375 59.90625 40.109375 62.90625 \nQ 36.140625 65.921875 28.71875 65.921875 \nQ 24.65625 65.921875 20.015625 65.03125 \nQ 15.375 64.15625 9.8125 62.3125 \nL 9.8125 71.09375 \nQ 15.4375 72.65625 20.34375 73.4375 \nQ 25.25 74.21875 29.59375 74.21875 \nQ 40.828125 74.21875 47.359375 69.109375 \nQ 53.90625 64.015625 53.90625 55.328125 \nQ 53.90625 49.265625 50.4375 45.09375 \nQ 46.96875 40.921875 40.578125 39.3125 \nz\n\" id=\"DejaVuSans-51\"/>\n      </defs>\n      <g style=\"fill:#ffffff;\" transform=\"translate(365.381803 239.238438)scale(0.1 -0.1)\">\n       <use xlink:href=\"#DejaVuSans-51\"/>\n       <use x=\"63.623047\" xlink:href=\"#DejaVuSans-48\"/>\n      </g>\n     </g>\n    </g>\n   </g>\n   <g id=\"matplotlib.axis_2\">\n    <g id=\"ytick_1\">\n     <g id=\"line2d_8\">\n      <defs>\n       <path d=\"M 0 0 \nL -3.5 0 \n\" id=\"m3246d2ec34\" style=\"stroke:#ffffff;stroke-width:0.8;\"/>\n      </defs>\n      <g>\n       <use style=\"fill:#ffffff;stroke:#ffffff;stroke-width:0.8;\" x=\"41.667188\" xlink:href=\"#m3246d2ec34\" y=\"191.618956\"/>\n      </g>\n     </g>\n     <g id=\"text_8\">\n      <!-- −250 -->\n      <defs>\n       <path d=\"M 10.59375 35.5 \nL 73.1875 35.5 \nL 73.1875 27.203125 \nL 10.59375 27.203125 \nz\n\" id=\"DejaVuSans-8722\"/>\n      </defs>\n      <g style=\"fill:#ffffff;\" transform=\"translate(7.2 195.418175)scale(0.1 -0.1)\">\n       <use xlink:href=\"#DejaVuSans-8722\"/>\n       <use x=\"83.789062\" xlink:href=\"#DejaVuSans-50\"/>\n       <use x=\"147.412109\" xlink:href=\"#DejaVuSans-53\"/>\n       <use x=\"211.035156\" xlink:href=\"#DejaVuSans-48\"/>\n      </g>\n     </g>\n    </g>\n    <g id=\"ytick_2\">\n     <g id=\"line2d_9\">\n      <g>\n       <use style=\"fill:#ffffff;stroke:#ffffff;stroke-width:0.8;\" x=\"41.667188\" xlink:href=\"#m3246d2ec34\" y=\"151.904903\"/>\n      </g>\n     </g>\n     <g id=\"text_9\">\n      <!-- −200 -->\n      <g style=\"fill:#ffffff;\" transform=\"translate(7.2 155.704122)scale(0.1 -0.1)\">\n       <use xlink:href=\"#DejaVuSans-8722\"/>\n       <use x=\"83.789062\" xlink:href=\"#DejaVuSans-50\"/>\n       <use x=\"147.412109\" xlink:href=\"#DejaVuSans-48\"/>\n       <use x=\"211.035156\" xlink:href=\"#DejaVuSans-48\"/>\n      </g>\n     </g>\n    </g>\n    <g id=\"ytick_3\">\n     <g id=\"line2d_10\">\n      <g>\n       <use style=\"fill:#ffffff;stroke:#ffffff;stroke-width:0.8;\" x=\"41.667188\" xlink:href=\"#m3246d2ec34\" y=\"112.19085\"/>\n      </g>\n     </g>\n     <g id=\"text_10\">\n      <!-- −150 -->\n      <g style=\"fill:#ffffff;\" transform=\"translate(7.2 115.990069)scale(0.1 -0.1)\">\n       <use xlink:href=\"#DejaVuSans-8722\"/>\n       <use x=\"83.789062\" xlink:href=\"#DejaVuSans-49\"/>\n       <use x=\"147.412109\" xlink:href=\"#DejaVuSans-53\"/>\n       <use x=\"211.035156\" xlink:href=\"#DejaVuSans-48\"/>\n      </g>\n     </g>\n    </g>\n    <g id=\"ytick_4\">\n     <g id=\"line2d_11\">\n      <g>\n       <use style=\"fill:#ffffff;stroke:#ffffff;stroke-width:0.8;\" x=\"41.667188\" xlink:href=\"#m3246d2ec34\" y=\"72.476797\"/>\n      </g>\n     </g>\n     <g id=\"text_11\">\n      <!-- −100 -->\n      <g style=\"fill:#ffffff;\" transform=\"translate(7.2 76.276016)scale(0.1 -0.1)\">\n       <use xlink:href=\"#DejaVuSans-8722\"/>\n       <use x=\"83.789062\" xlink:href=\"#DejaVuSans-49\"/>\n       <use x=\"147.412109\" xlink:href=\"#DejaVuSans-48\"/>\n       <use x=\"211.035156\" xlink:href=\"#DejaVuSans-48\"/>\n      </g>\n     </g>\n    </g>\n    <g id=\"ytick_5\">\n     <g id=\"line2d_12\">\n      <g>\n       <use style=\"fill:#ffffff;stroke:#ffffff;stroke-width:0.8;\" x=\"41.667188\" xlink:href=\"#m3246d2ec34\" y=\"32.762744\"/>\n      </g>\n     </g>\n     <g id=\"text_12\">\n      <!-- −50 -->\n      <g style=\"fill:#ffffff;\" transform=\"translate(13.5625 36.561963)scale(0.1 -0.1)\">\n       <use xlink:href=\"#DejaVuSans-8722\"/>\n       <use x=\"83.789062\" xlink:href=\"#DejaVuSans-53\"/>\n       <use x=\"147.412109\" xlink:href=\"#DejaVuSans-48\"/>\n      </g>\n     </g>\n    </g>\n   </g>\n   <g id=\"line2d_13\">\n    <path clip-path=\"url(#p5d09fd22ed)\" d=\"M 56.885369 214.756364 \nL 67.380667 213.215458 \nL 77.875965 208.878684 \nL 88.371263 205.026421 \nL 98.866561 200.816731 \nL 109.361858 189.887424 \nL 119.857156 183.112206 \nL 130.352454 173.088379 \nL 140.847752 162.452956 \nL 151.34305 149.935086 \nL 161.838347 141.849305 \nL 172.333645 122.039936 \nL 182.828943 122.643589 \nL 193.324241 119.784177 \nL 203.819539 125.892199 \nL 214.314836 105.804831 \nL 224.810134 102.802448 \nL 235.305432 67.599912 \nL 245.80073 48.23534 \nL 256.296028 83.469647 \nL 266.791325 50.070129 \nL 277.286623 83.501419 \nL 287.781921 39.649161 \nL 298.277219 41.507779 \nL 308.772517 39.498248 \nL 319.267814 53.064568 \nL 329.763112 38.179741 \nL 340.25841 47.298088 \nL 350.753708 17.083636 \nL 361.249006 18.791341 \n\" style=\"fill:none;stroke:#8dd3c7;stroke-linecap:square;stroke-width:1.5;\"/>\n   </g>\n   <g id=\"patch_3\">\n    <path d=\"M 41.667188 224.64 \nL 41.667188 7.2 \n\" style=\"fill:none;stroke:#ffffff;stroke-linecap:square;stroke-linejoin:miter;stroke-width:0.8;\"/>\n   </g>\n   <g id=\"patch_4\">\n    <path d=\"M 376.467188 224.64 \nL 376.467188 7.2 \n\" style=\"fill:none;stroke:#ffffff;stroke-linecap:square;stroke-linejoin:miter;stroke-width:0.8;\"/>\n   </g>\n   <g id=\"patch_5\">\n    <path d=\"M 41.667188 224.64 \nL 376.467188 224.64 \n\" style=\"fill:none;stroke:#ffffff;stroke-linecap:square;stroke-linejoin:miter;stroke-width:0.8;\"/>\n   </g>\n   <g id=\"patch_6\">\n    <path d=\"M 41.667188 7.2 \nL 376.467188 7.2 \n\" style=\"fill:none;stroke:#ffffff;stroke-linecap:square;stroke-linejoin:miter;stroke-width:0.8;\"/>\n   </g>\n  </g>\n </g>\n <defs>\n  <clipPath id=\"p5d09fd22ed\">\n   <rect height=\"217.44\" width=\"334.8\" x=\"41.667188\" y=\"7.2\"/>\n  </clipPath>\n </defs>\n</svg>\n",
      "image/png": "[encoded data removed]"
     },
     "metadata": {
      "needs_background": "dark"
     }
    }
   ],
   "source": [
    "plt.plot(mean_rewards)"
   ]
  },
  {
   "cell_type": "markdown",
   "metadata": {},
   "source": [
    "# SARSA"
   ]
  },
  {
   "cell_type": "code",
   "execution_count": 93,
   "metadata": {},
   "outputs": [],
   "source": [
    "env = gym.make('CartPole-v0')"
   ]
  },
  {
   "cell_type": "code",
   "execution_count": 103,
   "metadata": {},
   "outputs": [],
   "source": [
    "class SARSAAgent:\n",
    "    def __init__(self, n_states, n_actions, gamma, alpha, epsilon, epsilon_min, epsilon_decay):\n",
    "        self.n_states = n_states\n",
    "        self.n_actions = n_actions\n",
    "        self.GAMMA = gamma\n",
    "        self.ALPHA = alpha\n",
    "        self.EPSILON = epsilon\n",
    "        self.epsilon_min = epsilon_min \n",
    "        self.epsilon_decay = epsilon_decay\n",
    "        self.Q = np.zeros((*n_states, n_actions))\n",
    "        self.bins = self.create_bins()\n",
    "\n",
    "    # e-GREEDY POLICY\n",
    "    def get_action(self, state, greedy=False):\n",
    "        if( (np.random.uniform() >= self.EPSILON) or greedy):\n",
    "            action = np.argmax(self.Q[state])\n",
    "        else:\n",
    "            action = env.action_space.sample()\n",
    "        return action\n",
    "    \n",
    "    # SARSA\n",
    "    def update_q(self, state, action, reward, state_, action_):\n",
    "        q_ = self.Q[state_][action_]\n",
    "        self.Q[state][action] += (self.ALPHA * (reward + (self.GAMMA * q_) - self.Q[state][action]))\n",
    "        self.decay_epsilon()\n",
    "\n",
    "    def decay_epsilon(self):\n",
    "        if(self.EPSILON > self.epsilon_min):\n",
    "            self.EPSILON = self.EPSILON * self.epsilon_decay\n",
    "        else:\n",
    "            self.EPSILON = self.epsilon_min\n",
    "\n",
    "    # DISCRETIZING CONTINUOUS SPACE\n",
    "    def create_bins(self):\n",
    "        bins = [None] * 4\n",
    "        bins[0] = np.linspace(-2.4, 2.4, self.n_states[0])\n",
    "        bins[1] = np.linspace(-5, 5, self.n_states[1])\n",
    "        bins[2] = np.linspace(-0.418, 0.418, self.n_states[2])\n",
    "        bins[3] = np.linspace(-5, 5, self.n_states[3])\n",
    "        return np.array(bins)\n",
    "\n",
    "    # GIVEN OBSERVATION ARRAY AND BINS, RETURNS STATE NUMBER\n",
    "    def get_state(self, observation):\n",
    "        state = [None] * 4\n",
    "        for i in range(4):\n",
    "            state[i] = int(np.digitize(observation[i], self.bins[i]) - 1)\n",
    "        return tuple(state)"
   ]
  },
  {
   "cell_type": "code",
   "execution_count": 104,
   "metadata": {},
   "outputs": [],
   "source": [
    "#PLAY SINGLE EPISODE - SARSA\n",
    "def play_episode(agent):\n",
    "    total_reward = 0\n",
    "\n",
    "    observation = env.reset()\n",
    "    state = agent.get_state(observation)\n",
    "    action = agent.get_action(state)\n",
    "    \n",
    "    for moves in range(MAX_MOVES):\n",
    "\n",
    "        # TAKE ACTION\n",
    "        observation_, reward, done, _ = env.step(action)\n",
    "        state_ = agent.get_state(observation_)\n",
    "        # e-GREEDY\n",
    "        action_ = agent.get_action(state_)\n",
    "\n",
    "        # PUNISH FOR FAILURE\n",
    "        if( done and (moves < (MAX_MOVES - 5)) ):\n",
    "            reward = -300\n",
    "        total_reward += reward\n",
    "\n",
    "        # UPDATE Q-VALUES (On policy)\n",
    "        agent.update_q(state, action, reward, state_, action_)\n",
    "        \n",
    "        state, action = state_, action_\n",
    "\n",
    "        # BREAK IF TERMINATED\n",
    "        if(done): break \n",
    "\n",
    "    return (round(total_reward), round(moves))"
   ]
  },
  {
   "cell_type": "code",
   "execution_count": 107,
   "metadata": {},
   "outputs": [],
   "source": [
    "# Init\n",
    "MAX_MOVES = env._max_episode_steps #200\n",
    "N_STATES = (10, 10, 10, 10)\n",
    "NUM_EPISODES = 3000\n",
    "\n",
    "agent = SARSAAgent(n_states = N_STATES,\n",
    "                   n_actions = env.action_space.n,\n",
    "                   gamma = 0.9,\n",
    "                   alpha = 0.01,\n",
    "                   epsilon = 1.0,\n",
    "                   epsilon_min = 0.01,\n",
    "                   epsilon_decay=0.999978)"
   ]
  },
  {
   "cell_type": "code",
   "execution_count": 108,
   "metadata": {
    "tags": []
   },
   "outputs": [
    {
     "output_type": "stream",
     "name": "stdout",
     "text": "ITER:  99 \tMEAN_REWARD:  -274.15 \tEPSILON:  0.9426 \tLENGTH:  29\n ITER:  199 \tMEAN_REWARD:  -274.27 \tEPSILON:  0.8888 \tLENGTH:  28\n ITER:  299 \tMEAN_REWARD:  -273.98 \tEPSILON:  0.8375 \tLENGTH:  23\n ITER:  399 \tMEAN_REWARD:  -272.06 \tEPSILON:  0.7858 \tLENGTH:  10\n ITER:  499 \tMEAN_REWARD:  -269.38 \tEPSILON:  0.733 \tLENGTH:  21\n ITER:  599 \tMEAN_REWARD:  -262.45 \tEPSILON:  0.6734 \tLENGTH:  23\n ITER:  699 \tMEAN_REWARD:  -258.26 \tEPSILON:  0.613 \tLENGTH:  14\n ITER:  799 \tMEAN_REWARD:  -247.28 \tEPSILON:  0.5483 \tLENGTH:  61\n ITER:  899 \tMEAN_REWARD:  -240.73 \tEPSILON:  0.4802 \tLENGTH:  32\n ITER:  999 \tMEAN_REWARD:  -228.2 \tEPSILON:  0.4091 \tLENGTH:  48\n ITER:  1099 \tMEAN_REWARD:  -164.83 \tEPSILON:  0.3283 \tLENGTH:  98\n ITER:  1199 \tMEAN_REWARD:  -192.18 \tEPSILON:  0.2618 \tLENGTH:  113\n ITER:  1299 \tMEAN_REWARD:  -135.3 \tEPSILON:  0.2008 \tLENGTH:  122\n ITER:  1399 \tMEAN_REWARD:  -176.79 \tEPSILON:  0.1559 \tLENGTH:  107\n ITER:  1499 \tMEAN_REWARD:  -117.27 \tEPSILON:  0.1149 \tLENGTH:  147\n ITER:  1599 \tMEAN_REWARD:  81.69 \tEPSILON:  0.0762 \tLENGTH:  199\n ITER:  1699 \tMEAN_REWARD:  179.2 \tEPSILON:  0.0493 \tLENGTH:  199\n ITER:  1799 \tMEAN_REWARD:  171.84 \tEPSILON:  0.0321 \tLENGTH:  199\n ITER:  1899 \tMEAN_REWARD:  166.0 \tEPSILON:  0.0208 \tLENGTH:  199\n ITER:  1999 \tMEAN_REWARD:  178.8 \tEPSILON:  0.0135 \tLENGTH:  199\n ITER:  2099 \tMEAN_REWARD:  196.61 \tEPSILON:  0.01 \tLENGTH:  199\n ITER:  2199 \tMEAN_REWARD:  193.37 \tEPSILON:  0.01 \tLENGTH:  199\n ITER:  2299 \tMEAN_REWARD:  200.0 \tEPSILON:  0.01 \tLENGTH:  199\n ITER:  2399 \tMEAN_REWARD:  193.6 \tEPSILON:  0.01 \tLENGTH:  199\n ITER:  2499 \tMEAN_REWARD:  196.61 \tEPSILON:  0.01 \tLENGTH:  199\n ITER:  2599 \tMEAN_REWARD:  193.35 \tEPSILON:  0.01 \tLENGTH:  199\n ITER:  2699 \tMEAN_REWARD:  200.0 \tEPSILON:  0.01 \tLENGTH:  199\n ITER:  2799 \tMEAN_REWARD:  189.32 \tEPSILON:  0.01 \tLENGTH:  199\n ITER:  2899 \tMEAN_REWARD:  196.41 \tEPSILON:  0.01 \tLENGTH:  199\n ITER:  2999 \tMEAN_REWARD:  200.0 \tEPSILON:  0.01 \tLENGTH:  199\n"
    }
   ],
   "source": [
    "# TRAINING\n",
    "episode_rewards = []\n",
    "episode_lengths = []\n",
    "mean_rewards = [] # MEAN REWARD OF LAST 100 GAMES\n",
    "\n",
    "for episode_n in (range(NUM_EPISODES)):\n",
    "    \n",
    "    episode_reward, episode_length = play_episode(agent)\n",
    "    episode_rewards.append(episode_reward)\n",
    "    episode_lengths.append(episode_length)\n",
    "\n",
    "    if((episode_n + 1)%100 == 0):\n",
    "        mean_reward = np.mean(episode_rewards[-100:])\n",
    "        mean_rewards.append(mean_reward)\n",
    "        print(\" ITER: \",(episode_n),\"\\tMEAN_REWARD: \",mean_reward ,\"\\tEPSILON: \",round(agent.EPSILON,4), \"\\tLENGTH: \",episode_length)"
   ]
  },
  {
   "cell_type": "code",
   "execution_count": 109,
   "metadata": {},
   "outputs": [
    {
     "output_type": "execute_result",
     "data": {
      "text/plain": "[<matplotlib.lines.Line2D at 0x12be92780>]"
     },
     "metadata": {},
     "execution_count": 109
    },
    {
     "output_type": "display_data",
     "data": {
      "text/plain": "<Figure size 432x288 with 1 Axes>",
      "image/svg+xml": "<?xml version=\"1.0\" encoding=\"utf-8\" standalone=\"no\"?>\n<!DOCTYPE svg PUBLIC \"-//W3C//DTD SVG 1.1//EN\"\n  \"http://www.w3.org/Graphics/SVG/1.1/DTD/svg11.dtd\">\n<!-- Created with matplotlib (https://matplotlib.org/) -->\n<svg height=\"248.518125pt\" version=\"1.1\" viewBox=\"0 0 385.306803 248.518125\" width=\"385.306803pt\" xmlns=\"http://www.w3.org/2000/svg\" xmlns:xlink=\"http://www.w3.org/1999/xlink\">\n <defs>\n  <style type=\"text/css\">\n*{stroke-linecap:butt;stroke-linejoin:round;}\n  </style>\n </defs>\n <g id=\"figure_1\">\n  <g id=\"patch_1\">\n   <path d=\"M 0 248.518125 \nL 385.306803 248.518125 \nL 385.306803 0 \nL 0 0 \nz\n\" style=\"fill:none;\"/>\n  </g>\n  <g id=\"axes_1\">\n   <g id=\"patch_2\">\n    <path d=\"M 41.667188 224.64 \nL 376.467188 224.64 \nL 376.467188 7.2 \nL 41.667188 7.2 \nz\n\"/>\n   </g>\n   <g id=\"matplotlib.axis_1\">\n    <g id=\"xtick_1\">\n     <g id=\"line2d_1\">\n      <defs>\n       <path d=\"M 0 0 \nL 0 3.5 \n\" id=\"m6d87f30c22\" style=\"stroke:#ffffff;stroke-width:0.8;\"/>\n      </defs>\n      <g>\n       <use style=\"fill:#ffffff;stroke:#ffffff;stroke-width:0.8;\" x=\"56.885369\" xlink:href=\"#m6d87f30c22\" y=\"224.64\"/>\n      </g>\n     </g>\n     <g id=\"text_1\">\n      <!-- 0 -->\n      <defs>\n       <path d=\"M 31.78125 66.40625 \nQ 24.171875 66.40625 20.328125 58.90625 \nQ 16.5 51.421875 16.5 36.375 \nQ 16.5 21.390625 20.328125 13.890625 \nQ 24.171875 6.390625 31.78125 6.390625 \nQ 39.453125 6.390625 43.28125 13.890625 \nQ 47.125 21.390625 47.125 36.375 \nQ 47.125 51.421875 43.28125 58.90625 \nQ 39.453125 66.40625 31.78125 66.40625 \nz\nM 31.78125 74.21875 \nQ 44.046875 74.21875 50.515625 64.515625 \nQ 56.984375 54.828125 56.984375 36.375 \nQ 56.984375 17.96875 50.515625 8.265625 \nQ 44.046875 -1.421875 31.78125 -1.421875 \nQ 19.53125 -1.421875 13.0625 8.265625 \nQ 6.59375 17.96875 6.59375 36.375 \nQ 6.59375 54.828125 13.0625 64.515625 \nQ 19.53125 74.21875 31.78125 74.21875 \nz\n\" id=\"DejaVuSans-48\"/>\n      </defs>\n      <g style=\"fill:#ffffff;\" transform=\"translate(53.704119 239.238437)scale(0.1 -0.1)\">\n       <use xlink:href=\"#DejaVuSans-48\"/>\n      </g>\n     </g>\n    </g>\n    <g id=\"xtick_2\">\n     <g id=\"line2d_2\">\n      <g>\n       <use style=\"fill:#ffffff;stroke:#ffffff;stroke-width:0.8;\" x=\"109.361858\" xlink:href=\"#m6d87f30c22\" y=\"224.64\"/>\n      </g>\n     </g>\n     <g id=\"text_2\">\n      <!-- 5 -->\n      <defs>\n       <path d=\"M 10.796875 72.90625 \nL 49.515625 72.90625 \nL 49.515625 64.59375 \nL 19.828125 64.59375 \nL 19.828125 46.734375 \nQ 21.96875 47.46875 24.109375 47.828125 \nQ 26.265625 48.1875 28.421875 48.1875 \nQ 40.625 48.1875 47.75 41.5 \nQ 54.890625 34.8125 54.890625 23.390625 \nQ 54.890625 11.625 47.5625 5.09375 \nQ 40.234375 -1.421875 26.90625 -1.421875 \nQ 22.3125 -1.421875 17.546875 -0.640625 \nQ 12.796875 0.140625 7.71875 1.703125 \nL 7.71875 11.625 \nQ 12.109375 9.234375 16.796875 8.0625 \nQ 21.484375 6.890625 26.703125 6.890625 \nQ 35.15625 6.890625 40.078125 11.328125 \nQ 45.015625 15.765625 45.015625 23.390625 \nQ 45.015625 31 40.078125 35.4375 \nQ 35.15625 39.890625 26.703125 39.890625 \nQ 22.75 39.890625 18.8125 39.015625 \nQ 14.890625 38.140625 10.796875 36.28125 \nz\n\" id=\"DejaVuSans-53\"/>\n      </defs>\n      <g style=\"fill:#ffffff;\" transform=\"translate(106.180608 239.238437)scale(0.1 -0.1)\">\n       <use xlink:href=\"#DejaVuSans-53\"/>\n      </g>\n     </g>\n    </g>\n    <g id=\"xtick_3\">\n     <g id=\"line2d_3\">\n      <g>\n       <use style=\"fill:#ffffff;stroke:#ffffff;stroke-width:0.8;\" x=\"161.838347\" xlink:href=\"#m6d87f30c22\" y=\"224.64\"/>\n      </g>\n     </g>\n     <g id=\"text_3\">\n      <!-- 10 -->\n      <defs>\n       <path d=\"M 12.40625 8.296875 \nL 28.515625 8.296875 \nL 28.515625 63.921875 \nL 10.984375 60.40625 \nL 10.984375 69.390625 \nL 28.421875 72.90625 \nL 38.28125 72.90625 \nL 38.28125 8.296875 \nL 54.390625 8.296875 \nL 54.390625 0 \nL 12.40625 0 \nz\n\" id=\"DejaVuSans-49\"/>\n      </defs>\n      <g style=\"fill:#ffffff;\" transform=\"translate(155.475847 239.238437)scale(0.1 -0.1)\">\n       <use xlink:href=\"#DejaVuSans-49\"/>\n       <use x=\"63.623047\" xlink:href=\"#DejaVuSans-48\"/>\n      </g>\n     </g>\n    </g>\n    <g id=\"xtick_4\">\n     <g id=\"line2d_4\">\n      <g>\n       <use style=\"fill:#ffffff;stroke:#ffffff;stroke-width:0.8;\" x=\"214.314836\" xlink:href=\"#m6d87f30c22\" y=\"224.64\"/>\n      </g>\n     </g>\n     <g id=\"text_4\">\n      <!-- 15 -->\n      <g style=\"fill:#ffffff;\" transform=\"translate(207.952336 239.238437)scale(0.1 -0.1)\">\n       <use xlink:href=\"#DejaVuSans-49\"/>\n       <use x=\"63.623047\" xlink:href=\"#DejaVuSans-53\"/>\n      </g>\n     </g>\n    </g>\n    <g id=\"xtick_5\">\n     <g id=\"line2d_5\">\n      <g>\n       <use style=\"fill:#ffffff;stroke:#ffffff;stroke-width:0.8;\" x=\"266.791325\" xlink:href=\"#m6d87f30c22\" y=\"224.64\"/>\n      </g>\n     </g>\n     <g id=\"text_5\">\n      <!-- 20 -->\n      <defs>\n       <path d=\"M 19.1875 8.296875 \nL 53.609375 8.296875 \nL 53.609375 0 \nL 7.328125 0 \nL 7.328125 8.296875 \nQ 12.9375 14.109375 22.625 23.890625 \nQ 32.328125 33.6875 34.8125 36.53125 \nQ 39.546875 41.84375 41.421875 45.53125 \nQ 43.3125 49.21875 43.3125 52.78125 \nQ 43.3125 58.59375 39.234375 62.25 \nQ 35.15625 65.921875 28.609375 65.921875 \nQ 23.96875 65.921875 18.8125 64.3125 \nQ 13.671875 62.703125 7.8125 59.421875 \nL 7.8125 69.390625 \nQ 13.765625 71.78125 18.9375 73 \nQ 24.125 74.21875 28.421875 74.21875 \nQ 39.75 74.21875 46.484375 68.546875 \nQ 53.21875 62.890625 53.21875 53.421875 \nQ 53.21875 48.921875 51.53125 44.890625 \nQ 49.859375 40.875 45.40625 35.40625 \nQ 44.1875 33.984375 37.640625 27.21875 \nQ 31.109375 20.453125 19.1875 8.296875 \nz\n\" id=\"DejaVuSans-50\"/>\n      </defs>\n      <g style=\"fill:#ffffff;\" transform=\"translate(260.428825 239.238437)scale(0.1 -0.1)\">\n       <use xlink:href=\"#DejaVuSans-50\"/>\n       <use x=\"63.623047\" xlink:href=\"#DejaVuSans-48\"/>\n      </g>\n     </g>\n    </g>\n    <g id=\"xtick_6\">\n     <g id=\"line2d_6\">\n      <g>\n       <use style=\"fill:#ffffff;stroke:#ffffff;stroke-width:0.8;\" x=\"319.267814\" xlink:href=\"#m6d87f30c22\" y=\"224.64\"/>\n      </g>\n     </g>\n     <g id=\"text_6\">\n      <!-- 25 -->\n      <g style=\"fill:#ffffff;\" transform=\"translate(312.905314 239.238437)scale(0.1 -0.1)\">\n       <use xlink:href=\"#DejaVuSans-50\"/>\n       <use x=\"63.623047\" xlink:href=\"#DejaVuSans-53\"/>\n      </g>\n     </g>\n    </g>\n    <g id=\"xtick_7\">\n     <g id=\"line2d_7\">\n      <g>\n       <use style=\"fill:#ffffff;stroke:#ffffff;stroke-width:0.8;\" x=\"371.744303\" xlink:href=\"#m6d87f30c22\" y=\"224.64\"/>\n      </g>\n     </g>\n     <g id=\"text_7\">\n      <!-- 30 -->\n      <defs>\n       <path d=\"M 40.578125 39.3125 \nQ 47.65625 37.796875 51.625 33 \nQ 55.609375 28.21875 55.609375 21.1875 \nQ 55.609375 10.40625 48.1875 4.484375 \nQ 40.765625 -1.421875 27.09375 -1.421875 \nQ 22.515625 -1.421875 17.65625 -0.515625 \nQ 12.796875 0.390625 7.625 2.203125 \nL 7.625 11.71875 \nQ 11.71875 9.328125 16.59375 8.109375 \nQ 21.484375 6.890625 26.8125 6.890625 \nQ 36.078125 6.890625 40.9375 10.546875 \nQ 45.796875 14.203125 45.796875 21.1875 \nQ 45.796875 27.640625 41.28125 31.265625 \nQ 36.765625 34.90625 28.71875 34.90625 \nL 20.21875 34.90625 \nL 20.21875 43.015625 \nL 29.109375 43.015625 \nQ 36.375 43.015625 40.234375 45.921875 \nQ 44.09375 48.828125 44.09375 54.296875 \nQ 44.09375 59.90625 40.109375 62.90625 \nQ 36.140625 65.921875 28.71875 65.921875 \nQ 24.65625 65.921875 20.015625 65.03125 \nQ 15.375 64.15625 9.8125 62.3125 \nL 9.8125 71.09375 \nQ 15.4375 72.65625 20.34375 73.4375 \nQ 25.25 74.21875 29.59375 74.21875 \nQ 40.828125 74.21875 47.359375 69.109375 \nQ 53.90625 64.015625 53.90625 55.328125 \nQ 53.90625 49.265625 50.4375 45.09375 \nQ 46.96875 40.921875 40.578125 39.3125 \nz\n\" id=\"DejaVuSans-51\"/>\n      </defs>\n      <g style=\"fill:#ffffff;\" transform=\"translate(365.381803 239.238437)scale(0.1 -0.1)\">\n       <use xlink:href=\"#DejaVuSans-51\"/>\n       <use x=\"63.623047\" xlink:href=\"#DejaVuSans-48\"/>\n      </g>\n     </g>\n    </g>\n   </g>\n   <g id=\"matplotlib.axis_2\">\n    <g id=\"ytick_1\">\n     <g id=\"line2d_8\">\n      <defs>\n       <path d=\"M 0 0 \nL -3.5 0 \n\" id=\"m7d4f6e3e8d\" style=\"stroke:#ffffff;stroke-width:0.8;\"/>\n      </defs>\n      <g>\n       <use style=\"fill:#ffffff;stroke:#ffffff;stroke-width:0.8;\" x=\"41.667188\" xlink:href=\"#m7d4f6e3e8d\" y=\"183.801099\"/>\n      </g>\n     </g>\n     <g id=\"text_8\">\n      <!-- −200 -->\n      <defs>\n       <path d=\"M 10.59375 35.5 \nL 73.1875 35.5 \nL 73.1875 27.203125 \nL 10.59375 27.203125 \nz\n\" id=\"DejaVuSans-8722\"/>\n      </defs>\n      <g style=\"fill:#ffffff;\" transform=\"translate(7.2 187.600318)scale(0.1 -0.1)\">\n       <use xlink:href=\"#DejaVuSans-8722\"/>\n       <use x=\"83.789062\" xlink:href=\"#DejaVuSans-50\"/>\n       <use x=\"147.412109\" xlink:href=\"#DejaVuSans-48\"/>\n       <use x=\"211.035156\" xlink:href=\"#DejaVuSans-48\"/>\n      </g>\n     </g>\n    </g>\n    <g id=\"ytick_2\">\n     <g id=\"line2d_9\">\n      <g>\n       <use style=\"fill:#ffffff;stroke:#ffffff;stroke-width:0.8;\" x=\"41.667188\" xlink:href=\"#m7d4f6e3e8d\" y=\"142.121733\"/>\n      </g>\n     </g>\n     <g id=\"text_9\">\n      <!-- −100 -->\n      <g style=\"fill:#ffffff;\" transform=\"translate(7.2 145.920952)scale(0.1 -0.1)\">\n       <use xlink:href=\"#DejaVuSans-8722\"/>\n       <use x=\"83.789062\" xlink:href=\"#DejaVuSans-49\"/>\n       <use x=\"147.412109\" xlink:href=\"#DejaVuSans-48\"/>\n       <use x=\"211.035156\" xlink:href=\"#DejaVuSans-48\"/>\n      </g>\n     </g>\n    </g>\n    <g id=\"ytick_3\">\n     <g id=\"line2d_10\">\n      <g>\n       <use style=\"fill:#ffffff;stroke:#ffffff;stroke-width:0.8;\" x=\"41.667188\" xlink:href=\"#m7d4f6e3e8d\" y=\"100.442368\"/>\n      </g>\n     </g>\n     <g id=\"text_10\">\n      <!-- 0 -->\n      <g style=\"fill:#ffffff;\" transform=\"translate(28.304688 104.241586)scale(0.1 -0.1)\">\n       <use xlink:href=\"#DejaVuSans-48\"/>\n      </g>\n     </g>\n    </g>\n    <g id=\"ytick_4\">\n     <g id=\"line2d_11\">\n      <g>\n       <use style=\"fill:#ffffff;stroke:#ffffff;stroke-width:0.8;\" x=\"41.667188\" xlink:href=\"#m7d4f6e3e8d\" y=\"58.763002\"/>\n      </g>\n     </g>\n     <g id=\"text_11\">\n      <!-- 100 -->\n      <g style=\"fill:#ffffff;\" transform=\"translate(15.579688 62.562221)scale(0.1 -0.1)\">\n       <use xlink:href=\"#DejaVuSans-49\"/>\n       <use x=\"63.623047\" xlink:href=\"#DejaVuSans-48\"/>\n       <use x=\"127.246094\" xlink:href=\"#DejaVuSans-48\"/>\n      </g>\n     </g>\n    </g>\n    <g id=\"ytick_5\">\n     <g id=\"line2d_12\">\n      <g>\n       <use style=\"fill:#ffffff;stroke:#ffffff;stroke-width:0.8;\" x=\"41.667188\" xlink:href=\"#m7d4f6e3e8d\" y=\"17.083636\"/>\n      </g>\n     </g>\n     <g id=\"text_12\">\n      <!-- 200 -->\n      <g style=\"fill:#ffffff;\" transform=\"translate(15.579688 20.882855)scale(0.1 -0.1)\">\n       <use xlink:href=\"#DejaVuSans-50\"/>\n       <use x=\"63.623047\" xlink:href=\"#DejaVuSans-48\"/>\n       <use x=\"127.246094\" xlink:href=\"#DejaVuSans-48\"/>\n      </g>\n     </g>\n    </g>\n   </g>\n   <g id=\"line2d_13\">\n    <path clip-path=\"url(#p38aa075a62)\" d=\"M 56.885369 214.706348 \nL 67.380667 214.756364 \nL 77.875965 214.635493 \nL 88.371263 213.83525 \nL 98.866561 212.718243 \nL 109.361858 209.829863 \nL 119.857156 208.083497 \nL 130.352454 203.507103 \nL 140.847752 200.777104 \nL 151.34305 195.55468 \nL 161.838347 169.142466 \nL 172.333645 180.541772 \nL 182.828943 156.834549 \nL 193.324241 174.127318 \nL 203.819539 149.31976 \nL 214.314836 66.394494 \nL 224.810134 25.752944 \nL 235.305432 28.820546 \nL 245.80073 31.254621 \nL 256.296028 25.919662 \nL 266.791325 18.496567 \nL 277.286623 19.846978 \nL 287.781921 17.083636 \nL 298.277219 19.751116 \nL 308.772517 18.496567 \nL 319.267814 19.855314 \nL 329.763112 17.083636 \nL 340.25841 21.534993 \nL 350.753708 18.579926 \nL 361.249006 17.083636 \n\" style=\"fill:none;stroke:#8dd3c7;stroke-linecap:square;stroke-width:1.5;\"/>\n   </g>\n   <g id=\"patch_3\">\n    <path d=\"M 41.667188 224.64 \nL 41.667188 7.2 \n\" style=\"fill:none;stroke:#ffffff;stroke-linecap:square;stroke-linejoin:miter;stroke-width:0.8;\"/>\n   </g>\n   <g id=\"patch_4\">\n    <path d=\"M 376.467188 224.64 \nL 376.467188 7.2 \n\" style=\"fill:none;stroke:#ffffff;stroke-linecap:square;stroke-linejoin:miter;stroke-width:0.8;\"/>\n   </g>\n   <g id=\"patch_5\">\n    <path d=\"M 41.667188 224.64 \nL 376.467188 224.64 \n\" style=\"fill:none;stroke:#ffffff;stroke-linecap:square;stroke-linejoin:miter;stroke-width:0.8;\"/>\n   </g>\n   <g id=\"patch_6\">\n    <path d=\"M 41.667188 7.2 \nL 376.467188 7.2 \n\" style=\"fill:none;stroke:#ffffff;stroke-linecap:square;stroke-linejoin:miter;stroke-width:0.8;\"/>\n   </g>\n  </g>\n </g>\n <defs>\n  <clipPath id=\"p38aa075a62\">\n   <rect height=\"217.44\" width=\"334.8\" x=\"41.667188\" y=\"7.2\"/>\n  </clipPath>\n </defs>\n</svg>\n",
      "image/png": "[encoded data removed]"
     },
     "metadata": {
      "needs_background": "dark"
     }
    }
   ],
   "source": [
    "plt.plot(mean_rewards)"
   ]
  },
  {
   "cell_type": "code",
   "execution_count": null,
   "metadata": {},
   "outputs": [],
   "source": []
  }
 ]
}