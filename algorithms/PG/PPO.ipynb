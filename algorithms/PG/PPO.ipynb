{
  "nbformat": 4,
  "nbformat_minor": 0,
  "metadata": {
    "colab": {
      "name": "PPO.ipynb",
      "provenance": [],
      "collapsed_sections": [
        "HHz9QmCNZnP5"
      ]
    },
    "kernelspec": {
      "name": "python3",
      "display_name": "Python 3"
    },
    "accelerator": "GPU"
  },
  "cells": [
    {
      "cell_type": "code",
      "metadata": {
        "id": "NToXZh79ZWhs"
      },
      "source": [
        "# from google.colab import drive\n",
        "# drive.mount('/content/drive')"
      ],
      "execution_count": null,
      "outputs": []
    },
    {
      "cell_type": "code",
      "metadata": {
        "id": "TR09iDFVZY32"
      },
      "source": [
        "# ROOT = \"/content/drive/My Drive/Practice/RL/PG\""
      ],
      "execution_count": null,
      "outputs": []
    },
    {
      "cell_type": "code",
      "metadata": {
        "id": "SdetM5pf6_a5"
      },
      "source": [
        "# %%capture\n",
        "# !pip install box2d-py"
      ],
      "execution_count": null,
      "outputs": []
    },
    {
      "cell_type": "code",
      "metadata": {
        "id": "UAYac2gtZMR8"
      },
      "source": [
        "import os\n",
        "import cv2\n",
        "import gym\n",
        "import time\n",
        "\n",
        "import numpy as np\n",
        "import torch as T\n",
        "import torch.optim as optim\n",
        "import torch.nn as nn\n",
        "import torch.nn.functional as F\n",
        "import matplotlib.pyplot as plt\n",
        "\n",
        "from tqdm.notebook import tqdm\n",
        "\n",
        "%matplotlib inline"
      ],
      "execution_count": null,
      "outputs": []
    },
    {
      "cell_type": "code",
      "metadata": {
        "id": "ggQa0NiHZk1y",
        "outputId": "261404af-9c15-4963-fd88-0a38fdb34fe9",
        "colab": {
          "base_uri": "https://localhost:8080/",
          "height": 36
        }
      },
      "source": [
        "# T.cuda.get_device_name()"
      ],
      "execution_count": null,
      "outputs": [
        {
          "output_type": "execute_result",
          "data": {
            "application/vnd.google.colaboratory.intrinsic+json": {
              "type": "string"
            },
            "text/plain": [
              "'Tesla T4'"
            ]
          },
          "metadata": {
            "tags": []
          },
          "execution_count": 46
        }
      ]
    },
    {
      "cell_type": "markdown",
      "metadata": {
        "id": "HHz9QmCNZnP5"
      },
      "source": [
        "## **Memory**"
      ]
    },
    {
      "cell_type": "code",
      "metadata": {
        "id": "v1-Gdtw1Zo_K"
      },
      "source": [
        "class Memory:\n",
        "    def __init__(self):\n",
        "        self.states = []\n",
        "        self.actions = []\n",
        "        self.logprobs = []\n",
        "        self.rewards = []\n",
        "        self.terminals = []\n",
        "\n",
        "    def store_step(self, state, action, logprob, reward, terminal):\n",
        "        self.states.append(T.tensor(state, dtype=T.float32))\n",
        "        self.actions.append(T.tensor(action, dtype=T.float32))\n",
        "        self.logprobs.append(T.tensor(logprob, dtype=T.float32))\n",
        "        self.rewards.append(T.tensor(reward, dtype=T.float32))\n",
        "        self.terminals.append(T.tensor(terminal, dtype=T.bool))\n",
        "    \n",
        "    def clear(self):\n",
        "        del self.states[:]\n",
        "        del self.actions[:]\n",
        "        del self.logprobs[:]\n",
        "        del self.rewards[:]\n",
        "        del self.terminals[:]\n",
        "\n",
        "    def __len__(self):\n",
        "        return len(self.states)"
      ],
      "execution_count": null,
      "outputs": []
    },
    {
      "cell_type": "markdown",
      "metadata": {
        "id": "egKtwQD5_XY2"
      },
      "source": [
        "## **Network**"
      ]
    },
    {
      "cell_type": "code",
      "metadata": {
        "id": "TnHjQDnocx2w"
      },
      "source": [
        "class PolicyNetwork(nn.Module):\n",
        "    def __init__(self, lr, observation_shape, n_actions, model_name, model_dir, old_policy = False):\n",
        "        super().__init__()\n",
        "        self.model_dir = model_dir\n",
        "        self.model_file = os.path.join(self.model_dir, model_name)\n",
        "\n",
        "        # ACTOR\n",
        "        self.actor = nn.Sequential(\n",
        "            nn.Linear(observation_shape[0], 256),\n",
        "            nn.LeakyReLU(),\n",
        "            nn.Linear(256, 1024),\n",
        "            nn.Tanh(),\n",
        "            nn.Linear(1024, 512),\n",
        "            nn.Tanh(),\n",
        "            nn.Linear(512, 64),\n",
        "            nn.Tanh(),\n",
        "            nn.Linear(64, n_actions),\n",
        "        )\n",
        "\n",
        "        # CRITIC\n",
        "        self.critic = nn.Sequential(\n",
        "            nn.Linear(observation_shape[0], 256),\n",
        "            nn.LeakyReLU(),\n",
        "            nn.Linear(256, 1024),\n",
        "            nn.Tanh(),\n",
        "            nn.Linear(1024, 512),\n",
        "            nn.Tanh(),\n",
        "            nn.Linear(512, 64),\n",
        "            nn.Tanh(),\n",
        "            nn.Linear(64, 1),\n",
        "        )\n",
        "\n",
        "        # UTILS\n",
        "        self.device = T.device('cuda:0' if T.cuda.is_available() else 'cpu')\n",
        "        self.loss = nn.SmoothL1Loss()\n",
        "        if(not old_policy):\n",
        "            self.optimizer = optim.Adam(self.parameters(), lr=lr, betas=(0.9, 0.999))\n",
        "        self.to(self.device)\n",
        "\n",
        "    def forward(self):\n",
        "        raise NotImplementedError # CUSTOM actor & critic\n",
        "\n",
        "    def save_model(self):\n",
        "        print(\"[INFO] - Saving model\")\n",
        "        checkpoint = {\n",
        "            'model_state_dict': self.state_dict(),\n",
        "            'optimizer_state_dict' : self.optimizer.state_dict()\n",
        "        }\n",
        "        T.save(checkpoint, self.model_file)\n",
        "    \n",
        "    def load_model(self, cpu=False):\n",
        "        print(\"[INFO] - Loading model\")\n",
        "        \n",
        "        map_location = T.device('cpu') if (cpu) else None\n",
        "        \n",
        "        checkpoint = T.load(self.model_file, map_location=map_location)\n",
        "        self.load_state_dict(checkpoint['model_state_dict'])\n",
        "        self.optimizer.load_state_dict(checkpoint['optimizer_state_dict'])"
      ],
      "execution_count": null,
      "outputs": []
    },
    {
      "cell_type": "markdown",
      "metadata": {
        "id": "Sbf0vqmd_apI"
      },
      "source": [
        "## **Agent**"
      ]
    },
    {
      "cell_type": "code",
      "metadata": {
        "id": "QISQ4EV7g61F"
      },
      "source": [
        "class PPOAgent:\n",
        "    def __init__(self, observation_shape, n_actions, lr, gamma, epsilon_clip, k_epochs, policy_update_frequency, algo_name, env_name, model_dir):\n",
        "        self.observation_shape = observation_shape\n",
        "        self.n_actions = n_actions\n",
        "        self.LR = lr\n",
        "        self.GAMMA = gamma\n",
        "        self.EPS_CLIP = epsilon_clip\n",
        "        self.K_EPOCHS = k_epochs\n",
        "        # MEMORY\n",
        "        self.memory = Memory()\n",
        "        # NETWORK\n",
        "        self.move_counter = 0\n",
        "        self.policy_update_frequency = policy_update_frequency\n",
        "        self.policy = PolicyNetwork(lr, observation_shape, n_actions,\n",
        "                                    model_name = env_name+'_'+algo_name+'.pth',\n",
        "                                    model_dir = model_dir)\n",
        "        self.policy_old = PolicyNetwork(lr, observation_shape, n_actions,\n",
        "                                    model_name = 'UNSAVED',\n",
        "                                    model_dir = 'UNSAVED',\n",
        "                                    old_policy = True)\n",
        "        self.policy_old.load_state_dict(self.policy.state_dict())\n",
        "        \n",
        "    \n",
        "\n",
        "    def get_action(self, observation, eval=False):\n",
        "        if(not eval):\n",
        "            self.policy_old.eval()\n",
        "            # USE policy_old DURING TRAIN\n",
        "            observation = T.tensor([observation], dtype=T.float32).to(self.policy_old.device)\n",
        "            probabilities = self.policy_old.actor(observation)\n",
        "            probabilities = F.softmax(probabilities, dim=1)\n",
        "            action_distribution = T.distributions.Categorical(probabilities)\n",
        "            action = action_distribution.sample()\n",
        "            logprob = action_distribution.log_prob(action)\n",
        "            self.policy_old.train()\n",
        "            return action.item(), logprob.item()\n",
        "        else:\n",
        "            # USE policy DURING EVAL\n",
        "            self.policy.eval()\n",
        "            observation = T.tensor([observation], dtype=T.float32).to(self.policy.device)\n",
        "            probabilities = self.policy.actor(observation)\n",
        "            probabilities = F.softmax(probabilities, dim=1)\n",
        "            action = T.argmax(probabilities)\n",
        "            self.policy.train()\n",
        "            return action.item()\n",
        "\n",
        "    # EVALUATE USING policy WITH grad\n",
        "    def get_value(self, observations, actions):\n",
        "        probabilities = self.policy.actor(observations)\n",
        "        probabilities = F.softmax(probabilities, dim=1)\n",
        "        action_distribution = T.distributions.Categorical(probabilities)\n",
        "        logprobs = action_distribution.log_prob(actions)\n",
        "        entropy = action_distribution.entropy()\n",
        "        state_values = self.policy.critic(observations)\n",
        "        return T.squeeze(state_values), logprobs, entropy\n",
        "\n",
        "    def learn(self):\n",
        "        # MONTE CARLO VALUE ESTIMATE\n",
        "        G = []\n",
        "        G_t = 0\n",
        "        for old_reward, old_terminal in zip(reversed(self.memory.rewards), reversed(self.memory.terminals)):\n",
        "            if old_terminal: \n",
        "                G_t = 0\n",
        "            G_t = old_reward + (self.GAMMA * G_t)\n",
        "            G.insert(0, G_t.item())\n",
        "        \n",
        "        old_rewards = T.tensor(G, dtype=T.float32).to(self.policy.device)\n",
        "        old_rewards = (old_rewards - old_rewards.mean()) / (old_rewards.std() + 1e-5)\n",
        "        \n",
        "        # TO TENSOR (actions taken by policy_old)\n",
        "        old_states = T.stack(self.memory.states).to(self.policy.device).detach()\n",
        "        old_actions = T.stack(self.memory.actions).to(self.policy.device).detach()\n",
        "        old_logprobs = T.stack(self.memory.logprobs).to(self.policy.device).detach()\n",
        "\n",
        "        # OPTIMISE POLICY FOR k_epochs\n",
        "        for _ in range(self.K_EPOCHS):\n",
        "            # EVALUATE old_actions ON old_states\n",
        "            state_values, logprobs, entropy = self.get_value(old_states, old_actions)\n",
        "            # RATIO (pi_theta / pi_theta__old):\n",
        "            ratios = T.exp(logprobs - old_logprobs.detach())\n",
        "            # Finding Surrogate Loss:\n",
        "            advantages = old_rewards - state_values.detach()\n",
        "            surr1 = ratios * advantages\n",
        "            surr2 = T.clamp(ratios, 1-self.EPS_CLIP, 1+self.EPS_CLIP) * advantages\n",
        "            loss = -T.min(surr1, surr2) + 0.5*self.policy.loss(state_values, old_rewards) - 0.01*entropy\n",
        "            # TAKE GRAD STEP\n",
        "            self.policy.optimizer.zero_grad()\n",
        "            loss.mean().backward()\n",
        "            self.policy.optimizer.step()\n",
        "        \n",
        "        self.policy_old.load_state_dict(self.policy.state_dict())\n",
        "\n",
        "    def save_models(self):\n",
        "        self.policy.save_model()\n",
        "    \n",
        "    def load_models(self, cpu=False):\n",
        "        self.policy.load_model(cpu)"
      ],
      "execution_count": null,
      "outputs": []
    },
    {
      "cell_type": "markdown",
      "metadata": {
        "id": "TAAOv4zx6lX4"
      },
      "source": [
        "## **Training**"
      ]
    },
    {
      "cell_type": "code",
      "metadata": {
        "id": "5LpW_zWLx8d7"
      },
      "source": [
        "env_name = \"LunarLander-v2\"\n",
        "env = gym.make(env_name)"
      ],
      "execution_count": null,
      "outputs": []
    },
    {
      "cell_type": "code",
      "metadata": {
        "id": "L4_oEl7Ax8jc"
      },
      "source": [
        "agent = PPOAgent(observation_shape = env.observation_space.shape,\n",
        "                 n_actions = env.action_space.n,\n",
        "                 lr = 1e-4,\n",
        "                 gamma = 0.99,\n",
        "                 epsilon_clip = 0.2,\n",
        "                 k_epochs = 8,\n",
        "                 policy_update_frequency = 1200,\n",
        "                 algo_name = 'PPO',\n",
        "                 env_name = env_name,\n",
        "                 model_dir = '.')"
      ],
      "execution_count": null,
      "outputs": []
    },
    {
      "cell_type": "code",
      "metadata": {
        "id": "LPXZ9J9Jx8mM"
      },
      "source": [
        "N_EPISODES = 2000\n",
        "\n",
        "episode_rewards, episode_lengths, mean_rewards = [],[],[]\n",
        "best_reward = -np.inf"
      ],
      "execution_count": null,
      "outputs": []
    },
    {
      "cell_type": "code",
      "metadata": {
        "id": "Lr1FSmlcx8o1"
      },
      "source": [
        "for episode_n in tqdm(range(N_EPISODES)):\n",
        "    total_reward, total_moves = 0,0\n",
        "\n",
        "    done = False\n",
        "    observation = env.reset()\n",
        "\n",
        "    while not done:\n",
        "        agent.move_counter += 1\n",
        "        # RUNNING policy_old:\n",
        "        action, logprob = agent.get_action(observation)\n",
        "        observation_, reward, done, _ = env.step(action)\n",
        "\n",
        "        agent.memory.store_step(observation, action, logprob, reward, done)\n",
        "        total_reward += reward\n",
        "        total_moves += 1\n",
        "\n",
        "        if ((agent.move_counter % agent.policy_update_frequency) == 0):\n",
        "            agent.learn()\n",
        "            agent.memory.clear()\n",
        "        \n",
        "        if (total_moves > 300):\n",
        "            break\n",
        "        observation = observation_\n",
        "        \n",
        "    episode_rewards.append(total_reward)\n",
        "    episode_lengths.append(total_moves)\n",
        "\n",
        "    mean_reward = np.mean(episode_rewards[-100:])\n",
        "    mean_rewards.append(mean_reward)\n",
        "    if(mean_reward > best_reward):\n",
        "        best_reward = mean_reward\n",
        "        agent.save_models()\n",
        "        \n",
        "    print(\"ITER: \",episode_n,\"\\tRWD: \",round(total_reward,2),\"\\tM_RWD: \",round(mean_reward,2),\"\\tLEN: \",total_moves)"
      ],
      "execution_count": null,
      "outputs": []
    },
    {
      "cell_type": "markdown",
      "metadata": {
        "id": "5RQNbpaqJUth"
      },
      "source": [
        "## **Graphs**"
      ]
    },
    {
      "cell_type": "code",
      "metadata": {
        "id": "6xkW3fSsZRXG",
        "outputId": "fd1a73eb-0f05-47ef-fe6e-9fcd35dc2c0f",
        "colab": {
          "base_uri": "https://localhost:8080/",
          "height": 282
        }
      },
      "source": [
        "plt.plot(mean_rewards) #6 new arch, SmoothL1, Tanh (1e-4)"
      ],
      "execution_count": null,
      "outputs": [
        {
          "output_type": "execute_result",
          "data": {
            "text/plain": [
              "[<matplotlib.lines.Line2D at 0x7f8ed4470470>]"
            ]
          },
          "metadata": {
            "tags": []
          },
          "execution_count": 31
        },
        {
          "output_type": "display_data",
          "data": {
            "image/png": "[encoded data removed]",
            "text/plain": [
              "<Figure size 432x288 with 1 Axes>"
            ]
          },
          "metadata": {
            "tags": [],
            "needs_background": "light"
          }
        }
      ]
    },
    {
      "cell_type": "code",
      "metadata": {
        "id": "XYITZvt0DeJn",
        "outputId": "a03f60b9-138a-4c5d-92f1-2efb00688fea",
        "colab": {
          "base_uri": "https://localhost:8080/",
          "height": 283
        }
      },
      "source": [
        "splt.plot(mean_rewards) #4 SmoothL1, Tanh (1e-3)"
      ],
      "execution_count": null,
      "outputs": [
        {
          "output_type": "execute_result",
          "data": {
            "text/plain": [
              "[<matplotlib.lines.Line2D at 0x7f6e67561b00>]"
            ]
          },
          "metadata": {
            "tags": []
          },
          "execution_count": 32
        },
        {
          "output_type": "display_data",
          "data": {
            "image/png": "[encoded data removed]",
            "text/plain": [
              "<Figure size 432x288 with 1 Axes>"
            ]
          },
          "metadata": {
            "tags": [],
            "needs_background": "light"
          }
        }
      ]
    }
  ]
}