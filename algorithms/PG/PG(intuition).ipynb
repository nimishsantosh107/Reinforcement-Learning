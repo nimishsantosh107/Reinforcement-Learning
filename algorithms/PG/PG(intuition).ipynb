{
  "nbformat": 4,
  "nbformat_minor": 0,
  "metadata": {
    "colab": {
      "name": "PG.ipynb",
      "provenance": [],
      "collapsed_sections": []
    },
    "kernelspec": {
      "name": "python3",
      "display_name": "Python 3"
    },
    "accelerator": "GPU"
  },
  "cells": [
    {
      "cell_type": "code",
      "metadata": {
        "id": "2HOxo_6h-Vne",
        "colab_type": "code",
        "colab": {}
      },
      "source": [
        "%%capture\n",
        "!pip install box2d-py"
      ],
      "execution_count": null,
      "outputs": []
    },
    {
      "cell_type": "code",
      "metadata": {
        "id": "ty-NDn02AH7z",
        "colab_type": "code",
        "colab": {}
      },
      "source": [
        "import os\n",
        "import cv2\n",
        "import gym\n",
        "import time\n",
        "import collections\n",
        "\n",
        "import numpy as np\n",
        "import torch as T\n",
        "import torch.optim as optim\n",
        "import torch.nn as nn\n",
        "import torch.nn.functional as F\n",
        "import matplotlib.pyplot as plt\n",
        "\n",
        "from tqdm.notebook import tqdm\n",
        "\n",
        "%matplotlib inline"
      ],
      "execution_count": null,
      "outputs": []
    },
    {
      "cell_type": "code",
      "metadata": {
        "id": "AnOM6eA9APaC",
        "colab_type": "code",
        "colab": {
          "base_uri": "https://localhost:8080/",
          "height": 36
        },
        "outputId": "f4e4fa60-ca3c-477d-a386-9eb2ade28ca3"
      },
      "source": [
        "T.cuda.get_device_name()"
      ],
      "execution_count": null,
      "outputs": [
        {
          "output_type": "execute_result",
          "data": {
            "application/vnd.google.colaboratory.intrinsic+json": {
              "type": "string"
            },
            "text/plain": [
              "'Tesla T4'"
            ]
          },
          "metadata": {
            "tags": []
          },
          "execution_count": 3
        }
      ]
    },
    {
      "cell_type": "markdown",
      "metadata": {
        "id": "M9tPvuJlAP66",
        "colab_type": "text"
      },
      "source": [
        "## **Network**"
      ]
    },
    {
      "cell_type": "code",
      "metadata": {
        "id": "XGMookTQARSY",
        "colab_type": "code",
        "colab": {}
      },
      "source": [
        "class PolicyNetwork(nn.Module):\n",
        "    def __init__(self, lr, observation_shape, n_actions):\n",
        "        super().__init__()\n",
        "        # ANN\n",
        "        self.fc1 = nn.Linear(observation_shape[0], 128)\n",
        "        self.fc2 = nn.Linear(128, 128)\n",
        "        self.out = nn.Linear(128, n_actions)\n",
        "        # UTILS\n",
        "        self.device = T.device('cuda:0' if T.cuda.is_available() else 'cpu')\n",
        "        self.optimizer = optim.Adam(self.parameters(), lr=lr)\n",
        "        self.to(self.device)\n",
        "\n",
        "    def forward(self, state):\n",
        "        t = F.relu(self.fc1(state))\n",
        "        t = F.relu(self.fc2(t))\n",
        "        t = self.out(t)\n",
        "        return t"
      ],
      "execution_count": null,
      "outputs": []
    },
    {
      "cell_type": "markdown",
      "metadata": {
        "id": "yorWTOLCDLab",
        "colab_type": "text"
      },
      "source": [
        "## **Agent**"
      ]
    },
    {
      "cell_type": "code",
      "metadata": {
        "id": "sd0ib6qZDK3k",
        "colab_type": "code",
        "colab": {}
      },
      "source": [
        "class PolicyGradientAgent:\n",
        "    def __init__(self, observation_shape, n_actions, lr, gamma):\n",
        "        self.observation_shape = observation_shape\n",
        "        self.n_actions = n_actions\n",
        "        self.LR = lr\n",
        "        self.GAMMA = gamma\n",
        "        # MEMORY\n",
        "        self.reward_memory = []\n",
        "        self.action_logprobs_memory = []\n",
        "        # POLICY\n",
        "        self.policy = PolicyNetwork(lr, observation_shape, n_actions)\n",
        "        \n",
        "    def get_action(self, observation):\n",
        "        observation = T.tensor(observation, dtype=T.float32).to(self.policy.device)\n",
        "        state = T.unsqueeze(observation, 0)\n",
        "        # PROB DISTRIBUTION\n",
        "        probabilities = F.softmax(self.policy(state))\n",
        "        action_distribution = T.distributions.Categorical(probabilities)\n",
        "        # ACTION & LOG_PROB\n",
        "        action = action_distribution.sample()\n",
        "        logprob = action_distribution.log_prob(action)\n",
        "        return action.item(), logprob\n",
        "\n",
        "    def store_step(self, reward, logprob):\n",
        "        self.reward_memory.append(reward)\n",
        "        self.action_logprobs_memory.append(logprob)\n",
        "\n",
        "    def learn(self):\n",
        "        # G_t = R_t+1 + (gamma * R_t+2) + (gamma^2 * R_t+3) ...\n",
        "        # SUM k = 0 to T {gamma^k * R_t+k+1}\n",
        "        G = np.zeros_like(self.reward_memory, dtype=np.float64)\n",
        "        for t in range(len(self.reward_memory)):\n",
        "            G_t = 0\n",
        "            for k in range(t, len(self.reward_memory)):\n",
        "                G_t += (self.GAMMA**(k-t)) * self.reward_memory[k]\n",
        "            G[t] = G_t\n",
        "        G = T.tensor(G).to(self.policy.device)\n",
        "        # LOSS CALC & BACKPROP\n",
        "        loss = 0\n",
        "        for G_t, logprob in zip(G, self.action_logprobs_memory):\n",
        "            loss += -(G_t) * logprob\n",
        "        self.policy.optimizer.zero_grad()\n",
        "        loss.backward()\n",
        "        self.policy.optimizer.step()\n",
        "        #RESET\n",
        "        self.reward_memory = []\n",
        "        self.action_logprobs_memory = []"
      ],
      "execution_count": null,
      "outputs": []
    },
    {
      "cell_type": "markdown",
      "metadata": {
        "id": "kIYqzCovPmpA",
        "colab_type": "text"
      },
      "source": [
        "## **Training**"
      ]
    },
    {
      "cell_type": "code",
      "metadata": {
        "id": "y1cZTkjMNfZC",
        "colab_type": "code",
        "colab": {}
      },
      "source": [
        "env_name = \"LunarLander-v2\"\n",
        "env = gym.make(env_name)\n",
        "\n",
        "N_EPISODES = 3000"
      ],
      "execution_count": null,
      "outputs": []
    },
    {
      "cell_type": "code",
      "metadata": {
        "id": "kVaq1cbwPq4m",
        "colab_type": "code",
        "colab": {}
      },
      "source": [
        "agent = PolicyGradientAgent(observation_shape=env.observation_space.shape,\n",
        "                            n_actions=env.action_space.n,\n",
        "                            lr=5e-4,                        # SMALL TO PREVENT LARGE CHANGES IN POLICY\n",
        "                            gamma=0.99)"
      ],
      "execution_count": null,
      "outputs": []
    },
    {
      "cell_type": "code",
      "metadata": {
        "id": "hqBvWQ30QUaZ",
        "colab_type": "code",
        "colab": {}
      },
      "source": [
        "asepisode_rewards, episode_lengths, mean_rewards = [],[],[]\n",
        "best_reward = -np.inf\n",
        "\n",
        "for episode_n in tqdm(range(N_EPISODES)):\n",
        "    total_reward, total_moves = 0,0\n",
        "\n",
        "    done = False\n",
        "    observation = env.reset()\n",
        "\n",
        "    while not done:\n",
        "        action, logprob = agent.get_action(observation)\n",
        "        observation_, reward, done, _ = env.step(action)\n",
        "\n",
        "        agent.store_step(reward, logprob)\n",
        "        total_reward += reward\n",
        "        total_moves += 1\n",
        "        \n",
        "        observation = observation_\n",
        "    \n",
        "    episode_rewards.append(total_reward)\n",
        "    episode_lengths.append(total_moves)\n",
        "\n",
        "    agent.learn()\n",
        "\n",
        "    mean_reward = np.mean(episode_rewards[-100:])\n",
        "    mean_rewards.append(mean_reward)\n",
        "    if(mean_reward > best_reward):\n",
        "        best_reward = mean_reward\n",
        "\n",
        "    print(\"ITER: \",episode_n,\"\\tRWD: \",round(total_reward,2),\"\\tM_RWD: \",round(mean_reward,2),\"\\tLEN: \",total_moves)"
      ],
      "execution_count": null,
      "outputs": []
    },
    {
      "cell_type": "code",
      "metadata": {
        "id": "fasMBWJxeLXw",
        "colab_type": "code",
        "colab": {
          "base_uri": "https://localhost:8080/",
          "height": 286
        },
        "outputId": "b658ac39-8267-403b-bc45-084c26e111d0"
      },
      "source": [
        "plt.plot(mean_rewards)"
      ],
      "execution_count": null,
      "outputs": [
        {
          "output_type": "execute_result",
          "data": {
            "text/plain": [
              "[<matplotlib.lines.Line2D at 0x7f8028104e48>]"
            ]
          },
          "metadata": {
            "tags": []
          },
          "execution_count": 24
        },
        {
          "output_type": "display_data",
          "data": {
            "image/png": "[encoded data removed]",
            "text/plain": [
              "<Figure size 432x288 with 1 Axes>"
            ]
          },
          "metadata": {
            "tags": [],
            "needs_background": "light"
          }
        }
      ]
    }
  ]
}