{
 "metadata": {
  "language_info": {
   "codemirror_mode": {
    "name": "ipython",
    "version": 3
   },
   "file_extension": ".py",
   "mimetype": "text/x-python",
   "name": "python",
   "nbconvert_exporter": "python",
   "pygments_lexer": "ipython3",
   "version": "3.6.10-final"
  },
  "orig_nbformat": 2,
  "kernelspec": {
   "name": "python_defaultSpec_1596468081883",
   "display_name": "Python 3.6.10 64-bit ('reinforcement-learning': conda)"
  }
 },
 "nbformat": 4,
 "nbformat_minor": 2,
 "cells": [
  {
   "cell_type": "markdown",
   "metadata": {},
   "source": [
    "# Init"
   ]
  },
  {
   "cell_type": "code",
   "execution_count": 1,
   "metadata": {},
   "outputs": [],
   "source": [
    "import gym\n",
    "import numpy as np\n",
    "import matplotlib.pyplot as plt\n",
    "\n",
    "from tqdm import tqdm\n",
    "\n",
    "%matplotlib inline"
   ]
  },
  {
   "cell_type": "markdown",
   "metadata": {},
   "source": [
    "# Simple implementation"
   ]
  },
  {
   "cell_type": "code",
   "execution_count": 2,
   "metadata": {},
   "outputs": [],
   "source": [
    "env = gym.make('CartPole-v1')"
   ]
  },
  {
   "cell_type": "code",
   "execution_count": null,
   "metadata": {
    "tags": []
   },
   "outputs": [],
   "source": [
    "# TRAINING - RANDOM WEIGHTS\n",
    "MAX_MOVES = 500 #Cartpole-v1\n",
    "\n",
    "best_length = 0\n",
    "best_weights = None\n",
    "\n",
    "for weights in tqdm(range(100)):\n",
    "    weights_arr = np.random.uniform(-1,1,4)\n",
    "    game_lengths = []\n",
    "\n",
    "    for game in range(100):\n",
    "\n",
    "        observation = env.reset()\n",
    "        for moves in range(MAX_MOVES):\n",
    "            # env.render()\n",
    "            action = 1 if(np.dot(weights_arr, observation) > 0) else 0 \n",
    "            observation, reward, done, info = env.step(action)\n",
    "\n",
    "            if(done):\n",
    "                game_lengths.append(moves)\n",
    "                break\n",
    "\n",
    "    average_length = sum(game_lengths) / len(game_lengths)\n",
    "    if (average_length > best_length):\n",
    "        best_length = average_length\n",
    "        best_weights = weights_arr\n",
    "\n",
    "print(\"\\nBEST LENGTH: \",best_length)"
   ]
  },
  {
   "cell_type": "code",
   "execution_count": null,
   "metadata": {
    "tags": []
   },
   "outputs": [],
   "source": [
    "# TESTING\n",
    "weights_arr = best_weights\n",
    "\n",
    "observation = env.reset()\n",
    "for moves in tqdm(range(MAX_MOVES)):\n",
    "    env.render()\n",
    "    action = 1 if(np.dot(weights_arr, observation) > 0) else 0 \n",
    "    observation, reward, done, info = env.step(action)\n",
    "\n",
    "    if(done):\n",
    "        print(\"MOVES: \",moves)\n",
    "        break\n",
    "\n",
    "env.close()"
   ]
  },
  {
   "cell_type": "markdown",
   "metadata": {},
   "source": [
    "# Q-Learning & SARSA"
   ]
  },
  {
   "cell_type": "code",
   "execution_count": 2,
   "metadata": {},
   "outputs": [],
   "source": [
    "env = gym.make('CartPole-v0')"
   ]
  },
  {
   "cell_type": "code",
   "execution_count": 3,
   "metadata": {},
   "outputs": [],
   "source": [
    "# DISCRETIZING CONTINUOUS SPACE\n",
    "def create_bins():\n",
    "    bins = np.zeros((4,10))\n",
    "    bins[0] = np.linspace(-2.4, 2.4, 10)\n",
    "    bins[1] = np.linspace(-5, 5, 10)\n",
    "    bins[2] = np.linspace(-0.418, 0.418, 10)\n",
    "    bins[3] = np.linspace(-5, 5, 10)\n",
    "    return bins\n",
    "\n",
    "# GIVEN OBSERVATION ARRAY AND BINS, RETURNS STATE NUMBER\n",
    "def get_state(observation, bins):\n",
    "    state = [None] * 4\n",
    "    for i in range(4):\n",
    "        state[i] = int(np.digitize(observation[i], bins[i]) - 1)\n",
    "    return tuple(state)"
   ]
  },
  {
   "cell_type": "markdown",
   "metadata": {},
   "source": [
    "## Q-Learning"
   ]
  },
  {
   "cell_type": "code",
   "execution_count": 7,
   "metadata": {},
   "outputs": [],
   "source": [
    "#GET ACTION BY POLICY (e-GREEDY)\n",
    "def get_action(Q, state, epsilon):\n",
    "    if (np.random.uniform() < epsilon):\n",
    "        action = env.action_space.sample()\n",
    "    else:\n",
    "        action = np.argmax(Q[state])\n",
    "    return action\n",
    "\n",
    "#PLAY SINGLE EPISODE - Q-Learning\n",
    "def play_episode(Q, bins, epsilon):\n",
    "    total_reward = 0\n",
    "\n",
    "    observation = env.reset()\n",
    "    state = get_state(observation, bins)\n",
    "    \n",
    "    for moves in range(MAX_MOVES):\n",
    "        # e-GREEDY\n",
    "        action = get_action(Q, state, epsilon)\n",
    "\n",
    "        # TAKE ACTION\n",
    "        observation_, reward, done, _ = env.step(action)\n",
    "\n",
    "        # PUNISH FOR FAILURE\n",
    "        if( done and (moves < (MAX_MOVES - 5)) ):\n",
    "            reward = -300\n",
    "        total_reward += reward\n",
    "\n",
    "        # UPDATE Q-VALUES (greedify - Off policy)\n",
    "        state_ = get_state(observation_, bins)\n",
    "        actionMAX_ = np.argmax(Q[state_])\n",
    "        qMAX_ = Q[state_, actionMAX_]\n",
    "        Q[state, action] += (ALPHA * (reward + (GAMMA * qMAX_) - Q[state, action]))\n",
    "\n",
    "        state = state_\n",
    "\n",
    "        # BREAK IF TERMINATED\n",
    "        if(done): break \n",
    "\n",
    "    return (round(total_reward), round(moves))"
   ]
  },
  {
   "cell_type": "code",
   "execution_count": 8,
   "metadata": {},
   "outputs": [],
   "source": [
    "# INIT\n",
    "MAX_STATES = 10 ** 4\n",
    "MAX_MOVES = env._max_episode_steps #200\n",
    "NUM_EPISODES = 3000\n",
    "GAMMA = 0.9\n",
    "ALPHA = 0.01\n",
    "EPSILON = 0.5 #OVERRIDDEN\n",
    "\n",
    "Q = np.zeros((10, 10, 10, 10, env.action_space.n))\n",
    "episode_rewards = []\n",
    "episode_lengths = []\n",
    "bins = create_bins()"
   ]
  },
  {
   "cell_type": "code",
   "execution_count": 9,
   "metadata": {
    "tags": []
   },
   "outputs": [
    {
     "output_type": "stream",
     "name": "stdout",
     "text": "ITER:  0 \tREWARD:  -288 \tLENGTH:  12\nITER:  100 \tREWARD:  -288 \tLENGTH:  12\nITER:  200 \tREWARD:  -283 \tLENGTH:  17\nITER:  300 \tREWARD:  -225 \tLENGTH:  75\nITER:  400 \tREWARD:  -212 \tLENGTH:  88\nITER:  500 \tREWARD:  -224 \tLENGTH:  76\nITER:  600 \tREWARD:  200 \tLENGTH:  199\nITER:  700 \tREWARD:  200 \tLENGTH:  199\nITER:  800 \tREWARD:  200 \tLENGTH:  199\nITER:  900 \tREWARD:  -140 \tLENGTH:  160\nITER:  1000 \tREWARD:  -121 \tLENGTH:  179\nITER:  1100 \tREWARD:  200 \tLENGTH:  199\nITER:  1200 \tREWARD:  200 \tLENGTH:  199\nITER:  1300 \tREWARD:  200 \tLENGTH:  199\nITER:  1400 \tREWARD:  200 \tLENGTH:  199\nITER:  1500 \tREWARD:  200 \tLENGTH:  199\nITER:  1600 \tREWARD:  200 \tLENGTH:  199\nITER:  1700 \tREWARD:  200 \tLENGTH:  199\nITER:  1800 \tREWARD:  200 \tLENGTH:  199\nITER:  1900 \tREWARD:  200 \tLENGTH:  199\nITER:  2000 \tREWARD:  200 \tLENGTH:  199\nITER:  2100 \tREWARD:  200 \tLENGTH:  199\nITER:  2200 \tREWARD:  200 \tLENGTH:  199\nITER:  2300 \tREWARD:  -115 \tLENGTH:  185\nITER:  2400 \tREWARD:  200 \tLENGTH:  199\nITER:  2500 \tREWARD:  200 \tLENGTH:  199\nITER:  2600 \tREWARD:  200 \tLENGTH:  199\nITER:  2700 \tREWARD:  200 \tLENGTH:  199\nITER:  2800 \tREWARD:  200 \tLENGTH:  199\nITER:  2900 \tREWARD:  200 \tLENGTH:  199\n"
    }
   ],
   "source": [
    "#TRAINING\n",
    "\n",
    "# progress = tqdm(range(NUM_EPISODES))\n",
    "for episode_n in range(NUM_EPISODES):\n",
    "    EPSILON = 1 / np.sqrt(episode_n + 1)\n",
    "    if(EPSILON < 0.01): EPSILON = 0.01\n",
    "    \n",
    "    episode_reward, episode_length = play_episode(Q, bins, EPSILON)\n",
    "    episode_rewards.append(episode_reward)\n",
    "    episode_lengths.append(episode_length)\n",
    "\n",
    "    if(episode_n%100 == 0):\n",
    "        print(\"ITER: \",(episode_n),\"\\tREWARD: \",episode_reward ,\"\\tLENGTH: \",episode_length)"
   ]
  },
  {
   "cell_type": "markdown",
   "metadata": {},
   "source": [
    "## SARSA"
   ]
  },
  {
   "cell_type": "code",
   "execution_count": 4,
   "metadata": {},
   "outputs": [],
   "source": [
    "#GET ACTION BY POLICY (e-GREEDY)\n",
    "def get_action(Q, state, epsilon):\n",
    "    if (np.random.uniform() < epsilon):\n",
    "        action = env.action_space.sample()\n",
    "    else:\n",
    "        action = np.argmax(Q[state])\n",
    "    return action\n",
    "\n",
    "#PLAY SINGLE EPISODE - SARSA\n",
    "def play_episode(Q, bins, epsilon):\n",
    "    total_reward = 0\n",
    "\n",
    "    observation = env.reset()\n",
    "    state = get_state(observation, bins)\n",
    "    action = get_action(Q, state, epsilon)\n",
    "    \n",
    "    for moves in range(MAX_MOVES):\n",
    "\n",
    "        # TAKE ACTION\n",
    "        observation_, reward, done, _ = env.step(action)\n",
    "        state_ = get_state(observation_, bins)\n",
    "        # e-GREEDY\n",
    "        action_ = get_action(Q, state_, epsilon)\n",
    "\n",
    "        # PUNISH FOR FAILURE\n",
    "        if( done and (moves < (MAX_MOVES - 5)) ):\n",
    "            reward = -300\n",
    "        total_reward += reward\n",
    "\n",
    "        # UPDATE Q-VALUES (On policy)\n",
    "        q_ = Q[state_, action_]\n",
    "        Q[state, action] += (ALPHA * (reward + (GAMMA * q_) - Q[state, action]))\n",
    "\n",
    "        state, action = state_, action_\n",
    "\n",
    "        # BREAK IF TERMINATED\n",
    "        if(done): break \n",
    "\n",
    "    return (round(total_reward), round(moves))"
   ]
  },
  {
   "cell_type": "code",
   "execution_count": 5,
   "metadata": {},
   "outputs": [],
   "source": [
    "# INIT\n",
    "MAX_STATES = 10 ** 4\n",
    "MAX_MOVES = env._max_episode_steps #200\n",
    "NUM_EPISODES = 3000\n",
    "GAMMA = 0.9\n",
    "ALPHA = 0.01\n",
    "EPSILON = 0.5 #OVERRIDDEN\n",
    "\n",
    "Q = np.zeros((10, 10, 10, 10, env.action_space.n))\n",
    "episode_rewards = []\n",
    "episode_lengths = []\n",
    "bins = create_bins()"
   ]
  },
  {
   "cell_type": "code",
   "execution_count": 6,
   "metadata": {
    "tags": []
   },
   "outputs": [
    {
     "output_type": "stream",
     "name": "stdout",
     "text": "ITER:  0 \tREWARD:  -288 \tLENGTH:  12\nITER:  100 \tREWARD:  -235 \tLENGTH:  65\nITER:  200 \tREWARD:  -291 \tLENGTH:  9\nITER:  300 \tREWARD:  -206 \tLENGTH:  94\nITER:  400 \tREWARD:  -239 \tLENGTH:  61\nITER:  500 \tREWARD:  -181 \tLENGTH:  119\nITER:  600 \tREWARD:  -168 \tLENGTH:  132\nITER:  700 \tREWARD:  -163 \tLENGTH:  137\nITER:  800 \tREWARD:  -180 \tLENGTH:  120\nITER:  900 \tREWARD:  -171 \tLENGTH:  129\nITER:  1000 \tREWARD:  -180 \tLENGTH:  120\nITER:  1100 \tREWARD:  -169 \tLENGTH:  131\nITER:  1200 \tREWARD:  -170 \tLENGTH:  130\nITER:  1300 \tREWARD:  -161 \tLENGTH:  139\nITER:  1400 \tREWARD:  -179 \tLENGTH:  121\nITER:  1500 \tREWARD:  -185 \tLENGTH:  115\nITER:  1600 \tREWARD:  -183 \tLENGTH:  117\nITER:  1700 \tREWARD:  -176 \tLENGTH:  124\nITER:  1800 \tREWARD:  -174 \tLENGTH:  126\nITER:  1900 \tREWARD:  -161 \tLENGTH:  139\nITER:  2000 \tREWARD:  -156 \tLENGTH:  144\nITER:  2100 \tREWARD:  -154 \tLENGTH:  146\nITER:  2200 \tREWARD:  -194 \tLENGTH:  106\nITER:  2300 \tREWARD:  -178 \tLENGTH:  122\nITER:  2400 \tREWARD:  -195 \tLENGTH:  105\nITER:  2500 \tREWARD:  -163 \tLENGTH:  137\nITER:  2600 \tREWARD:  -160 \tLENGTH:  140\nITER:  2700 \tREWARD:  -187 \tLENGTH:  113\nITER:  2800 \tREWARD:  -170 \tLENGTH:  130\nITER:  2900 \tREWARD:  -163 \tLENGTH:  137\n"
    }
   ],
   "source": [
    "#TRAINING\n",
    "\n",
    "# progress = tqdm(range(NUM_EPISODES))\n",
    "for episode_n in range(NUM_EPISODES):\n",
    "    EPSILON = 1 / np.sqrt(episode_n + 1)\n",
    "    if(EPSILON < 0.01): EPSILON = 0.01\n",
    "\n",
    "    episode_reward, episode_length = play_episode(Q, bins, EPSILON)\n",
    "    episode_rewards.append(episode_reward)\n",
    "    episode_lengths.append(episode_length)\n",
    "\n",
    "    if(episode_n%100 == 0):\n",
    "        print(\"ITER: \",(episode_n),\"\\tREWARD: \",episode_reward ,\"\\tLENGTH: \",episode_length)"
   ]
  },
  {
   "cell_type": "markdown",
   "metadata": {},
   "source": [
    "### Testing for Q-Learning or SARSA"
   ]
  },
  {
   "cell_type": "code",
   "execution_count": 10,
   "metadata": {},
   "outputs": [
    {
     "output_type": "execute_result",
     "data": {
      "text/plain": "[<matplotlib.lines.Line2D at 0x12443d510>]"
     },
     "metadata": {},
     "execution_count": 10
    },
    {
     "output_type": "display_data",
     "data": {
      "text/plain": "<Figure size 432x288 with 1 Axes>",
      "image/svg+xml": "<?xml version=\"1.0\" encoding=\"utf-8\" standalone=\"no\"?>\n<!DOCTYPE svg PUBLIC \"-//W3C//DTD SVG 1.1//EN\"\n  \"http://www.w3.org/Graphics/SVG/1.1/DTD/svg11.dtd\">\n<!-- Created with matplotlib (https://matplotlib.org/) -->\n<svg height=\"248.518125pt\" version=\"1.1\" viewBox=\"0 0 383.667188 248.518125\" width=\"383.667188pt\" xmlns=\"http://www.w3.org/2000/svg\" xmlns:xlink=\"http://www.w3.org/1999/xlink\">\n <defs>\n  <style type=\"text/css\">\n*{stroke-linecap:butt;stroke-linejoin:round;}\n  </style>\n </defs>\n <g id=\"figure_1\">\n  <g id=\"patch_1\">\n   <path d=\"M 0 248.518125 \nL 383.667188 248.518125 \nL 383.667188 0 \nL 0 0 \nz\n\" style=\"fill:none;\"/>\n  </g>\n  <g id=\"axes_1\">\n   <g id=\"patch_2\">\n    <path d=\"M 41.667188 224.64 \nL 376.467188 224.64 \nL 376.467188 7.2 \nL 41.667188 7.2 \nz\n\"/>\n   </g>\n   <g id=\"matplotlib.axis_1\">\n    <g id=\"xtick_1\">\n     <g id=\"line2d_1\">\n      <defs>\n       <path d=\"M 0 0 \nL 0 3.5 \n\" id=\"m7c0bc69737\" style=\"stroke:#ffffff;stroke-width:0.8;\"/>\n      </defs>\n      <g>\n       <use style=\"fill:#ffffff;stroke:#ffffff;stroke-width:0.8;\" x=\"56.885369\" xlink:href=\"#m7c0bc69737\" y=\"224.64\"/>\n      </g>\n     </g>\n     <g id=\"text_1\">\n      <!-- 0 -->\n      <defs>\n       <path d=\"M 31.78125 66.40625 \nQ 24.171875 66.40625 20.328125 58.90625 \nQ 16.5 51.421875 16.5 36.375 \nQ 16.5 21.390625 20.328125 13.890625 \nQ 24.171875 6.390625 31.78125 6.390625 \nQ 39.453125 6.390625 43.28125 13.890625 \nQ 47.125 21.390625 47.125 36.375 \nQ 47.125 51.421875 43.28125 58.90625 \nQ 39.453125 66.40625 31.78125 66.40625 \nz\nM 31.78125 74.21875 \nQ 44.046875 74.21875 50.515625 64.515625 \nQ 56.984375 54.828125 56.984375 36.375 \nQ 56.984375 17.96875 50.515625 8.265625 \nQ 44.046875 -1.421875 31.78125 -1.421875 \nQ 19.53125 -1.421875 13.0625 8.265625 \nQ 6.59375 17.96875 6.59375 36.375 \nQ 6.59375 54.828125 13.0625 64.515625 \nQ 19.53125 74.21875 31.78125 74.21875 \nz\n\" id=\"DejaVuSans-48\"/>\n      </defs>\n      <g style=\"fill:#ffffff;\" transform=\"translate(53.704119 239.238437)scale(0.1 -0.1)\">\n       <use xlink:href=\"#DejaVuSans-48\"/>\n      </g>\n     </g>\n    </g>\n    <g id=\"xtick_2\">\n     <g id=\"line2d_2\">\n      <g>\n       <use style=\"fill:#ffffff;stroke:#ffffff;stroke-width:0.8;\" x=\"107.629557\" xlink:href=\"#m7c0bc69737\" y=\"224.64\"/>\n      </g>\n     </g>\n     <g id=\"text_2\">\n      <!-- 500 -->\n      <defs>\n       <path d=\"M 10.796875 72.90625 \nL 49.515625 72.90625 \nL 49.515625 64.59375 \nL 19.828125 64.59375 \nL 19.828125 46.734375 \nQ 21.96875 47.46875 24.109375 47.828125 \nQ 26.265625 48.1875 28.421875 48.1875 \nQ 40.625 48.1875 47.75 41.5 \nQ 54.890625 34.8125 54.890625 23.390625 \nQ 54.890625 11.625 47.5625 5.09375 \nQ 40.234375 -1.421875 26.90625 -1.421875 \nQ 22.3125 -1.421875 17.546875 -0.640625 \nQ 12.796875 0.140625 7.71875 1.703125 \nL 7.71875 11.625 \nQ 12.109375 9.234375 16.796875 8.0625 \nQ 21.484375 6.890625 26.703125 6.890625 \nQ 35.15625 6.890625 40.078125 11.328125 \nQ 45.015625 15.765625 45.015625 23.390625 \nQ 45.015625 31 40.078125 35.4375 \nQ 35.15625 39.890625 26.703125 39.890625 \nQ 22.75 39.890625 18.8125 39.015625 \nQ 14.890625 38.140625 10.796875 36.28125 \nz\n\" id=\"DejaVuSans-53\"/>\n      </defs>\n      <g style=\"fill:#ffffff;\" transform=\"translate(98.085807 239.238437)scale(0.1 -0.1)\">\n       <use xlink:href=\"#DejaVuSans-53\"/>\n       <use x=\"63.623047\" xlink:href=\"#DejaVuSans-48\"/>\n       <use x=\"127.246094\" xlink:href=\"#DejaVuSans-48\"/>\n      </g>\n     </g>\n    </g>\n    <g id=\"xtick_3\">\n     <g id=\"line2d_3\">\n      <g>\n       <use style=\"fill:#ffffff;stroke:#ffffff;stroke-width:0.8;\" x=\"158.373744\" xlink:href=\"#m7c0bc69737\" y=\"224.64\"/>\n      </g>\n     </g>\n     <g id=\"text_3\">\n      <!-- 1000 -->\n      <defs>\n       <path d=\"M 12.40625 8.296875 \nL 28.515625 8.296875 \nL 28.515625 63.921875 \nL 10.984375 60.40625 \nL 10.984375 69.390625 \nL 28.421875 72.90625 \nL 38.28125 72.90625 \nL 38.28125 8.296875 \nL 54.390625 8.296875 \nL 54.390625 0 \nL 12.40625 0 \nz\n\" id=\"DejaVuSans-49\"/>\n      </defs>\n      <g style=\"fill:#ffffff;\" transform=\"translate(145.648744 239.238437)scale(0.1 -0.1)\">\n       <use xlink:href=\"#DejaVuSans-49\"/>\n       <use x=\"63.623047\" xlink:href=\"#DejaVuSans-48\"/>\n       <use x=\"127.246094\" xlink:href=\"#DejaVuSans-48\"/>\n       <use x=\"190.869141\" xlink:href=\"#DejaVuSans-48\"/>\n      </g>\n     </g>\n    </g>\n    <g id=\"xtick_4\">\n     <g id=\"line2d_4\">\n      <g>\n       <use style=\"fill:#ffffff;stroke:#ffffff;stroke-width:0.8;\" x=\"209.117932\" xlink:href=\"#m7c0bc69737\" y=\"224.64\"/>\n      </g>\n     </g>\n     <g id=\"text_4\">\n      <!-- 1500 -->\n      <g style=\"fill:#ffffff;\" transform=\"translate(196.392932 239.238437)scale(0.1 -0.1)\">\n       <use xlink:href=\"#DejaVuSans-49\"/>\n       <use x=\"63.623047\" xlink:href=\"#DejaVuSans-53\"/>\n       <use x=\"127.246094\" xlink:href=\"#DejaVuSans-48\"/>\n       <use x=\"190.869141\" xlink:href=\"#DejaVuSans-48\"/>\n      </g>\n     </g>\n    </g>\n    <g id=\"xtick_5\">\n     <g id=\"line2d_5\">\n      <g>\n       <use style=\"fill:#ffffff;stroke:#ffffff;stroke-width:0.8;\" x=\"259.862119\" xlink:href=\"#m7c0bc69737\" y=\"224.64\"/>\n      </g>\n     </g>\n     <g id=\"text_5\">\n      <!-- 2000 -->\n      <defs>\n       <path d=\"M 19.1875 8.296875 \nL 53.609375 8.296875 \nL 53.609375 0 \nL 7.328125 0 \nL 7.328125 8.296875 \nQ 12.9375 14.109375 22.625 23.890625 \nQ 32.328125 33.6875 34.8125 36.53125 \nQ 39.546875 41.84375 41.421875 45.53125 \nQ 43.3125 49.21875 43.3125 52.78125 \nQ 43.3125 58.59375 39.234375 62.25 \nQ 35.15625 65.921875 28.609375 65.921875 \nQ 23.96875 65.921875 18.8125 64.3125 \nQ 13.671875 62.703125 7.8125 59.421875 \nL 7.8125 69.390625 \nQ 13.765625 71.78125 18.9375 73 \nQ 24.125 74.21875 28.421875 74.21875 \nQ 39.75 74.21875 46.484375 68.546875 \nQ 53.21875 62.890625 53.21875 53.421875 \nQ 53.21875 48.921875 51.53125 44.890625 \nQ 49.859375 40.875 45.40625 35.40625 \nQ 44.1875 33.984375 37.640625 27.21875 \nQ 31.109375 20.453125 19.1875 8.296875 \nz\n\" id=\"DejaVuSans-50\"/>\n      </defs>\n      <g style=\"fill:#ffffff;\" transform=\"translate(247.137119 239.238437)scale(0.1 -0.1)\">\n       <use xlink:href=\"#DejaVuSans-50\"/>\n       <use x=\"63.623047\" xlink:href=\"#DejaVuSans-48\"/>\n       <use x=\"127.246094\" xlink:href=\"#DejaVuSans-48\"/>\n       <use x=\"190.869141\" xlink:href=\"#DejaVuSans-48\"/>\n      </g>\n     </g>\n    </g>\n    <g id=\"xtick_6\">\n     <g id=\"line2d_6\">\n      <g>\n       <use style=\"fill:#ffffff;stroke:#ffffff;stroke-width:0.8;\" x=\"310.606307\" xlink:href=\"#m7c0bc69737\" y=\"224.64\"/>\n      </g>\n     </g>\n     <g id=\"text_6\">\n      <!-- 2500 -->\n      <g style=\"fill:#ffffff;\" transform=\"translate(297.881307 239.238437)scale(0.1 -0.1)\">\n       <use xlink:href=\"#DejaVuSans-50\"/>\n       <use x=\"63.623047\" xlink:href=\"#DejaVuSans-53\"/>\n       <use x=\"127.246094\" xlink:href=\"#DejaVuSans-48\"/>\n       <use x=\"190.869141\" xlink:href=\"#DejaVuSans-48\"/>\n      </g>\n     </g>\n    </g>\n    <g id=\"xtick_7\">\n     <g id=\"line2d_7\">\n      <g>\n       <use style=\"fill:#ffffff;stroke:#ffffff;stroke-width:0.8;\" x=\"361.350494\" xlink:href=\"#m7c0bc69737\" y=\"224.64\"/>\n      </g>\n     </g>\n     <g id=\"text_7\">\n      <!-- 3000 -->\n      <defs>\n       <path d=\"M 40.578125 39.3125 \nQ 47.65625 37.796875 51.625 33 \nQ 55.609375 28.21875 55.609375 21.1875 \nQ 55.609375 10.40625 48.1875 4.484375 \nQ 40.765625 -1.421875 27.09375 -1.421875 \nQ 22.515625 -1.421875 17.65625 -0.515625 \nQ 12.796875 0.390625 7.625 2.203125 \nL 7.625 11.71875 \nQ 11.71875 9.328125 16.59375 8.109375 \nQ 21.484375 6.890625 26.8125 6.890625 \nQ 36.078125 6.890625 40.9375 10.546875 \nQ 45.796875 14.203125 45.796875 21.1875 \nQ 45.796875 27.640625 41.28125 31.265625 \nQ 36.765625 34.90625 28.71875 34.90625 \nL 20.21875 34.90625 \nL 20.21875 43.015625 \nL 29.109375 43.015625 \nQ 36.375 43.015625 40.234375 45.921875 \nQ 44.09375 48.828125 44.09375 54.296875 \nQ 44.09375 59.90625 40.109375 62.90625 \nQ 36.140625 65.921875 28.71875 65.921875 \nQ 24.65625 65.921875 20.015625 65.03125 \nQ 15.375 64.15625 9.8125 62.3125 \nL 9.8125 71.09375 \nQ 15.4375 72.65625 20.34375 73.4375 \nQ 25.25 74.21875 29.59375 74.21875 \nQ 40.828125 74.21875 47.359375 69.109375 \nQ 53.90625 64.015625 53.90625 55.328125 \nQ 53.90625 49.265625 50.4375 45.09375 \nQ 46.96875 40.921875 40.578125 39.3125 \nz\n\" id=\"DejaVuSans-51\"/>\n      </defs>\n      <g style=\"fill:#ffffff;\" transform=\"translate(348.625494 239.238437)scale(0.1 -0.1)\">\n       <use xlink:href=\"#DejaVuSans-51\"/>\n       <use x=\"63.623047\" xlink:href=\"#DejaVuSans-48\"/>\n       <use x=\"127.246094\" xlink:href=\"#DejaVuSans-48\"/>\n       <use x=\"190.869141\" xlink:href=\"#DejaVuSans-48\"/>\n      </g>\n     </g>\n    </g>\n   </g>\n   <g id=\"matplotlib.axis_2\">\n    <g id=\"ytick_1\">\n     <g id=\"line2d_8\">\n      <defs>\n       <path d=\"M 0 0 \nL -3.5 0 \n\" id=\"mbe5a2eae31\" style=\"stroke:#ffffff;stroke-width:0.8;\"/>\n      </defs>\n      <g>\n       <use style=\"fill:#ffffff;stroke:#ffffff;stroke-width:0.8;\" x=\"41.667188\" xlink:href=\"#mbe5a2eae31\" y=\"217.563076\"/>\n      </g>\n     </g>\n     <g id=\"text_8\">\n      <!-- −300 -->\n      <defs>\n       <path d=\"M 10.59375 35.5 \nL 73.1875 35.5 \nL 73.1875 27.203125 \nL 10.59375 27.203125 \nz\n\" id=\"DejaVuSans-8722\"/>\n      </defs>\n      <g style=\"fill:#ffffff;\" transform=\"translate(7.2 221.362295)scale(0.1 -0.1)\">\n       <use xlink:href=\"#DejaVuSans-8722\"/>\n       <use x=\"83.789062\" xlink:href=\"#DejaVuSans-51\"/>\n       <use x=\"147.412109\" xlink:href=\"#DejaVuSans-48\"/>\n       <use x=\"211.035156\" xlink:href=\"#DejaVuSans-48\"/>\n      </g>\n     </g>\n    </g>\n    <g id=\"ytick_2\">\n     <g id=\"line2d_9\">\n      <g>\n       <use style=\"fill:#ffffff;stroke:#ffffff;stroke-width:0.8;\" x=\"41.667188\" xlink:href=\"#mbe5a2eae31\" y=\"177.467188\"/>\n      </g>\n     </g>\n     <g id=\"text_9\">\n      <!-- −200 -->\n      <g style=\"fill:#ffffff;\" transform=\"translate(7.2 181.266407)scale(0.1 -0.1)\">\n       <use xlink:href=\"#DejaVuSans-8722\"/>\n       <use x=\"83.789062\" xlink:href=\"#DejaVuSans-50\"/>\n       <use x=\"147.412109\" xlink:href=\"#DejaVuSans-48\"/>\n       <use x=\"211.035156\" xlink:href=\"#DejaVuSans-48\"/>\n      </g>\n     </g>\n    </g>\n    <g id=\"ytick_3\">\n     <g id=\"line2d_10\">\n      <g>\n       <use style=\"fill:#ffffff;stroke:#ffffff;stroke-width:0.8;\" x=\"41.667188\" xlink:href=\"#mbe5a2eae31\" y=\"137.3713\"/>\n      </g>\n     </g>\n     <g id=\"text_10\">\n      <!-- −100 -->\n      <g style=\"fill:#ffffff;\" transform=\"translate(7.2 141.170519)scale(0.1 -0.1)\">\n       <use xlink:href=\"#DejaVuSans-8722\"/>\n       <use x=\"83.789062\" xlink:href=\"#DejaVuSans-49\"/>\n       <use x=\"147.412109\" xlink:href=\"#DejaVuSans-48\"/>\n       <use x=\"211.035156\" xlink:href=\"#DejaVuSans-48\"/>\n      </g>\n     </g>\n    </g>\n    <g id=\"ytick_4\">\n     <g id=\"line2d_11\">\n      <g>\n       <use style=\"fill:#ffffff;stroke:#ffffff;stroke-width:0.8;\" x=\"41.667188\" xlink:href=\"#mbe5a2eae31\" y=\"97.275412\"/>\n      </g>\n     </g>\n     <g id=\"text_11\">\n      <!-- 0 -->\n      <g style=\"fill:#ffffff;\" transform=\"translate(28.304688 101.074631)scale(0.1 -0.1)\">\n       <use xlink:href=\"#DejaVuSans-48\"/>\n      </g>\n     </g>\n    </g>\n    <g id=\"ytick_5\">\n     <g id=\"line2d_12\">\n      <g>\n       <use style=\"fill:#ffffff;stroke:#ffffff;stroke-width:0.8;\" x=\"41.667188\" xlink:href=\"#mbe5a2eae31\" y=\"57.179524\"/>\n      </g>\n     </g>\n     <g id=\"text_12\">\n      <!-- 100 -->\n      <g style=\"fill:#ffffff;\" transform=\"translate(15.579688 60.978743)scale(0.1 -0.1)\">\n       <use xlink:href=\"#DejaVuSans-49\"/>\n       <use x=\"63.623047\" xlink:href=\"#DejaVuSans-48\"/>\n       <use x=\"127.246094\" xlink:href=\"#DejaVuSans-48\"/>\n      </g>\n     </g>\n    </g>\n    <g id=\"ytick_6\">\n     <g id=\"line2d_13\">\n      <g>\n       <use style=\"fill:#ffffff;stroke:#ffffff;stroke-width:0.8;\" x=\"41.667188\" xlink:href=\"#mbe5a2eae31\" y=\"17.083636\"/>\n      </g>\n     </g>\n     <g id=\"text_13\">\n      <!-- 200 -->\n      <g style=\"fill:#ffffff;\" transform=\"translate(15.579688 20.882855)scale(0.1 -0.1)\">\n       <use xlink:href=\"#DejaVuSans-50\"/>\n       <use x=\"63.623047\" xlink:href=\"#DejaVuSans-48\"/>\n       <use x=\"127.246094\" xlink:href=\"#DejaVuSans-48\"/>\n      </g>\n     </g>\n    </g>\n   </g>\n   <g id=\"line2d_14\">\n    <path clip-path=\"url(#pdb00de0a50)\" d=\"M 56.885369 212.751569 \nL 56.986858 201.92568 \nL 57.189834 214.756364 \nL 57.291323 202.326638 \nL 57.392811 214.355405 \nL 57.595788 212.751569 \nL 57.798765 201.524721 \nL 58.001741 210.746775 \nL 58.10323 206.737186 \nL 58.204718 210.746775 \nL 58.306207 208.341022 \nL 58.407695 208.74198 \nL 58.509183 207.539104 \nL 58.610672 208.74198 \nL 58.71216 207.539104 \nL 58.915137 212.751569 \nL 59.016625 213.553487 \nL 59.219602 208.341022 \nL 59.422579 212.751569 \nL 59.625555 205.534309 \nL 59.828532 209.543898 \nL 59.930021 209.142939 \nL 60.031509 211.147734 \nL 60.132997 209.543898 \nL 60.335974 213.553487 \nL 60.437462 210.345816 \nL 60.538951 213.553487 \nL 60.640439 211.949651 \nL 60.741928 203.529515 \nL 60.944904 208.74198 \nL 61.046393 209.142939 \nL 61.249369 208.341022 \nL 61.350858 197.515132 \nL 61.452346 211.147734 \nL 61.553835 210.345816 \nL 61.756811 206.737186 \nL 61.8583 207.940063 \nL 61.959788 205.133351 \nL 62.061276 211.147734 \nL 62.162765 207.940063 \nL 62.264253 212.751569 \nL 62.365742 212.35061 \nL 62.46723 208.74198 \nL 62.568718 209.543898 \nL 62.670207 205.935268 \nL 62.771695 210.746775 \nL 62.873183 210.345816 \nL 62.974672 207.539104 \nL 63.07616 211.949651 \nL 63.177649 209.142939 \nL 63.279137 214.355405 \nL 63.380625 209.543898 \nL 63.482114 211.949651 \nL 63.583602 206.737186 \nL 63.68509 207.138145 \nL 63.786579 207.940063 \nL 63.888067 214.756364 \nL 63.989556 199.920885 \nL 64.091044 211.949651 \nL 64.192532 207.138145 \nL 64.294021 213.553487 \nL 64.395509 209.142939 \nL 64.496997 211.949651 \nL 64.598486 209.543898 \nL 64.801463 211.147734 \nL 64.902951 208.74198 \nL 65.105928 211.949651 \nL 65.308904 210.345816 \nL 65.410393 212.751569 \nL 65.61337 208.74198 \nL 65.714858 211.949651 \nL 65.816346 210.746775 \nL 65.917835 197.515132 \nL 66.019323 211.147734 \nL 66.120811 209.543898 \nL 66.2223 211.147734 \nL 66.323788 208.74198 \nL 66.425277 191.09979 \nL 66.526765 199.519926 \nL 66.628253 189.896913 \nL 66.729742 211.548693 \nL 66.83123 207.539104 \nL 67.034207 212.751569 \nL 67.237184 207.940063 \nL 67.44016 213.553487 \nL 67.541649 209.142939 \nL 67.643137 212.35061 \nL 67.744625 209.543898 \nL 67.947602 211.147734 \nL 68.049091 205.935268 \nL 68.252067 210.345816 \nL 68.353556 211.949651 \nL 68.455044 209.543898 \nL 68.556532 211.147734 \nL 68.658021 205.935268 \nL 68.759509 209.142939 \nL 68.860998 208.341022 \nL 69.063974 213.954446 \nL 69.165463 210.345816 \nL 69.266951 211.147734 \nL 69.368439 208.74198 \nL 69.469928 209.944857 \nL 69.571416 209.543898 \nL 69.672905 213.152528 \nL 69.875881 210.746775 \nL 69.97737 208.74198 \nL 70.180346 211.147734 \nL 70.281835 207.940063 \nL 70.383323 209.944857 \nL 70.484812 207.940063 \nL 70.687788 212.751569 \nL 70.789277 210.746775 \nL 70.890765 212.35061 \nL 71.093742 201.92568 \nL 71.296719 211.949651 \nL 71.398207 208.341022 \nL 71.499695 211.949651 \nL 71.601184 208.74198 \nL 71.80416 211.949651 \nL 71.905649 209.142939 \nL 72.007137 210.345816 \nL 72.108626 209.142939 \nL 72.210114 211.548693 \nL 72.311602 205.935268 \nL 72.514579 211.949651 \nL 72.717556 209.944857 \nL 72.819044 203.529515 \nL 72.920533 211.147734 \nL 73.022021 210.746775 \nL 73.123509 206.737186 \nL 73.427974 211.949651 \nL 73.529463 207.940063 \nL 73.630951 209.944857 \nL 73.73244 208.74198 \nL 73.833928 211.147734 \nL 73.935416 208.74198 \nL 74.138393 211.147734 \nL 74.239881 210.746775 \nL 74.34137 209.142939 \nL 74.442858 189.896913 \nL 74.544347 209.142939 \nL 74.645835 208.341022 \nL 74.747323 209.142939 \nL 74.848812 199.118967 \nL 75.051788 211.949651 \nL 75.153277 212.751569 \nL 75.356254 209.543898 \nL 75.457742 211.548693 \nL 75.55923 207.539104 \nL 75.660719 210.746775 \nL 75.762207 192.703625 \nL 75.965184 209.142939 \nL 76.168161 209.543898 \nL 76.269649 206.737186 \nL 76.371137 207.940063 \nL 76.472626 210.746775 \nL 76.675602 210.345816 \nL 76.777091 211.147734 \nL 76.878579 207.940063 \nL 76.980068 208.74198 \nL 77.081556 207.940063 \nL 77.183044 210.746775 \nL 77.284533 209.543898 \nL 77.487509 210.746775 \nL 77.690486 212.751569 \nL 77.791975 208.74198 \nL 78.09644 212.35061 \nL 78.197928 207.940063 \nL 78.299416 208.341022 \nL 78.400905 208.341022 \nL 78.502393 209.543898 \nL 78.603882 207.940063 \nL 78.70537 211.147734 \nL 78.908347 208.341022 \nL 79.009835 210.345816 \nL 79.111323 205.534309 \nL 79.3143 208.74198 \nL 79.517277 207.539104 \nL 79.618765 211.548693 \nL 79.720254 207.138145 \nL 79.821742 211.548693 \nL 80.024719 209.543898 \nL 80.126207 210.746775 \nL 80.227696 209.543898 \nL 80.329184 205.935268 \nL 80.430672 210.345816 \nL 80.532161 206.737186 \nL 80.633649 211.147734 \nL 80.735137 206.737186 \nL 80.938114 210.746775 \nL 81.039603 209.142939 \nL 81.242579 211.949651 \nL 81.344068 209.543898 \nL 81.547044 210.746775 \nL 81.648533 210.746775 \nL 81.750021 211.548693 \nL 81.952998 209.944857 \nL 82.054486 209.142939 \nL 82.155975 209.944857 \nL 82.257463 211.949651 \nL 82.46044 210.746775 \nL 82.561928 212.35061 \nL 82.663417 207.940063 \nL 82.764905 211.548693 \nL 82.866393 206.737186 \nL 83.06937 211.949651 \nL 83.576812 206.737186 \nL 83.6783 211.548693 \nL 83.982765 208.341022 \nL 84.084254 209.142939 \nL 84.185742 211.548693 \nL 84.287231 208.74198 \nL 84.388719 213.553487 \nL 84.490207 206.737186 \nL 84.591696 209.944857 \nL 84.693184 204.732392 \nL 84.896161 209.543898 \nL 84.997649 209.142939 \nL 85.099138 209.944857 \nL 85.200626 207.940063 \nL 85.302114 208.74198 \nL 85.403603 207.138145 \nL 85.505091 194.70842 \nL 85.606579 210.345816 \nL 85.708068 194.307461 \nL 85.809556 204.331433 \nL 85.911045 151.404861 \nL 86.114021 190.698831 \nL 86.21551 148.598149 \nL 86.316998 197.114173 \nL 86.519975 185.085407 \nL 86.621463 172.254722 \nL 86.82444 187.090201 \nL 86.925928 186.288283 \nL 87.027417 184.283489 \nL 87.128905 189.495954 \nL 87.230393 185.887324 \nL 87.331882 187.49116 \nL 87.737835 171.452805 \nL 87.839324 184.283489 \nL 87.940812 177.868147 \nL 88.0423 188.293078 \nL 88.245277 175.061435 \nL 88.346766 179.471982 \nL 88.448254 190.698831 \nL 88.752719 181.877736 \nL 88.854207 185.486365 \nL 88.955696 182.679653 \nL 89.057184 17.083636 \nL 89.260161 190.297872 \nL 89.361649 17.083636 \nL 89.463138 185.085407 \nL 89.564626 170.650887 \nL 89.666114 209.142939 \nL 89.869091 169.44801 \nL 89.97058 188.293078 \nL 90.072068 17.083636 \nL 90.173556 193.505543 \nL 90.275045 173.457599 \nL 90.478021 190.698831 \nL 90.680998 168.646093 \nL 90.782487 191.901708 \nL 90.883975 191.09979 \nL 90.985463 190.297872 \nL 91.086952 180.674859 \nL 91.18844 190.698831 \nL 91.289928 170.650887 \nL 91.391417 180.674859 \nL 91.492905 169.047051 \nL 91.594394 189.495954 \nL 91.898859 147.395272 \nL 92.000347 187.49116 \nL 92.101835 162.631709 \nL 92.203324 177.467188 \nL 92.304812 165.438422 \nL 92.507789 185.887324 \nL 92.609277 185.085407 \nL 92.710766 169.44801 \nL 92.913742 196.312255 \nL 93.015231 140.97993 \nL 93.218208 170.650887 \nL 93.319696 172.254722 \nL 93.421184 185.486365 \nL 93.522673 156.617326 \nL 93.624161 191.500749 \nL 93.827138 164.636504 \nL 94.030115 186.689242 \nL 94.131603 179.071023 \nL 94.233091 183.080612 \nL 94.33458 179.071023 \nL 94.639045 160.626915 \nL 94.842022 170.650887 \nL 94.94351 177.066229 \nL 95.044998 165.438422 \nL 95.146487 17.083636 \nL 95.349463 175.061435 \nL 95.450952 152.607737 \nL 95.55244 163.032668 \nL 95.653929 157.018285 \nL 95.755417 180.2739 \nL 95.856905 175.462394 \nL 95.958394 150.602943 \nL 96.059882 175.061435 \nL 96.16137 174.259517 \nL 96.262859 157.018285 \nL 96.364347 184.684448 \nL 96.465836 180.674859 \nL 96.567324 157.820203 \nL 96.668812 185.887324 \nL 96.770301 164.636504 \nL 96.871789 172.655681 \nL 96.973277 150.602943 \nL 97.176254 188.293078 \nL 97.277743 187.090201 \nL 97.582208 175.061435 \nL 97.683696 181.877736 \nL 97.785184 158.221162 \nL 97.886673 165.438422 \nL 98.08965 188.293078 \nL 98.292626 148.19719 \nL 98.394115 188.293078 \nL 98.495603 156.216367 \nL 98.597091 188.694037 \nL 98.69858 159.424038 \nL 98.901557 182.679653 \nL 99.003045 167.443216 \nL 99.104533 190.698831 \nL 99.206022 187.49116 \nL 99.30751 188.293078 \nL 99.408998 17.083636 \nL 99.510487 175.462394 \nL 99.611975 158.622121 \nL 99.713464 191.500749 \nL 99.91644 183.481571 \nL 100.017929 187.49116 \nL 100.119417 165.438422 \nL 100.322394 185.486365 \nL 100.423882 143.385683 \nL 100.626859 185.085407 \nL 100.728347 188.293078 \nL 100.931324 174.259517 \nL 101.134301 190.297872 \nL 101.235789 187.49116 \nL 101.438766 146.192395 \nL 101.540254 195.510337 \nL 101.641743 163.032668 \nL 101.743231 183.481571 \nL 101.844719 155.815408 \nL 101.946208 188.694037 \nL 102.047696 158.622121 \nL 102.250673 185.486365 \nL 102.352161 17.083636 \nL 102.45365 184.283489 \nL 102.555138 175.863352 \nL 102.656626 153.008696 \nL 102.758115 186.288283 \nL 102.961092 182.278694 \nL 103.06258 186.689242 \nL 103.164068 162.230751 \nL 103.265557 188.293078 \nL 103.570022 175.863352 \nL 103.67151 160.225956 \nL 103.772999 183.88253 \nL 103.975975 175.061435 \nL 104.077464 193.104584 \nL 104.28044 179.872941 \nL 104.381929 144.187601 \nL 104.483417 183.88253 \nL 104.584906 181.877736 \nL 104.686394 149.400066 \nL 104.889371 189.094995 \nL 104.990859 191.09979 \nL 105.193836 187.49116 \nL 105.295324 164.636504 \nL 105.396813 185.887324 \nL 105.498301 147.395272 \nL 105.701278 185.486365 \nL 105.802766 184.684448 \nL 105.904254 151.404861 \nL 106.107231 185.887324 \nL 106.20872 182.278694 \nL 106.411696 192.703625 \nL 106.513185 144.58856 \nL 106.716161 185.887324 \nL 106.81765 186.288283 \nL 106.919138 139.777053 \nL 107.020627 184.684448 \nL 107.122115 177.066229 \nL 107.223603 199.519926 \nL 107.325092 147.395272 \nL 107.528068 193.906502 \nL 107.731045 174.660476 \nL 107.832534 158.622121 \nL 108.03551 179.471982 \nL 108.136999 145.390478 \nL 108.339975 192.703625 \nL 108.441464 176.264311 \nL 108.644441 190.297872 \nL 108.745929 149.801025 \nL 108.847417 156.617326 \nL 108.948906 187.49116 \nL 109.050394 181.476777 \nL 109.151882 192.302666 \nL 109.253371 180.2739 \nL 109.354859 189.094995 \nL 109.456348 185.887324 \nL 109.557836 154.211573 \nL 109.659324 191.09979 \nL 109.760813 187.49116 \nL 109.862301 194.307461 \nL 109.963789 191.901708 \nL 110.065278 184.283489 \nL 110.166766 17.083636 \nL 110.369743 191.09979 \nL 110.674208 173.05664 \nL 110.775696 187.49116 \nL 110.877185 183.481571 \nL 110.978673 191.901708 \nL 111.080162 189.896913 \nL 111.283138 179.471982 \nL 111.384627 183.481571 \nL 111.486115 177.467188 \nL 111.587603 189.495954 \nL 111.689092 179.471982 \nL 111.79058 180.2739 \nL 111.892069 190.698831 \nL 111.993557 157.018285 \nL 112.095045 185.486365 \nL 112.196534 173.457599 \nL 112.298022 177.066229 \nL 112.39951 189.896913 \nL 112.602487 178.670065 \nL 112.703976 184.283489 \nL 112.805464 181.877736 \nL 112.906952 186.689242 \nL 113.008441 182.679653 \nL 113.211417 191.09979 \nL 113.312906 153.409655 \nL 113.414394 187.090201 \nL 113.515883 157.018285 \nL 113.617371 174.259517 \nL 113.718859 162.631709 \nL 113.820348 187.090201 \nL 113.921836 184.283489 \nL 114.023324 185.085407 \nL 114.124813 183.481571 \nL 114.226301 165.037463 \nL 114.429278 190.698831 \nL 114.530766 187.892119 \nL 114.632255 157.018285 \nL 114.733743 183.88253 \nL 114.835231 179.471982 \nL 114.93672 181.476777 \nL 115.038208 151.003902 \nL 115.139697 17.083636 \nL 115.241185 159.824997 \nL 115.444162 17.083636 \nL 116.662022 17.083636 \nL 116.763511 176.264311 \nL 116.966487 17.083636 \nL 117.575418 17.083636 \nL 117.676906 17.885554 \nL 117.879883 17.083636 \nL 117.981371 17.083636 \nL 118.082859 148.19719 \nL 118.184348 17.083636 \nL 118.285836 191.500749 \nL 118.387325 17.083636 \nL 118.488813 155.41445 \nL 118.69179 17.083636 \nL 119.097743 17.083636 \nL 119.199232 165.83938 \nL 119.30072 17.083636 \nL 119.402208 172.655681 \nL 119.605185 17.083636 \nL 120.417092 17.083636 \nL 120.51858 164.235545 \nL 120.620069 139.777053 \nL 120.721557 181.476777 \nL 120.823046 146.593354 \nL 120.924534 17.083636 \nL 121.026022 147.796231 \nL 121.228999 17.083636 \nL 121.431976 17.083636 \nL 121.533464 140.97993 \nL 121.634953 18.286513 \nL 121.736441 142.984724 \nL 121.939418 17.083636 \nL 122.040906 209.142939 \nL 122.142394 17.083636 \nL 122.243883 17.484595 \nL 122.44686 17.083636 \nL 122.548348 17.083636 \nL 122.649836 156.216367 \nL 122.852813 17.083636 \nL 122.954301 17.083636 \nL 123.05579 142.182807 \nL 123.258767 17.083636 \nL 123.360255 17.083636 \nL 123.461743 155.41445 \nL 123.563232 142.984724 \nL 123.66472 17.083636 \nL 123.766208 141.380889 \nL 123.969185 17.083636 \nL 124.27365 17.083636 \nL 124.375139 168.646093 \nL 124.578115 17.083636 \nL 124.781092 17.083636 \nL 124.984069 177.868147 \nL 125.187046 17.083636 \nL 127.41979 17.083636 \nL 127.521278 154.612532 \nL 127.622767 17.083636 \nL 127.724255 145.390478 \nL 127.927232 17.083636 \nL 128.739139 17.083636 \nL 128.840627 199.920885 \nL 128.942116 17.083636 \nL 129.043604 158.622121 \nL 129.246581 17.083636 \nL 129.348069 17.083636 \nL 129.449557 17.484595 \nL 129.652534 17.083636 \nL 130.362953 17.083636 \nL 130.56593 143.786642 \nL 130.768906 17.083636 \nL 130.971883 154.612532 \nL 131.17486 17.083636 \nL 131.682302 17.083636 \nL 131.78379 155.815408 \nL 131.986767 17.083636 \nL 133.001651 17.083636 \nL 133.103139 149.801025 \nL 133.306116 17.083636 \nL 134.016534 17.083636 \nL 134.118023 143.385683 \nL 134.219511 17.083636 \nL 134.320999 145.791436 \nL 134.523976 17.083636 \nL 134.726953 17.083636 \nL 134.92993 182.679653 \nL 135.132906 17.083636 \nL 135.234395 17.083636 \nL 135.335883 163.433627 \nL 135.437372 17.083636 \nL 135.53886 147.796231 \nL 135.741837 17.083636 \nL 136.046302 17.083636 \nL 136.14779 145.791436 \nL 136.350767 17.083636 \nL 137.061185 17.083636 \nL 137.162674 151.404861 \nL 137.365651 17.083636 \nL 138.177558 17.083636 \nL 138.380534 151.80582 \nL 138.583511 17.083636 \nL 140.105837 17.083636 \nL 140.207325 160.225956 \nL 140.410302 17.083636 \nL 140.51179 17.083636 \nL 140.613279 146.593354 \nL 140.714767 17.083636 \nL 140.816255 152.607737 \nL 141.019232 17.083636 \nL 141.222209 17.083636 \nL 141.323697 154.211573 \nL 141.526674 17.083636 \nL 141.628162 17.083636 \nL 141.729651 147.395272 \nL 141.932627 17.083636 \nL 142.034116 17.083636 \nL 142.135604 139.777053 \nL 142.338581 17.083636 \nL 142.541558 17.083636 \nL 142.643046 158.622121 \nL 142.846023 17.083636 \nL 146.601093 17.083636 \nL 146.702581 17.484595 \nL 146.905558 17.083636 \nL 147.108535 17.083636 \nL 147.210023 148.598149 \nL 147.413 17.083636 \nL 147.717465 17.083636 \nL 147.818953 180.2739 \nL 148.02193 17.083636 \nL 148.123418 17.083636 \nL 148.224907 153.409655 \nL 148.427883 17.083636 \nL 149.848721 17.083636 \nL 149.950209 165.83938 \nL 150.153186 17.083636 \nL 150.660628 17.083636 \nL 150.762116 145.791436 \nL 150.965093 17.083636 \nL 151.16807 17.083636 \nL 151.269558 146.593354 \nL 151.472535 17.083636 \nL 152.284442 17.083636 \nL 152.38593 142.984724 \nL 152.588907 17.083636 \nL 152.690395 17.083636 \nL 152.791884 139.777053 \nL 152.99486 17.083636 \nL 153.096349 203.128556 \nL 153.197837 149.801025 \nL 153.400814 17.083636 \nL 154.314209 17.083636 \nL 154.415698 155.013491 \nL 154.618674 17.083636 \nL 156.039512 17.083636 \nL 156.141 154.612532 \nL 156.343977 17.083636 \nL 156.546953 17.083636 \nL 156.648442 153.008696 \nL 156.851419 17.083636 \nL 157.561837 17.083636 \nL 157.663326 159.424038 \nL 157.866302 17.083636 \nL 157.967791 17.083636 \nL 158.069279 163.433627 \nL 158.170767 140.178012 \nL 158.272256 17.083636 \nL 158.373744 145.791436 \nL 158.576721 17.083636 \nL 158.779698 17.083636 \nL 158.881186 143.385683 \nL 159.084163 17.083636 \nL 159.185651 17.083636 \nL 159.28714 17.885554 \nL 159.490116 17.083636 \nL 159.591605 188.293078 \nL 159.794581 17.083636 \nL 160.809465 17.083636 \nL 160.910954 157.820203 \nL 161.012442 144.58856 \nL 161.215419 17.083636 \nL 161.519884 17.083636 \nL 161.621372 154.612532 \nL 161.722861 17.083636 \nL 161.824349 145.390478 \nL 162.027326 17.083636 \nL 163.143698 17.083636 \nL 163.245186 148.19719 \nL 163.448163 17.083636 \nL 163.549651 142.182807 \nL 163.752628 17.083636 \nL 163.955605 17.083636 \nL 164.057093 147.395272 \nL 164.26007 17.083636 \nL 166.492814 17.083636 \nL 166.594303 184.684448 \nL 166.797279 17.083636 \nL 167.000256 17.083636 \nL 167.101744 157.820203 \nL 167.203233 17.083636 \nL 167.40621 158.622121 \nL 167.609186 17.083636 \nL 167.913651 17.083636 \nL 168.01514 145.390478 \nL 168.218117 17.083636 \nL 169.435977 17.083636 \nL 169.537465 149.801025 \nL 169.740442 17.083636 \nL 170.653838 17.083636 \nL 170.755326 159.023079 \nL 170.958303 17.083636 \nL 171.668721 17.083636 \nL 171.77021 147.395272 \nL 171.973186 17.083636 \nL 172.074675 18.687472 \nL 172.277652 17.083636 \nL 173.089559 17.083636 \nL 173.191047 148.999108 \nL 173.292535 146.593354 \nL 173.495512 17.083636 \nL 174.002954 17.083636 \nL 174.104442 157.419244 \nL 174.307419 17.083636 \nL 175.119326 17.083636 \nL 175.220814 140.178012 \nL 175.423791 17.083636 \nL 175.52528 142.984724 \nL 175.626768 17.083636 \nL 175.728256 148.19719 \nL 175.931233 17.083636 \nL 176.946117 17.083636 \nL 177.149094 154.211573 \nL 177.35207 17.083636 \nL 178.468442 17.083636 \nL 178.569931 140.178012 \nL 178.772908 17.083636 \nL 179.280349 17.083636 \nL 179.381838 18.687472 \nL 179.584815 17.083636 \nL 179.686303 143.385683 \nL 179.787791 17.083636 \nL 179.88928 161.829792 \nL 180.092256 17.083636 \nL 180.193745 147.796231 \nL 180.396722 17.083636 \nL 181.513094 17.083636 \nL 181.614582 155.41445 \nL 181.71607 153.810614 \nL 181.919047 17.083636 \nL 182.020536 17.083636 \nL 182.122024 145.791436 \nL 182.325001 17.083636 \nL 182.527977 17.083636 \nL 182.629466 165.037463 \nL 182.832443 17.083636 \nL 183.035419 17.083636 \nL 183.136908 169.44801 \nL 183.339884 17.083636 \nL 183.542861 17.083636 \nL 183.64435 148.598149 \nL 183.745838 144.989519 \nL 183.948815 17.083636 \nL 185.775605 17.083636 \nL 185.877094 146.593354 \nL 186.080071 17.083636 \nL 186.283047 17.083636 \nL 186.384536 157.820203 \nL 186.587512 17.083636 \nL 187.094954 17.083636 \nL 187.196443 162.230751 \nL 187.297931 17.083636 \nL 187.399419 145.791436 \nL 187.602396 17.083636 \nL 187.805373 17.083636 \nL 187.906861 146.994313 \nL 188.00835 17.083636 \nL 188.211326 156.216367 \nL 188.414303 17.083636 \nL 188.820257 17.083636 \nL 188.921745 148.999108 \nL 189.124722 17.083636 \nL 189.22621 147.796231 \nL 189.429187 17.083636 \nL 189.936629 17.083636 \nL 190.038117 143.786642 \nL 190.241094 17.083636 \nL 191.154489 17.083636 \nL 191.255978 140.178012 \nL 191.458954 17.083636 \nL 192.778303 17.083636 \nL 192.879792 159.023079 \nL 192.98128 17.083636 \nL 193.082768 151.003902 \nL 193.285745 17.083636 \nL 193.488722 17.083636 \nL 193.59021 152.206779 \nL 193.793187 17.083636 \nL 194.199141 17.083636 \nL 194.300629 140.178012 \nL 194.402117 17.083636 \nL 194.503606 149.801025 \nL 194.706582 17.083636 \nL 194.808071 17.083636 \nL 194.909559 17.885554 \nL 195.112536 17.083636 \nL 195.214024 17.083636 \nL 195.315513 142.583765 \nL 195.417001 17.083636 \nL 195.518489 154.612532 \nL 195.721466 17.083636 \nL 196.025931 17.083636 \nL 196.228908 151.80582 \nL 196.431885 17.083636 \nL 196.634862 17.083636 \nL 196.73635 140.178012 \nL 196.939327 17.083636 \nL 197.142303 146.593354 \nL 197.34528 17.083636 \nL 198.157187 17.083636 \nL 198.258676 151.404861 \nL 198.461652 17.083636 \nL 198.664629 17.083636 \nL 198.766117 143.385683 \nL 198.969094 17.083636 \nL 199.172071 17.083636 \nL 199.273559 144.58856 \nL 199.476536 17.083636 \nL 199.578024 144.58856 \nL 199.781001 17.083636 \nL 201.912257 17.083636 \nL 202.013745 151.80582 \nL 202.216722 17.083636 \nL 202.622676 17.083636 \nL 202.724164 142.984724 \nL 202.927141 17.083636 \nL 203.028629 17.083636 \nL 203.130118 150.602943 \nL 203.231606 17.083636 \nL 203.333094 148.598149 \nL 203.536071 17.083636 \nL 203.637559 17.083636 \nL 203.739048 149.801025 \nL 203.942025 17.083636 \nL 204.85542 17.083636 \nL 204.956908 139.777053 \nL 205.159885 17.083636 \nL 205.870304 17.083636 \nL 205.971792 159.824997 \nL 206.07328 17.083636 \nL 206.174769 150.201984 \nL 206.377746 17.083636 \nL 206.580722 17.083636 \nL 206.682211 154.211573 \nL 206.885187 17.083636 \nL 207.291141 17.083636 \nL 207.392629 154.612532 \nL 207.595606 17.083636 \nL 209.523885 17.083636 \nL 209.625374 143.385683 \nL 209.82835 17.083636 \nL 210.132815 17.083636 \nL 210.234304 157.820203 \nL 210.437281 17.083636 \nL 210.741746 17.083636 \nL 210.843234 142.984724 \nL 210.944722 17.083636 \nL 211.046211 140.97993 \nL 211.249188 17.083636 \nL 211.350676 17.083636 \nL 211.452164 141.781848 \nL 211.553653 17.083636 \nL 211.655141 151.80582 \nL 211.858118 17.083636 \nL 212.061095 17.083636 \nL 212.162583 147.395272 \nL 212.36556 17.083636 \nL 212.873002 17.083636 \nL 212.97449 141.781848 \nL 213.177467 17.083636 \nL 213.887885 17.083636 \nL 213.989374 143.385683 \nL 214.090862 17.083636 \nL 214.19235 140.178012 \nL 214.395327 17.083636 \nL 215.308723 17.083636 \nL 215.410211 155.815408 \nL 215.613188 17.083636 \nL 215.816164 17.083636 \nL 215.917653 155.013491 \nL 216.12063 17.083636 \nL 217.135513 17.083636 \nL 217.237002 161.027874 \nL 217.439978 17.083636 \nL 217.642955 17.083636 \nL 217.744444 199.920885 \nL 217.845932 17.083636 \nL 217.94742 153.008696 \nL 218.150397 17.083636 \nL 218.353374 17.083636 \nL 218.454862 153.810614 \nL 218.556351 17.083636 \nL 218.657839 154.211573 \nL 218.860816 17.083636 \nL 220.281653 17.083636 \nL 220.383141 140.97993 \nL 220.586118 17.083636 \nL 220.687606 17.083636 \nL 220.789095 151.404861 \nL 220.992072 17.083636 \nL 221.09356 17.083636 \nL 221.195048 18.286513 \nL 221.296537 17.083636 \nL 221.398025 150.201984 \nL 221.601002 17.083636 \nL 221.803979 17.083636 \nL 221.905467 151.003902 \nL 222.006955 17.083636 \nL 222.108444 143.385683 \nL 222.31142 17.083636 \nL 222.717374 17.083636 \nL 222.818862 150.201984 \nL 223.021839 17.083636 \nL 223.123327 17.083636 \nL 223.224816 158.622121 \nL 223.326304 17.083636 \nL 223.427793 149.801025 \nL 223.630769 17.083636 \nL 225.965002 17.083636 \nL 226.06649 147.395272 \nL 226.269467 17.083636 \nL 227.690304 17.083636 \nL 227.791793 146.192395 \nL 227.994769 17.083636 \nL 228.197746 17.083636 \nL 228.299235 143.786642 \nL 228.502211 17.083636 \nL 229.82156 17.083636 \nL 229.923049 159.824997 \nL 230.126025 17.083636 \nL 230.227514 151.404861 \nL 230.43049 17.083636 \nL 231.749839 17.083636 \nL 231.952816 142.984724 \nL 232.155793 17.083636 \nL 233.373653 17.083636 \nL 233.475142 18.687472 \nL 233.678118 17.083636 \nL 234.084072 17.083636 \nL 234.18556 156.617326 \nL 234.388537 17.083636 \nL 235.301932 17.083636 \nL 235.403421 161.428833 \nL 235.606398 17.083636 \nL 235.707886 17.083636 \nL 235.809374 156.216367 \nL 236.012351 17.083636 \nL 236.925746 17.083636 \nL 237.027235 145.390478 \nL 237.128723 17.083636 \nL 237.230212 144.58856 \nL 237.3317 17.083636 \nL 237.433188 154.211573 \nL 237.534677 148.999108 \nL 237.737653 17.083636 \nL 238.042119 17.083636 \nL 238.143607 155.013491 \nL 238.346584 17.083636 \nL 238.448072 163.032668 \nL 238.651049 17.083636 \nL 238.752537 144.187601 \nL 238.955514 17.083636 \nL 240.782305 17.083636 \nL 240.883793 150.201984 \nL 240.985281 17.083636 \nL 241.08677 147.395272 \nL 241.289747 17.083636 \nL 241.391235 17.083636 \nL 241.492723 147.796231 \nL 241.594212 145.390478 \nL 241.797188 17.083636 \nL 243.623979 17.083636 \nL 243.725468 139.777053 \nL 243.928444 17.083636 \nL 244.740351 17.083636 \nL 244.84184 152.607737 \nL 245.044816 17.083636 \nL 246.66863 17.083636 \nL 246.770119 168.646093 \nL 246.973096 17.083636 \nL 247.176072 17.083636 \nL 247.277561 141.380889 \nL 247.480537 17.083636 \nL 248.799886 17.083636 \nL 248.901375 142.984724 \nL 249.104351 17.083636 \nL 249.81477 17.083636 \nL 250.017747 146.593354 \nL 250.220724 17.083636 \nL 251.844538 17.083636 \nL 251.946026 142.583765 \nL 252.149003 17.083636 \nL 252.757933 17.083636 \nL 252.859421 153.008696 \nL 253.062398 17.083636 \nL 253.366863 17.083636 \nL 253.468352 155.013491 \nL 253.56984 17.083636 \nL 253.671328 150.201984 \nL 253.772817 17.083636 \nL 253.874305 150.201984 \nL 254.077282 17.083636 \nL 254.7877 17.083636 \nL 254.889189 153.810614 \nL 255.092166 17.083636 \nL 255.193654 17.083636 \nL 255.295142 151.80582 \nL 255.396631 17.083636 \nL 255.498119 17.484595 \nL 255.701096 17.083636 \nL 256.614491 17.083636 \nL 256.71598 150.201984 \nL 256.918956 17.083636 \nL 257.223421 17.083636 \nL 257.32491 159.023079 \nL 257.527887 17.083636 \nL 257.93384 17.083636 \nL 258.035328 159.424038 \nL 258.238305 17.083636 \nL 258.54277 17.083636 \nL 258.644259 146.994313 \nL 258.847235 17.083636 \nL 259.151701 17.083636 \nL 259.253189 150.201984 \nL 259.456166 17.083636 \nL 260.775515 17.083636 \nL 260.877003 153.810614 \nL 261.07998 17.083636 \nL 261.790398 17.083636 \nL 261.891887 146.994313 \nL 262.094863 17.083636 \nL 262.196352 154.211573 \nL 262.399329 17.083636 \nL 262.500817 17.083636 \nL 262.602305 143.385683 \nL 262.805282 17.083636 \nL 263.414212 17.083636 \nL 263.515701 148.19719 \nL 263.718677 17.083636 \nL 264.023143 17.083636 \nL 264.226119 153.810614 \nL 264.429096 17.083636 \nL 264.83505 17.083636 \nL 265.038026 151.404861 \nL 265.241003 17.083636 \nL 266.458864 17.083636 \nL 266.560352 151.80582 \nL 266.763329 17.083636 \nL 266.864817 144.58856 \nL 267.067794 17.083636 \nL 268.488631 17.083636 \nL 268.590119 150.602943 \nL 268.793096 17.083636 \nL 268.894585 17.083636 \nL 268.996073 162.631709 \nL 269.19905 17.083636 \nL 269.706492 17.083636 \nL 269.80798 159.424038 \nL 269.909468 143.786642 \nL 270.112445 17.083636 \nL 270.213933 177.467188 \nL 270.41691 17.083636 \nL 270.518399 144.989519 \nL 270.721375 17.083636 \nL 272.142213 17.083636 \nL 272.243701 149.400066 \nL 272.446678 17.083636 \nL 272.548166 17.083636 \nL 272.649654 142.984724 \nL 272.852631 17.083636 \nL 273.157096 17.083636 \nL 273.258585 139.777053 \nL 273.461561 17.083636 \nL 275.288352 17.083636 \nL 275.389841 151.80582 \nL 275.592817 17.083636 \nL 276.709189 17.083636 \nL 276.810678 140.178012 \nL 277.013655 17.083636 \nL 277.521096 17.083636 \nL 277.622585 166.641298 \nL 277.724073 140.97993 \nL 277.92705 17.083636 \nL 278.130027 17.083636 \nL 278.231515 146.994313 \nL 278.333003 17.083636 \nL 278.434492 150.602943 \nL 278.637469 17.083636 \nL 278.738957 17.083636 \nL 278.840445 146.192395 \nL 279.043422 17.083636 \nL 282.595515 17.083636 \nL 282.697003 139.777053 \nL 282.89998 17.083636 \nL 283.204445 17.083636 \nL 283.305934 141.380889 \nL 283.50891 17.083636 \nL 283.610399 145.390478 \nL 283.813376 17.083636 \nL 283.914864 17.083636 \nL 284.016352 148.19719 \nL 284.219329 17.083636 \nL 284.320817 161.428833 \nL 284.523794 17.083636 \nL 285.031236 17.083636 \nL 285.234213 155.41445 \nL 285.43719 17.083636 \nL 285.944631 17.083636 \nL 286.04612 144.58856 \nL 286.249097 17.083636 \nL 286.65505 17.083636 \nL 286.756538 167.042257 \nL 286.858027 147.395272 \nL 286.959515 17.083636 \nL 287.061004 151.003902 \nL 287.162492 149.801025 \nL 287.26398 17.083636 \nL 287.365469 157.419244 \nL 287.568445 17.083636 \nL 287.669934 144.58856 \nL 287.872911 17.083636 \nL 289.395236 17.083636 \nL 289.496725 152.206779 \nL 289.699701 17.083636 \nL 290.207143 17.083636 \nL 290.308632 143.385683 \nL 290.511608 17.083636 \nL 290.816073 17.083636 \nL 290.917562 142.182807 \nL 291.01905 17.083636 \nL 291.120539 147.796231 \nL 291.222027 144.989519 \nL 291.323515 17.083636 \nL 291.425004 143.385683 \nL 291.62798 17.083636 \nL 292.439887 17.083636 \nL 292.541376 146.994313 \nL 292.744353 17.083636 \nL 293.759236 17.083636 \nL 293.860725 152.607737 \nL 294.063701 17.083636 \nL 294.16519 17.083636 \nL 294.266678 140.578971 \nL 294.469655 17.083636 \nL 294.672632 17.083636 \nL 294.77412 144.187601 \nL 294.875608 143.385683 \nL 294.977097 17.083636 \nL 295.078585 142.182807 \nL 295.281562 17.083636 \nL 295.38305 17.083636 \nL 295.484539 142.984724 \nL 295.687515 17.083636 \nL 295.789004 17.083636 \nL 295.890492 141.781848 \nL 296.093469 17.083636 \nL 296.194957 143.385683 \nL 296.397934 17.083636 \nL 296.499422 17.083636 \nL 296.600911 142.182807 \nL 296.803888 17.083636 \nL 297.006864 17.083636 \nL 297.108353 149.400066 \nL 297.311329 17.083636 \nL 297.514306 17.083636 \nL 297.615795 140.97993 \nL 297.818771 17.083636 \nL 298.935143 17.083636 \nL 299.036632 145.390478 \nL 299.239609 17.083636 \nL 299.74705 17.083636 \nL 299.848539 143.786642 \nL 300.051516 17.083636 \nL 300.254492 17.083636 \nL 300.355981 170.249928 \nL 300.457469 17.083636 \nL 300.558957 145.791436 \nL 300.761934 17.083636 \nL 300.964911 17.083636 \nL 301.066399 140.578971 \nL 301.269376 17.083636 \nL 301.370864 17.083636 \nL 301.472353 142.984724 \nL 301.67533 17.083636 \nL 302.588725 17.083636 \nL 302.690213 148.19719 \nL 302.89319 17.083636 \nL 303.197655 17.083636 \nL 303.299144 147.395272 \nL 303.400632 145.791436 \nL 303.50212 145.390478 \nL 303.705097 17.083636 \nL 304.719981 17.083636 \nL 304.821469 146.994313 \nL 305.024446 17.083636 \nL 305.531888 17.083636 \nL 305.633376 153.810614 \nL 305.734865 17.083636 \nL 305.937841 152.206779 \nL 306.140818 17.083636 \nL 306.952725 17.083636 \nL 307.054213 153.810614 \nL 307.25719 17.083636 \nL 307.561655 17.083636 \nL 307.663144 140.578971 \nL 307.86612 17.083636 \nL 308.069097 17.083636 \nL 308.170586 144.989519 \nL 308.373562 17.083636 \nL 309.895888 17.083636 \nL 309.997376 144.989519 \nL 310.200353 17.083636 \nL 310.40333 17.083636 \nL 310.504818 150.602943 \nL 310.707795 17.083636 \nL 310.809283 17.083636 \nL 310.910772 157.419244 \nL 311.113748 17.083636 \nL 312.839051 17.083636 \nL 312.940539 145.791436 \nL 313.143516 17.083636 \nL 313.245004 144.58856 \nL 313.346493 17.083636 \nL 313.447981 145.791436 \nL 313.650958 17.083636 \nL 314.1584 17.083636 \nL 314.259888 148.999108 \nL 314.462865 17.083636 \nL 315.883702 17.083636 \nL 315.98519 149.801025 \nL 316.188167 17.083636 \nL 317.304539 17.083636 \nL 317.406028 144.989519 \nL 317.609004 17.083636 \nL 318.217935 17.083636 \nL 318.319423 144.187601 \nL 318.5224 17.083636 \nL 318.928353 17.083636 \nL 319.029842 161.428833 \nL 319.232818 17.083636 \nL 319.334307 17.083636 \nL 319.435795 141.380889 \nL 319.537284 17.083636 \nL 319.638772 146.192395 \nL 319.841749 17.083636 \nL 320.958121 17.083636 \nL 321.059609 152.206779 \nL 321.262586 17.083636 \nL 322.27747 17.083636 \nL 322.378958 139.777053 \nL 322.581935 17.083636 \nL 325.728074 17.083636 \nL 325.829563 154.612532 \nL 326.03254 17.083636 \nL 326.539981 17.083636 \nL 326.64147 145.390478 \nL 326.844447 17.083636 \nL 327.351888 17.083636 \nL 327.453377 170.650887 \nL 327.656354 17.083636 \nL 328.569749 17.083636 \nL 328.671237 139.777053 \nL 328.874214 17.083636 \nL 331.309935 17.083636 \nL 331.411423 146.994313 \nL 331.6144 17.083636 \nL 332.121842 17.083636 \nL 332.22333 145.791436 \nL 332.426307 17.083636 \nL 333.035237 17.083636 \nL 333.136726 144.187601 \nL 333.339703 17.083636 \nL 335.267982 17.083636 \nL 335.36947 147.395272 \nL 335.572447 17.083636 \nL 335.876912 17.083636 \nL 335.9784 148.19719 \nL 336.079889 17.083636 \nL 336.181377 161.829792 \nL 336.384354 17.083636 \nL 336.993284 17.083636 \nL 337.094772 140.178012 \nL 337.297749 17.083636 \nL 337.906679 17.083636 \nL 338.008168 150.602943 \nL 338.211145 17.083636 \nL 338.414121 17.083636 \nL 338.51561 154.612532 \nL 338.617098 146.192395 \nL 338.820075 17.083636 \nL 339.327517 17.083636 \nL 339.429005 157.018285 \nL 339.631982 17.083636 \nL 339.834959 17.083636 \nL 339.936447 147.796231 \nL 340.139424 17.083636 \nL 341.052819 17.083636 \nL 341.154307 151.404861 \nL 341.357284 17.083636 \nL 343.793005 17.083636 \nL 343.894494 148.598149 \nL 344.09747 17.083636 \nL 344.807889 17.083636 \nL 344.909377 147.796231 \nL 345.112354 17.083636 \nL 345.416819 17.083636 \nL 345.518308 141.380889 \nL 345.619796 17.083636 \nL 345.822773 147.395272 \nL 346.025749 17.083636 \nL 346.431703 17.083636 \nL 346.533191 158.622121 \nL 346.736168 17.083636 \nL 346.837656 17.083636 \nL 346.939145 159.023079 \nL 347.040633 17.083636 \nL 347.24361 180.674859 \nL 347.446587 17.083636 \nL 347.548075 154.612532 \nL 347.751052 17.083636 \nL 348.055517 17.083636 \nL 348.157005 144.989519 \nL 348.258494 17.083636 \nL 348.359982 146.593354 \nL 348.562959 17.083636 \nL 349.374866 17.083636 \nL 349.476354 161.829792 \nL 349.679331 17.083636 \nL 349.882308 17.083636 \nL 349.983796 147.395272 \nL 350.085284 141.781848 \nL 350.288261 17.083636 \nL 350.38975 17.083636 \nL 350.491238 150.602943 \nL 350.694215 17.083636 \nL 352.21654 17.083636 \nL 352.318029 146.994313 \nL 352.419517 17.083636 \nL 352.521005 149.400066 \nL 352.622494 141.781848 \nL 352.825471 17.083636 \nL 352.926959 17.083636 \nL 353.028447 148.598149 \nL 353.129936 17.083636 \nL 353.231424 141.781848 \nL 353.434401 17.083636 \nL 354.246308 17.083636 \nL 354.449285 158.221162 \nL 354.550773 148.999108 \nL 354.75375 17.083636 \nL 355.464168 17.083636 \nL 355.565657 149.801025 \nL 355.768633 17.083636 \nL 355.97161 17.083636 \nL 356.073099 18.687472 \nL 356.276075 17.083636 \nL 356.885006 17.083636 \nL 356.986494 148.999108 \nL 357.189471 17.083636 \nL 357.290959 17.083636 \nL 357.392447 147.796231 \nL 357.595424 17.083636 \nL 358.102866 17.083636 \nL 358.204354 160.626915 \nL 358.407331 17.083636 \nL 358.813285 17.083636 \nL 358.914773 158.221162 \nL 359.11775 17.083636 \nL 360.031145 17.083636 \nL 360.132634 177.868147 \nL 360.33561 17.083636 \nL 360.741564 17.083636 \nL 360.843052 145.791436 \nL 361.046029 17.083636 \nL 361.249006 17.083636 \nL 361.249006 17.083636 \n\" style=\"fill:none;stroke:#8dd3c7;stroke-linecap:square;stroke-width:1.5;\"/>\n   </g>\n   <g id=\"patch_3\">\n    <path d=\"M 41.667188 224.64 \nL 41.667188 7.2 \n\" style=\"fill:none;stroke:#ffffff;stroke-linecap:square;stroke-linejoin:miter;stroke-width:0.8;\"/>\n   </g>\n   <g id=\"patch_4\">\n    <path d=\"M 376.467188 224.64 \nL 376.467188 7.2 \n\" style=\"fill:none;stroke:#ffffff;stroke-linecap:square;stroke-linejoin:miter;stroke-width:0.8;\"/>\n   </g>\n   <g id=\"patch_5\">\n    <path d=\"M 41.667188 224.64 \nL 376.467188 224.64 \n\" style=\"fill:none;stroke:#ffffff;stroke-linecap:square;stroke-linejoin:miter;stroke-width:0.8;\"/>\n   </g>\n   <g id=\"patch_6\">\n    <path d=\"M 41.667188 7.2 \nL 376.467188 7.2 \n\" style=\"fill:none;stroke:#ffffff;stroke-linecap:square;stroke-linejoin:miter;stroke-width:0.8;\"/>\n   </g>\n  </g>\n </g>\n <defs>\n  <clipPath id=\"pdb00de0a50\">\n   <rect height=\"217.44\" width=\"334.8\" x=\"41.667188\" y=\"7.2\"/>\n  </clipPath>\n </defs>\n</svg>\n",
      "image/png": "[encoded data removed]"
     },
     "metadata": {
      "needs_background": "dark"
     }
    }
   ],
   "source": [
    "# PLOT REWARDS CURVE\n",
    "plt.plot(np.arange(NUM_EPISODES), episode_rewards)"
   ]
  },
  {
   "cell_type": "code",
   "execution_count": 25,
   "metadata": {
    "tags": []
   },
   "outputs": [
    {
     "output_type": "stream",
     "name": "stderr",
     "text": "100%|██████████| 200/200 [00:03<00:00, 58.40it/s]\n"
    }
   ],
   "source": [
    "# TESTING\n",
    "observation = env.reset()\n",
    "state = get_state(observation, bins)\n",
    "for moves in tqdm(range(MAX_MOVES)):\n",
    "    env.render()\n",
    "    action = np.argmax(Q[state])\n",
    "    # TAKE ACTION\n",
    "    observation, reward, done, _ = env.step(action)\n",
    "    state = get_state(observation, bins)\n",
    "    \n",
    "    if(done):\n",
    "        print(\"MOVES: \",moves)\n",
    "        break\n",
    "\n",
    "env.close()"
   ]
  }
 ]
}