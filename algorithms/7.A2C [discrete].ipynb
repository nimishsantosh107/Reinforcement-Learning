{
 "cells": [
  {
   "cell_type": "code",
   "execution_count": 1,
   "metadata": {
    "executionInfo": {
     "elapsed": 6048,
     "status": "ok",
     "timestamp": 1603339592882,
     "user": {
      "displayName": "Nimish S",
      "photoUrl": "",
      "userId": "16860995465865824316"
     },
     "user_tz": -330
    },
    "id": "0dfRgaa92KdI"
   },
   "outputs": [],
   "source": [
    "# %%capture\n",
    "# !pip install box2d-py"
   ]
  },
  {
   "cell_type": "code",
   "execution_count": 1,
   "metadata": {
    "colab": {
     "base_uri": "https://localhost:8080/",
     "height": 36
    },
    "executionInfo": {
     "elapsed": 2404,
     "status": "ok",
     "timestamp": 1603294008155,
     "user": {
      "displayName": "Nimish S",
      "photoUrl": "",
      "userId": "16860995465865824316"
     },
     "user_tz": -330
    },
    "id": "xry67bcZ2ie5",
    "outputId": "49580b45-60b4-438d-aa47-319faf4d047f"
   },
   "outputs": [],
   "source": [
    "# T.cuda.get_device_name()"
   ]
  },
  {
   "cell_type": "code",
   "execution_count": 2,
   "metadata": {
    "executionInfo": {
     "elapsed": 10323,
     "status": "ok",
     "timestamp": 1603339597168,
     "user": {
      "displayName": "Nimish S",
      "photoUrl": "",
      "userId": "16860995465865824316"
     },
     "user_tz": -330
    },
    "id": "ckjnmhgQ2cvM"
   },
   "outputs": [],
   "source": [
    "import os\n",
    "import cv2\n",
    "import gym\n",
    "import time\n",
    "import warnings\n",
    "\n",
    "import numpy as np\n",
    "import torch as T\n",
    "import torch.optim as optim\n",
    "import torch.nn as nn\n",
    "import torch.nn.functional as F\n",
    "import matplotlib.pyplot as plt\n",
    "\n",
    "from tqdm.notebook import tqdm\n",
    "\n",
    "warnings.filterwarnings(\"ignore\")\n",
    "%matplotlib inline"
   ]
  },
  {
   "cell_type": "markdown",
   "metadata": {
    "id": "M-bHj8PV3Cir"
   },
   "source": [
    "## **Memory**"
   ]
  },
  {
   "cell_type": "code",
   "execution_count": 3,
   "metadata": {
    "executionInfo": {
     "elapsed": 10321,
     "status": "ok",
     "timestamp": 1603339597171,
     "user": {
      "displayName": "Nimish S",
      "photoUrl": "",
      "userId": "16860995465865824316"
     },
     "user_tz": -330
    },
    "id": "XlHumQ323CsT"
   },
   "outputs": [],
   "source": [
    "class Memory:\n",
    "    def __init__(self):\n",
    "        self.device = T.device('cuda:0' if T.cuda.is_available() else 'cpu')\n",
    "        self.states = []\n",
    "        self.actions = []\n",
    "        self.logprobs = []\n",
    "        self.entropies = []\n",
    "        self.rewards = []\n",
    "\n",
    "    def store_step(self, state, action, logprob, entropy, reward):\n",
    "        self.states.append(T.tensor(state, dtype=T.float32).to(self.device))\n",
    "        self.actions.append(T.tensor(action, dtype=T.float32).to(self.device))\n",
    "        self.logprobs.append(logprob) # HAS GRAD\n",
    "        self.entropies.append(T.tensor(entropy, dtype=T.float32).to(self.device))\n",
    "        self.rewards.append(T.tensor(reward, dtype=T.float32).to(self.device))\n",
    "    \n",
    "    def clear(self):\n",
    "        del self.states[:]\n",
    "        del self.actions[:]\n",
    "        del self.logprobs[:]\n",
    "        del self.entropies[:]\n",
    "        del self.rewards[:]\n",
    "\n",
    "    def __getitem__(self,i):\n",
    "        state = self.states[i]\n",
    "        action = self.actions[i]\n",
    "        logprob = self.logprobs[i]\n",
    "        entropy = self.entropies[i]\n",
    "        reward = self.rewards[i]\n",
    "        return(state, action, logprob, entropy, reward)\n",
    "\n",
    "    def __len__(self):\n",
    "        return len(self.states)"
   ]
  },
  {
   "cell_type": "markdown",
   "metadata": {
    "id": "piqynVGt3DQu"
   },
   "source": [
    "## **Network**"
   ]
  },
  {
   "cell_type": "code",
   "execution_count": 4,
   "metadata": {
    "executionInfo": {
     "elapsed": 10320,
     "status": "ok",
     "timestamp": 1603339597175,
     "user": {
      "displayName": "Nimish S",
      "photoUrl": "",
      "userId": "16860995465865824316"
     },
     "user_tz": -330
    },
    "id": "4sAqpONN5xB3"
   },
   "outputs": [],
   "source": [
    "class ActorNetwork(nn.Module):\n",
    "    def __init__(self, lr, observation_shape, n_actions, fc1_size, fc2_size, model_name, model_dir):\n",
    "        super().__init__()\n",
    "        self.model_dir = model_dir\n",
    "        self.model_file = os.path.join(self.model_dir, model_name)\n",
    "        self.fc1_size = fc1_size\n",
    "        self.fc2_size = fc2_size\n",
    "\n",
    "        # ACTOR\n",
    "        self.actor = nn.Sequential(\n",
    "            nn.Linear(observation_shape[0], fc1_size),\n",
    "            nn.ReLU(),\n",
    "            nn.Linear(fc1_size, fc2_size),\n",
    "            nn.ReLU(),\n",
    "            nn.Linear(fc2_size, n_actions),\n",
    "            nn.Softmax(dim=1)\n",
    "        )\n",
    "\n",
    "        # UTILS\n",
    "        self.device = T.device('cuda:0' if T.cuda.is_available() else 'cpu')\n",
    "        self.optimizer = optim.RMSprop(self.parameters(), lr=lr, alpha=0.99)\n",
    "        self.to(self.device)\n",
    "\n",
    "    def forward(self, state):\n",
    "        return self.actor(state)\n",
    "\n",
    "    def save_model(self):\n",
    "        print(\"[INFO] - Saving model\")\n",
    "        checkpoint = {\n",
    "            'model_state_dict': self.state_dict(),\n",
    "            'optimizer_state_dict' : self.optimizer.state_dict()\n",
    "        }\n",
    "        T.save(checkpoint, self.model_file)\n",
    "    \n",
    "    def load_model(self, cpu=False):\n",
    "        print(\"[INFO] - Loading model\")\n",
    "        \n",
    "        map_location = T.device('cpu') if (cpu) else None\n",
    "        \n",
    "        checkpoint = T.load(self.model_file, map_location=map_location)\n",
    "        self.load_state_dict(checkpoint['model_state_dict'])\n",
    "        self.optimizer.load_state_dict(checkpoint['optimizer_state_dict'])"
   ]
  },
  {
   "cell_type": "code",
   "execution_count": 5,
   "metadata": {
    "executionInfo": {
     "elapsed": 10315,
     "status": "ok",
     "timestamp": 1603339597177,
     "user": {
      "displayName": "Nimish S",
      "photoUrl": "",
      "userId": "16860995465865824316"
     },
     "user_tz": -330
    },
    "id": "uh4XV7fC3F15"
   },
   "outputs": [],
   "source": [
    "class CriticNetwork(nn.Module):\n",
    "    def __init__(self, lr, observation_shape, n_actions, fc1_size, fc2_size, model_name, model_dir):\n",
    "        super().__init__()\n",
    "        self.model_dir = model_dir\n",
    "        self.model_file = os.path.join(self.model_dir, model_name)\n",
    "        self.fc1_size = fc1_size\n",
    "        self.fc2_size = fc2_size\n",
    "\n",
    "        # CRITIC\n",
    "        self.critic = nn.Sequential(\n",
    "            nn.Linear(observation_shape[0], fc1_size),\n",
    "            nn.ReLU(),\n",
    "            nn.Linear(fc1_size, fc2_size),\n",
    "            nn.ReLU(),\n",
    "            nn.Linear(fc2_size, 1),\n",
    "        )\n",
    "\n",
    "        # UTILS\n",
    "        self.device = T.device('cuda:0' if T.cuda.is_available() else 'cpu')\n",
    "        self.loss = nn.SmoothL1Loss()\n",
    "        self.optimizer = optim.RMSprop(self.parameters(), lr=lr, alpha=0.99)\n",
    "        self.to(self.device)\n",
    "\n",
    "    def forward(self, state):\n",
    "        return self.critic(state)\n",
    "\n",
    "    def save_model(self):\n",
    "        print(\"[INFO] - Saving model\")\n",
    "        checkpoint = {\n",
    "            'model_state_dict': self.state_dict(),\n",
    "            'optimizer_state_dict' : self.optimizer.state_dict()\n",
    "        }\n",
    "        T.save(checkpoint, self.model_file)\n",
    "    \n",
    "    def load_model(self, cpu=False):\n",
    "        print(\"[INFO] - Loading model\")\n",
    "        \n",
    "        map_location = T.device('cpu') if (cpu) else None\n",
    "        \n",
    "        checkpoint = T.load(self.model_file, map_location=map_location)\n",
    "        self.load_state_dict(checkpoint['model_state_dict'])\n",
    "        self.optimizer.load_state_dict(checkpoint['optimizer_state_dict'])"
   ]
  },
  {
   "cell_type": "markdown",
   "metadata": {
    "id": "ktQPIXcB3IxU"
   },
   "source": [
    "## **Agent**"
   ]
  },
  {
   "cell_type": "code",
   "execution_count": 6,
   "metadata": {
    "executionInfo": {
     "elapsed": 10314,
     "status": "ok",
     "timestamp": 1603339597179,
     "user": {
      "displayName": "Nimish S",
      "photoUrl": "",
      "userId": "16860995465865824316"
     },
     "user_tz": -330
    },
    "id": "Yq6QBFbq3I5z"
   },
   "outputs": [],
   "source": [
    "class A2CAgent:\n",
    "    def __init__(self, observation_shape, n_actions, actor_lr, critic_lr, fc1_size, fc2_size, gamma, \n",
    "                 learn_interval, algo_name, env_name, model_dir):\n",
    "        self.observation_shape = observation_shape\n",
    "        self.n_actions = n_actions\n",
    "        self.A_LR = actor_lr\n",
    "        self.C_LR = critic_lr\n",
    "        self.GAMMA = gamma\n",
    "        self.memory = Memory()\n",
    "        # MODEL PARAMS\n",
    "        self.move_counter = 0\n",
    "        self.learn_interval = learn_interval\n",
    "        self.algo_name = algo_name\n",
    "        self.env_name = env_name\n",
    "        self.model_dir = model_dir\n",
    "        # A1\n",
    "        self.actor = ActorNetwork(actor_lr, observation_shape, n_actions, fc1_size, fc2_size,\n",
    "                              model_name = env_name+'_'+algo_name+'actor',\n",
    "                              model_dir = model_dir)\n",
    "        # C1\n",
    "        self.critic = CriticNetwork(actor_lr, observation_shape, n_actions, fc1_size, fc2_size,\n",
    "                              model_name = env_name+'_'+algo_name+'critic',\n",
    "                              model_dir = model_dir)\n",
    "\n",
    "    def get_action(self, observation):\n",
    "        observation = T.tensor([observation], dtype=T.float32).to(self.actor.device)\n",
    "        action_probs = self.actor(observation)\n",
    "        action_dist = T.distributions.Categorical(action_probs)\n",
    "        action = action_dist.sample()\n",
    "        logprob = action_dist.log_prob(action)\n",
    "        entropy = action_dist.entropy()\n",
    "        return action.item(), logprob, entropy.item()\n",
    "\n",
    "    def learn(self, state_, terminal):\n",
    "\n",
    "        # ADVANTAGE\n",
    "        state_ = T.tensor([state_], dtype=T.float32).to(self.critic.device)\n",
    "        Q = 0 if (terminal) else self.critic(state_)\n",
    "        Q_values = []\n",
    "        for *_, reward in zip(*(self.memory[::-1])):\n",
    "            Q = reward + (self.GAMMA * Q)\n",
    "            Q_values.insert(0, Q)\n",
    "        \n",
    "        Q_values = T.tensor(Q_values).to(self.critic.device)\n",
    "        V_values = self.critic(T.stack(self.memory.states[:]))\n",
    "        advantages = Q_values - V_values\n",
    "\n",
    "        # CRITIC LOSS\n",
    "        critic_loss = advantages.pow(2).mean()\n",
    "\n",
    "        # ACTOR LOSS\n",
    "        logprobs = T.stack(self.memory.logprobs[:])\n",
    "        actor_loss = (-(logprobs * advantages.detach())).mean()\n",
    "\n",
    "        # ENTROPY\n",
    "        dist_entropy = T.stack(self.memory.entropies[:]).mean()\n",
    "\n",
    "        loss = actor_loss + (critic_loss * 0.25) - (dist_entropy * 0.01)\n",
    "        self.critic.optimizer.zero_grad()\n",
    "        self.actor.optimizer.zero_grad()\n",
    "        loss.backward()\n",
    "        self.critic.optimizer.step()\n",
    "        self.actor.optimizer.step()\n",
    "\n",
    "  \n",
    "    def save_models(self):\n",
    "        self.actor.save_model()\n",
    "        self.critic.save_model()\n",
    "\n",
    "    def load_models(self, cpu=False):\n",
    "        self.actor.load_model(cpu)\n",
    "        self.critic.load_model(cpu)"
   ]
  },
  {
   "cell_type": "markdown",
   "metadata": {
    "id": "SrqMm67bZOXQ"
   },
   "source": [
    "## **Training**"
   ]
  },
  {
   "cell_type": "code",
   "execution_count": 7,
   "metadata": {
    "executionInfo": {
     "elapsed": 10312,
     "status": "ok",
     "timestamp": 1603339597180,
     "user": {
      "displayName": "Nimish S",
      "photoUrl": "",
      "userId": "16860995465865824316"
     },
     "user_tz": -330
    },
    "id": "JBRyqiKgZNry"
   },
   "outputs": [],
   "source": [
    "env_name = \"LunarLander-v2\"\n",
    "env = gym.make(env_name)"
   ]
  },
  {
   "cell_type": "code",
   "execution_count": 8,
   "metadata": {
    "executionInfo": {
     "elapsed": 19678,
     "status": "ok",
     "timestamp": 1603339606549,
     "user": {
      "displayName": "Nimish S",
      "photoUrl": "",
      "userId": "16860995465865824316"
     },
     "user_tz": -330
    },
    "id": "5pRCqoCL4_rx"
   },
   "outputs": [],
   "source": [
    "agent = A2CAgent(observation_shape=env.observation_space.shape,\n",
    "                 n_actions=env.action_space.n,\n",
    "                 actor_lr=7e-4,\n",
    "                 critic_lr=7e-4,\n",
    "                 fc1_size=400,\n",
    "                 fc2_size=300,\n",
    "                 gamma=0.99,\n",
    "                 learn_interval=5,\n",
    "                 algo_name='A2C',\n",
    "                 env_name=env_name,\n",
    "                 model_dir='./')"
   ]
  },
  {
   "cell_type": "code",
   "execution_count": 9,
   "metadata": {
    "executionInfo": {
     "elapsed": 19679,
     "status": "ok",
     "timestamp": 1603339606554,
     "user": {
      "displayName": "Nimish S",
      "photoUrl": "",
      "userId": "16860995465865824316"
     },
     "user_tz": -330
    },
    "id": "QNKNh8pZaQx9"
   },
   "outputs": [],
   "source": [
    "N_EPISODES = 3000\n",
    "\n",
    "episode_rewards, episode_lengths, mean_rewards = [],[],[]\n",
    "best_reward = -np.inf"
   ]
  },
  {
   "cell_type": "code",
   "execution_count": null,
   "metadata": {
    "id": "NWn6_gG0aVhj"
   },
   "outputs": [],
   "source": [
    "for episode_n in tqdm(range(N_EPISODES)):\n",
    "    total_reward, total_moves = 0,0\n",
    "\n",
    "    done = False\n",
    "    observation = env.reset()\n",
    "\n",
    "    while not done:\n",
    "        agent.move_counter += 1\n",
    "\n",
    "        action, logprob, entropy = agent.get_action(observation)\n",
    "        observation_, reward, done, _ = env.step(action)\n",
    "\n",
    "        agent.memory.store_step(observation, action, logprob, entropy, reward)\n",
    "        total_reward += reward\n",
    "        total_moves += 1\n",
    "\n",
    "        if ((agent.move_counter % agent.learn_interval) == 0):\n",
    "            agent.learn(observation_, done)\n",
    "            agent.memory.clear()\n",
    "        \n",
    "        observation = observation_\n",
    "\n",
    "    # IF DONE BUT MEM HAS ELEMENTS\n",
    "    if (len(agent.memory) >= 2):\n",
    "        agent.learn(observation_, done)\n",
    "    agent.memory.clear()\n",
    "        \n",
    "    episode_rewards.append(total_reward)\n",
    "    episode_lengths.append(total_moves)\n",
    "\n",
    "    mean_reward = np.mean(episode_rewards[-100:])\n",
    "    mean_rewards.append(mean_reward)\n",
    "    if(mean_reward > best_reward):\n",
    "        best_reward = mean_reward\n",
    "        agent.save_models()\n",
    "        \n",
    "    print(\"ITER: \",episode_n,\"\\tRWD: \",round(total_reward,2),\"\\tM_RWD: \",round(mean_reward,2),\"\\tLEN: \",total_moves)"
   ]
  },
  {
   "cell_type": "markdown",
   "metadata": {
    "id": "meGYOarJpEk9"
   },
   "source": [
    "### **Results**"
   ]
  },
  {
   "cell_type": "code",
   "execution_count": 17,
   "metadata": {
    "colab": {
     "base_uri": "https://localhost:8080/",
     "height": 305
    },
    "executionInfo": {
     "elapsed": 1838,
     "status": "ok",
     "timestamp": 1603341639269,
     "user": {
      "displayName": "Nimish S",
      "photoUrl": "",
      "userId": "16860995465865824316"
     },
     "user_tz": -330
    },
    "id": "Z3wLdlDNl47E",
    "outputId": "04ab7fbb-854a-4bd9-bde2-c7c7570749c1"
   },
   "outputs": [
    {
     "data": {
      "text/plain": [
       "186.15663016244588"
      ]
     },
     "metadata": {
      "tags": []
     },
     "output_type": "display_data"
    },
    {
     "data": {
      "text/plain": [
       "708625"
      ]
     },
     "metadata": {
      "tags": []
     },
     "output_type": "display_data"
    },
    {
     "data": {
      "image/png": "[encoded data removed]",
      "text/plain": [
       "<Figure size 432x288 with 1 Axes>"
      ]
     },
     "metadata": {
      "needs_background": "light",
      "tags": []
     },
     "output_type": "display_data"
    }
   ],
   "source": [
    "plt.ylim(-500,200)\n",
    "plt.plot(mean_rewards)\n",
    "display(best_reward)\n",
    "display(np.sum(episode_lengths))"
   ]
  },
  {
   "cell_type": "code",
   "execution_count": 25,
   "metadata": {
    "colab": {
     "base_uri": "https://localhost:8080/",
     "height": 287
    },
    "executionInfo": {
     "elapsed": 2233,
     "status": "ok",
     "timestamp": 1603342065461,
     "user": {
      "displayName": "Nimish S",
      "photoUrl": "",
      "userId": "16860995465865824316"
     },
     "user_tz": -330
    },
    "id": "Ojx0TJQbob39",
    "outputId": "d626a1df-fef5-4477-8263-d5f3e231b32d"
   },
   "outputs": [
    {
     "data": {
      "text/plain": [
       "[<matplotlib.lines.Line2D at 0x7fd1feada208>]"
      ]
     },
     "execution_count": 25,
     "metadata": {
      "tags": []
     },
     "output_type": "execute_result"
    },
    {
     "data": {
      "image/png": "[encoded data removed]",
      "text/plain": [
       "<Figure size 432x288 with 1 Axes>"
      ]
     },
     "metadata": {
      "needs_background": "light",
      "tags": []
     },
     "output_type": "display_data"
    }
   ],
   "source": [
    "plt.ylim(-500,200)\n",
    "plt.plot(episode_rewards)"
   ]
  }
 ],
 "metadata": {
  "accelerator": "GPU",
  "colab": {
   "authorship_tag": "ABX9TyPTS6S64J1MKSUgohlUY6Rj",
   "collapsed_sections": [
    "M-bHj8PV3Cir",
    "piqynVGt3DQu"
   ],
   "name": "A2C.ipynb",
   "provenance": []
  },
  "kernelspec": {
   "display_name": "base",
   "language": "python",
   "name": "python3"
  },
  "language_info": {
   "codemirror_mode": {
    "name": "ipython",
    "version": 3
   },
   "file_extension": ".py",
   "mimetype": "text/x-python",
   "name": "python",
   "nbconvert_exporter": "python",
   "pygments_lexer": "ipython3",
   "version": "3.8.5"
  }
 },
 "nbformat": 4,
 "nbformat_minor": 4
}
