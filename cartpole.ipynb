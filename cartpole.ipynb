{
 "metadata": {
  "language_info": {
   "codemirror_mode": {
    "name": "ipython",
    "version": 3
   },
   "file_extension": ".py",
   "mimetype": "text/x-python",
   "name": "python",
   "nbconvert_exporter": "python",
   "pygments_lexer": "ipython3",
   "version": "3.7.7-final"
  },
  "orig_nbformat": 2,
  "kernelspec": {
   "name": "python_defaultSpec_1596146781783",
   "display_name": "Python 3.7.7 64-bit ('base': conda)"
  }
 },
 "nbformat": 4,
 "nbformat_minor": 2,
 "cells": [
  {
   "cell_type": "markdown",
   "metadata": {},
   "source": [
    "## Init"
   ]
  },
  {
   "cell_type": "code",
   "execution_count": 11,
   "metadata": {},
   "outputs": [],
   "source": [
    "import gym\n",
    "import numpy as np\n",
    "import matplotlib.pyplot as plt\n",
    "\n",
    "from tqdm import tqdm, trange\n",
    "\n",
    "%matplotlib inline"
   ]
  },
  {
   "cell_type": "markdown",
   "metadata": {},
   "source": [
    "## Simple implementation"
   ]
  },
  {
   "cell_type": "code",
   "execution_count": null,
   "metadata": {},
   "outputs": [],
   "source": [
    "env = gym.make('CartPole-v1')"
   ]
  },
  {
   "cell_type": "code",
   "execution_count": null,
   "metadata": {
    "tags": []
   },
   "outputs": [],
   "source": [
    "# TRAINING\n",
    "MAX_MOVES = 500 #Cartpole-v1\n",
    "\n",
    "best_length = 0\n",
    "best_weights = None\n",
    "\n",
    "for weights in tqdm(range(100)):\n",
    "    weights_arr = np.random.uniform(-1,1,4)\n",
    "    game_lengths = []\n",
    "\n",
    "    for game in range(100):\n",
    "\n",
    "        observation = env.reset()\n",
    "        for moves in range(MAX_MOVES):\n",
    "            # env.render()\n",
    "            action = 1 if(np.dot(weights_arr, observation) > 0) else 0 \n",
    "            observation, reward, done, info = env.step(action)\n",
    "\n",
    "            if(done):\n",
    "                game_lengths.append(moves)\n",
    "                break\n",
    "\n",
    "    average_length = sum(game_lengths) / len(game_lengths)\n",
    "    if (average_length > best_length):\n",
    "        best_length = average_length\n",
    "        best_weights = weights_arr\n",
    "\n",
    "print(\"\\nBEST LENGTH: \",best_length)"
   ]
  },
  {
   "cell_type": "code",
   "execution_count": null,
   "metadata": {
    "tags": []
   },
   "outputs": [],
   "source": [
    "# TESTING\n",
    "weights_arr = best_weights\n",
    "\n",
    "observation = env.reset()\n",
    "for moves in tqdm(range(MAX_MOVES)):\n",
    "    env.render()\n",
    "    action = 1 if(np.dot(weights_arr, observation) > 0) else 0 \n",
    "    observation, reward, done, info = env.step(action)\n",
    "\n",
    "    if(done):\n",
    "        print(\"MOVES: \",moves)\n",
    "        break\n",
    "\n",
    "env.close()"
   ]
  },
  {
   "cell_type": "markdown",
   "metadata": {},
   "source": [
    "## Q-Learning"
   ]
  },
  {
   "cell_type": "code",
   "execution_count": null,
   "metadata": {},
   "outputs": [],
   "source": [
    "env = gym.make('CartPole-v0')"
   ]
  },
  {
   "cell_type": "code",
   "execution_count": null,
   "metadata": {},
   "outputs": [],
   "source": [
    "# DISCRETIZING CONTINUOUS SPACE\n",
    "def create_bins():\n",
    "    bins = np.zeros((4,10))\n",
    "    bins[0] = np.linspace(-2.4, 2.4, 10)\n",
    "    bins[1] = np.linspace(-5, 5, 10)\n",
    "    bins[2] = np.linspace(-0.418, 0.418, 10)\n",
    "    bins[3] = np.linspace(-5, 5, 10)\n",
    "    return bins\n",
    "\n",
    "# GIVEN OBSERVATION ARRAY AND BINS, RETURNS STATE NUMBER\n",
    "def get_state(observation, bins):\n",
    "    state = np.zeros(4)\n",
    "    for i in range(4):\n",
    "        state[i] = np.digitize(observation[i], bins[i]) - 1\n",
    "    string_state = ''.join(str(int(n)) for n in state)\n",
    "    return int(string_state)\n"
   ]
  },
  {
   "cell_type": "code",
   "execution_count": null,
   "metadata": {},
   "outputs": [],
   "source": [
    "#PLAY SINGLE EPISODE\n",
    "def play_episode(Q, bins, epsilon):\n",
    "\n",
    "    observation = env.reset()\n",
    "    state = get_state(observation, bins)\n",
    "    total_reward = 0\n",
    "\n",
    "    for moves in range(MAX_MOVES):\n",
    "        # e-GREEDY\n",
    "        if (np.random.uniform() < epsilon):\n",
    "            action = env.action_space.sample()\n",
    "        else:\n",
    "            action = np.argmax(Q[state])\n",
    "        # TAKE ACTION\n",
    "        observation, reward, done, _ = env.step(action)\n",
    "\n",
    "        # PUNISH FOR FAILURE\n",
    "        if( done and (moves < (MAX_MOVES - 25)) ):\n",
    "            reward = -200\n",
    "        total_reward += reward\n",
    "\n",
    "        # UPDATE Q-VALUES (greedify)\n",
    "        next_state = get_state(observation, bins)\n",
    "        next_bestaction = np.argmax(Q[next_state])\n",
    "        next_Q = Q[next_state][next_bestaction]\n",
    "        Q[state][action] += (ALPHA * (reward + (GAMMA * next_Q) - Q[state][action]))\n",
    "\n",
    "        state = next_state\n",
    "\n",
    "        # BREAK IF TERMINATED\n",
    "        if(done): break \n",
    "\n",
    "    return (round(total_reward), round(moves))"
   ]
  },
  {
   "cell_type": "code",
   "execution_count": 14,
   "metadata": {},
   "outputs": [],
   "source": [
    "# INIT\n",
    "MAX_STATES = 10 ** 4\n",
    "MAX_MOVES = 200 #Cartpole-v0\n",
    "NUM_EPISODES = 3000\n",
    "GAMMA = 0.9\n",
    "ALPHA = 0.01\n",
    "EPSILON = 0.5\n",
    "\n",
    "Q = np.zeros((MAX_STATES, env.action_space.n))\n",
    "episode_rewards = []\n",
    "episode_lengths = []\n",
    "bins = create_bins()"
   ]
  },
  {
   "cell_type": "code",
   "execution_count": null,
   "metadata": {
    "tags": []
   },
   "outputs": [],
   "source": [
    "#TRAINING\n",
    "\n",
    "# progress = tqdm(range(NUM_EPISODES))\n",
    "for episode_n in range(NUM_EPISODES):\n",
    "    EPSILON = 1 / np.sqrt(episode_n + 1)\n",
    "\n",
    "    episode_reward, episode_length = play_episode(Q, bins, EPSILON)\n",
    "    episode_rewards.append(episode_reward)\n",
    "    episode_lengths.append(episode_length)\n",
    "\n",
    "    if(episode_n%100 == 0):\n",
    "        print(\"REWARD: \",episode_reward ,\"\\tLENGTH: \",episode_length)"
   ]
  },
  {
   "cell_type": "code",
   "execution_count": null,
   "metadata": {},
   "outputs": [],
   "source": [
    "# PLOT REWARDS CURVE\n",
    "plt.plot(np.arange(NUM_EPISODES), episode_rewards)"
   ]
  },
  {
   "cell_type": "code",
   "execution_count": 12,
   "metadata": {
    "tags": []
   },
   "outputs": [
    {
     "output_type": "stream",
     "name": "stderr",
     "text": "100%|█████████▉| 199/200 [00:03<00:00, 58.96it/s]MOVES:  199\n\n"
    }
   ],
   "source": [
    "# TESTING\n",
    "observation = env.reset()\n",
    "state = get_state(observation, bins)\n",
    "for moves in tqdm(range(MAX_MOVES)):\n",
    "    env.render()\n",
    "    action = np.argmax(Q[state])\n",
    "    # TAKE ACTION\n",
    "    observation, reward, done, _ = env.step(action)\n",
    "    state = get_state(observation, bins)\n",
    "    \n",
    "    if(done):\n",
    "        print(\"MOVES: \",moves)\n",
    "        break\n",
    "\n",
    "env.close()"
   ]
  }
 ]
}