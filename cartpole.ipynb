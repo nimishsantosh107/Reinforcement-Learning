{
 "metadata": {
  "language_info": {
   "codemirror_mode": {
    "name": "ipython",
    "version": 3
   },
   "file_extension": ".py",
   "mimetype": "text/x-python",
   "name": "python",
   "nbconvert_exporter": "python",
   "pygments_lexer": "ipython3",
   "version": "3.7.7-final"
  },
  "orig_nbformat": 2,
  "kernelspec": {
   "name": "python_defaultSpec_1596201394549",
   "display_name": "Python 3.7.7 64-bit ('base': conda)"
  }
 },
 "nbformat": 4,
 "nbformat_minor": 2,
 "cells": [
  {
   "cell_type": "markdown",
   "metadata": {},
   "source": [
    "# Init"
   ]
  },
  {
   "cell_type": "code",
   "execution_count": null,
   "metadata": {},
   "outputs": [],
   "source": [
    "import gym\n",
    "import numpy as np\n",
    "import matplotlib.pyplot as plt\n",
    "\n",
    "from tqdm import tqdm\n",
    "\n",
    "%matplotlib inline"
   ]
  },
  {
   "cell_type": "markdown",
   "metadata": {},
   "source": [
    "# Simple implementation"
   ]
  },
  {
   "cell_type": "code",
   "execution_count": null,
   "metadata": {},
   "outputs": [],
   "source": [
    "env = gym.make('CartPole-v1')"
   ]
  },
  {
   "cell_type": "code",
   "execution_count": null,
   "metadata": {
    "tags": []
   },
   "outputs": [],
   "source": [
    "# TRAINING\n",
    "MAX_MOVES = 500 #Cartpole-v1\n",
    "\n",
    "best_length = 0\n",
    "best_weights = None\n",
    "\n",
    "for weights in tqdm(range(100)):\n",
    "    weights_arr = np.random.uniform(-1,1,4)\n",
    "    game_lengths = []\n",
    "\n",
    "    for game in range(100):\n",
    "\n",
    "        observation = env.reset()\n",
    "        for moves in range(MAX_MOVES):\n",
    "            # env.render()\n",
    "            action = 1 if(np.dot(weights_arr, observation) > 0) else 0 \n",
    "            observation, reward, done, info = env.step(action)\n",
    "\n",
    "            if(done):\n",
    "                game_lengths.append(moves)\n",
    "                break\n",
    "\n",
    "    average_length = sum(game_lengths) / len(game_lengths)\n",
    "    if (average_length > best_length):\n",
    "        best_length = average_length\n",
    "        best_weights = weights_arr\n",
    "\n",
    "print(\"\\nBEST LENGTH: \",best_length)"
   ]
  },
  {
   "cell_type": "code",
   "execution_count": null,
   "metadata": {
    "tags": []
   },
   "outputs": [],
   "source": [
    "# TESTING\n",
    "weights_arr = best_weights\n",
    "\n",
    "observation = env.reset()\n",
    "for moves in tqdm(range(MAX_MOVES)):\n",
    "    env.render()\n",
    "    action = 1 if(np.dot(weights_arr, observation) > 0) else 0 \n",
    "    observation, reward, done, info = env.step(action)\n",
    "\n",
    "    if(done):\n",
    "        print(\"MOVES: \",moves)\n",
    "        break\n",
    "\n",
    "env.close()"
   ]
  },
  {
   "cell_type": "markdown",
   "metadata": {},
   "source": [
    "# Q-Learning & SARSA"
   ]
  },
  {
   "cell_type": "code",
   "execution_count": null,
   "metadata": {},
   "outputs": [],
   "source": [
    "env = gym.make('CartPole-v0')"
   ]
  },
  {
   "cell_type": "code",
   "execution_count": null,
   "metadata": {},
   "outputs": [],
   "source": [
    "# DISCRETIZING CONTINUOUS SPACE\n",
    "def create_bins():\n",
    "    bins = np.zeros((4,10))\n",
    "    bins[0] = np.linspace(-2.4, 2.4, 10)\n",
    "    bins[1] = np.linspace(-5, 5, 10)\n",
    "    bins[2] = np.linspace(-0.418, 0.418, 10)\n",
    "    bins[3] = np.linspace(-5, 5, 10)\n",
    "    return bins\n",
    "\n",
    "# GIVEN OBSERVATION ARRAY AND BINS, RETURNS STATE NUMBER\n",
    "def get_state(observation, bins):\n",
    "    state = [None] * 4\n",
    "    for i in range(4):\n",
    "        state[i] = int(np.digitize(observation[i], bins[i]) - 1)\n",
    "    return tuple(state)"
   ]
  },
  {
   "cell_type": "markdown",
   "metadata": {},
   "source": [
    "## Q-Learning"
   ]
  },
  {
   "cell_type": "code",
   "execution_count": null,
   "metadata": {},
   "outputs": [],
   "source": [
    "#GET ACTION BY POLICY (e-GREEDY)\n",
    "def get_action(Q, state, epsilon):\n",
    "    if (np.random.uniform() < epsilon):\n",
    "        action = env.action_space.sample()\n",
    "    else:\n",
    "        action = np.argmax(Q[state])\n",
    "    return action\n",
    "\n",
    "#PLAY SINGLE EPISODE - Q-Learning\n",
    "def play_episode(Q, bins, epsilon):\n",
    "    total_reward = 0\n",
    "\n",
    "    observation = env.reset()\n",
    "    state = get_state(observation, bins)\n",
    "    \n",
    "    for moves in range(MAX_MOVES):\n",
    "        # e-GREEDY\n",
    "        action = get_action(Q, state, epsilon)\n",
    "\n",
    "        # TAKE ACTION\n",
    "        observation, reward, done, _ = env.step(action)\n",
    "\n",
    "        # PUNISH FOR FAILURE\n",
    "        if( done and (moves < (MAX_MOVES - 5)) ):\n",
    "            reward = -300\n",
    "        total_reward += reward\n",
    "\n",
    "        # UPDATE Q-VALUES (greedify - Off policy)\n",
    "        next_state = get_state(observation, bins)\n",
    "        next_best_action = np.argmax(Q[next_state])\n",
    "        next_best_Q = Q[next_state][next_best_action]\n",
    "        Q[state][action] += (ALPHA * (reward + (GAMMA * next_best_Q) - Q[state][action]))\n",
    "\n",
    "        state = next_state\n",
    "\n",
    "        # BREAK IF TERMINATED\n",
    "        if(done): break \n",
    "\n",
    "    return (round(total_reward), round(moves))"
   ]
  },
  {
   "cell_type": "code",
   "execution_count": null,
   "metadata": {},
   "outputs": [],
   "source": [
    "# INIT\n",
    "MAX_STATES = 10 ** 4\n",
    "MAX_MOVES = env._max_episode_steps #200\n",
    "NUM_EPISODES = 3000\n",
    "GAMMA = 0.9\n",
    "ALPHA = 0.01\n",
    "EPSILON = 0.5 #OVERRIDDEN\n",
    "\n",
    "Q = np.zeros((10, 10, 10, 10, env.action_space.n))\n",
    "episode_rewards = []\n",
    "episode_lengths = []\n",
    "bins = create_bins()"
   ]
  },
  {
   "cell_type": "code",
   "execution_count": null,
   "metadata": {
    "tags": []
   },
   "outputs": [],
   "source": [
    "#TRAINING\n",
    "\n",
    "# progress = tqdm(range(NUM_EPISODES))\n",
    "for episode_n in range(NUM_EPISODES):\n",
    "    EPSILON = 1 / np.sqrt(episode_n + 1)\n",
    "    if(EPSILON < 0.01): EPSILON = 0.01\n",
    "    \n",
    "    episode_reward, episode_length = play_episode(Q, bins, EPSILON)\n",
    "    episode_rewards.append(episode_reward)\n",
    "    episode_lengths.append(episode_length)\n",
    "\n",
    "    if(episode_n%100 == 0):\n",
    "        print(\"ITER: \",(episode_n),\"\\tREWARD: \",episode_reward ,\"\\tLENGTH: \",episode_length)"
   ]
  },
  {
   "cell_type": "markdown",
   "metadata": {},
   "source": [
    "## SARSA"
   ]
  },
  {
   "cell_type": "code",
   "execution_count": 101,
   "metadata": {},
   "outputs": [],
   "source": [
    "#GET ACTION BY POLICY (e-GREEDY)\n",
    "def get_action(Q, state, epsilon):\n",
    "    if (np.random.uniform() < epsilon):\n",
    "        action = env.action_space.sample()\n",
    "    else:\n",
    "        action = np.argmax(Q[state])\n",
    "    return action\n",
    "\n",
    "#PLAY SINGLE EPISODE - SARSA\n",
    "def play_episode(Q, bins, epsilon):\n",
    "    total_reward = 0\n",
    "\n",
    "    observation = env.reset()\n",
    "    state = get_state(observation, bins)\n",
    "    action = get_action(Q, state, epsilon)\n",
    "    \n",
    "    for moves in range(MAX_MOVES):\n",
    "\n",
    "        # TAKE ACTION\n",
    "        observation, reward, done, _ = env.step(action)\n",
    "        next_state = get_state(observation, bins)\n",
    "        # e-GREEDY\n",
    "        next_action = get_action(Q, next_state, epsilon)\n",
    "\n",
    "        # PUNISH FOR FAILURE\n",
    "        if( done and (moves < (MAX_MOVES - 5)) ):\n",
    "            reward = -300\n",
    "        total_reward += reward\n",
    "\n",
    "        # UPDATE Q-VALUES (On policy)\n",
    "        next_Q = Q[next_state][next_action]\n",
    "        Q[state][action] += (ALPHA * (reward + (GAMMA * next_Q) - Q[state][action]))\n",
    "\n",
    "        state, action = next_state, next_action\n",
    "\n",
    "        # BREAK IF TERMINATED\n",
    "        if(done): break \n",
    "\n",
    "    return (round(total_reward), round(moves))"
   ]
  },
  {
   "cell_type": "code",
   "execution_count": 104,
   "metadata": {},
   "outputs": [],
   "source": [
    "# INIT\n",
    "MAX_STATES = 10 ** 4\n",
    "MAX_MOVES = env._max_episode_steps #200\n",
    "NUM_EPISODES = 3000\n",
    "GAMMA = 0.9\n",
    "ALPHA = 0.01\n",
    "EPSILON = 0.5 #OVERRIDDEN\n",
    "\n",
    "Q = np.zeros((10, 10, 10, 10, env.action_space.n))\n",
    "episode_rewards = []\n",
    "episode_lengths = []\n",
    "bins = create_bins()"
   ]
  },
  {
   "cell_type": "code",
   "execution_count": 105,
   "metadata": {
    "tags": []
   },
   "outputs": [
    {
     "output_type": "stream",
     "name": "stdout",
     "text": "ITER:  0 \tREWARD:  -284 \tLENGTH:  16\nITER:  100 \tREWARD:  -259 \tLENGTH:  41\nITER:  200 \tREWARD:  -248 \tLENGTH:  52\nITER:  300 \tREWARD:  -208 \tLENGTH:  92\nITER:  400 \tREWARD:  -131 \tLENGTH:  169\nITER:  500 \tREWARD:  197 \tLENGTH:  196\nITER:  600 \tREWARD:  -274 \tLENGTH:  26\nITER:  700 \tREWARD:  200 \tLENGTH:  199\nITER:  800 \tREWARD:  200 \tLENGTH:  199\nITER:  900 \tREWARD:  200 \tLENGTH:  199\nITER:  1000 \tREWARD:  200 \tLENGTH:  199\nITER:  1100 \tREWARD:  200 \tLENGTH:  199\nITER:  1200 \tREWARD:  200 \tLENGTH:  199\nITER:  1300 \tREWARD:  200 \tLENGTH:  199\nITER:  1400 \tREWARD:  200 \tLENGTH:  199\nITER:  1500 \tREWARD:  200 \tLENGTH:  199\nITER:  1600 \tREWARD:  200 \tLENGTH:  199\nITER:  1700 \tREWARD:  200 \tLENGTH:  199\nITER:  1800 \tREWARD:  200 \tLENGTH:  199\nITER:  1900 \tREWARD:  200 \tLENGTH:  199\nITER:  2000 \tREWARD:  200 \tLENGTH:  199\nITER:  2100 \tREWARD:  200 \tLENGTH:  199\nITER:  2200 \tREWARD:  200 \tLENGTH:  199\nITER:  2300 \tREWARD:  200 \tLENGTH:  199\nITER:  2400 \tREWARD:  200 \tLENGTH:  199\nITER:  2500 \tREWARD:  200 \tLENGTH:  199\nITER:  2600 \tREWARD:  200 \tLENGTH:  199\nITER:  2700 \tREWARD:  200 \tLENGTH:  199\nITER:  2800 \tREWARD:  200 \tLENGTH:  199\nITER:  2900 \tREWARD:  200 \tLENGTH:  199\n"
    }
   ],
   "source": [
    "#TRAINING\n",
    "\n",
    "# progress = tqdm(range(NUM_EPISODES))\n",
    "for episode_n in range(NUM_EPISODES):\n",
    "    EPSILON = 1 / np.sqrt(episode_n + 1)\n",
    "    if(EPSILON < 0.01): EPSILON = 0.01\n",
    "\n",
    "    episode_reward, episode_length = play_episode(Q, bins, EPSILON)\n",
    "    episode_rewards.append(episode_reward)\n",
    "    episode_lengths.append(episode_length)\n",
    "\n",
    "    if(episode_n%100 == 0):\n",
    "        print(\"ITER: \",(episode_n),\"\\tREWARD: \",episode_reward ,\"\\tLENGTH: \",episode_length)"
   ]
  },
  {
   "cell_type": "markdown",
   "metadata": {},
   "source": [
    "### Testing for Q-Learning or SARSA"
   ]
  },
  {
   "cell_type": "code",
   "execution_count": 106,
   "metadata": {},
   "outputs": [
    {
     "output_type": "execute_result",
     "data": {
      "text/plain": "[<matplotlib.lines.Line2D at 0x129506d50>]"
     },
     "metadata": {},
     "execution_count": 106
    },
    {
     "output_type": "display_data",
     "data": {
      "text/plain": "<Figure size 432x288 with 1 Axes>",
      "image/svg+xml": "<?xml version=\"1.0\" encoding=\"utf-8\" standalone=\"no\"?>\n<!DOCTYPE svg PUBLIC \"-//W3C//DTD SVG 1.1//EN\"\n  \"http://www.w3.org/Graphics/SVG/1.1/DTD/svg11.dtd\">\n<!-- Created with matplotlib (https://matplotlib.org/) -->\n<svg height=\"248.518125pt\" version=\"1.1\" viewBox=\"0 0 383.667188 248.518125\" width=\"383.667188pt\" xmlns=\"http://www.w3.org/2000/svg\" xmlns:xlink=\"http://www.w3.org/1999/xlink\">\n <defs>\n  <style type=\"text/css\">\n*{stroke-linecap:butt;stroke-linejoin:round;}\n  </style>\n </defs>\n <g id=\"figure_1\">\n  <g id=\"patch_1\">\n   <path d=\"M 0 248.518125 \nL 383.667188 248.518125 \nL 383.667188 0 \nL 0 0 \nz\n\" style=\"fill:none;\"/>\n  </g>\n  <g id=\"axes_1\">\n   <g id=\"patch_2\">\n    <path d=\"M 41.667188 224.64 \nL 376.467188 224.64 \nL 376.467188 7.2 \nL 41.667188 7.2 \nz\n\"/>\n   </g>\n   <g id=\"matplotlib.axis_1\">\n    <g id=\"xtick_1\">\n     <g id=\"line2d_1\">\n      <defs>\n       <path d=\"M 0 0 \nL 0 3.5 \n\" id=\"mf8fbcbe9d7\" style=\"stroke:#ffffff;stroke-width:0.8;\"/>\n      </defs>\n      <g>\n       <use style=\"fill:#ffffff;stroke:#ffffff;stroke-width:0.8;\" x=\"56.885369\" xlink:href=\"#mf8fbcbe9d7\" y=\"224.64\"/>\n      </g>\n     </g>\n     <g id=\"text_1\">\n      <!-- 0 -->\n      <defs>\n       <path d=\"M 31.78125 66.40625 \nQ 24.171875 66.40625 20.328125 58.90625 \nQ 16.5 51.421875 16.5 36.375 \nQ 16.5 21.390625 20.328125 13.890625 \nQ 24.171875 6.390625 31.78125 6.390625 \nQ 39.453125 6.390625 43.28125 13.890625 \nQ 47.125 21.390625 47.125 36.375 \nQ 47.125 51.421875 43.28125 58.90625 \nQ 39.453125 66.40625 31.78125 66.40625 \nz\nM 31.78125 74.21875 \nQ 44.046875 74.21875 50.515625 64.515625 \nQ 56.984375 54.828125 56.984375 36.375 \nQ 56.984375 17.96875 50.515625 8.265625 \nQ 44.046875 -1.421875 31.78125 -1.421875 \nQ 19.53125 -1.421875 13.0625 8.265625 \nQ 6.59375 17.96875 6.59375 36.375 \nQ 6.59375 54.828125 13.0625 64.515625 \nQ 19.53125 74.21875 31.78125 74.21875 \nz\n\" id=\"DejaVuSans-48\"/>\n      </defs>\n      <g style=\"fill:#ffffff;\" transform=\"translate(53.704119 239.238437)scale(0.1 -0.1)\">\n       <use xlink:href=\"#DejaVuSans-48\"/>\n      </g>\n     </g>\n    </g>\n    <g id=\"xtick_2\">\n     <g id=\"line2d_2\">\n      <g>\n       <use style=\"fill:#ffffff;stroke:#ffffff;stroke-width:0.8;\" x=\"107.629557\" xlink:href=\"#mf8fbcbe9d7\" y=\"224.64\"/>\n      </g>\n     </g>\n     <g id=\"text_2\">\n      <!-- 500 -->\n      <defs>\n       <path d=\"M 10.796875 72.90625 \nL 49.515625 72.90625 \nL 49.515625 64.59375 \nL 19.828125 64.59375 \nL 19.828125 46.734375 \nQ 21.96875 47.46875 24.109375 47.828125 \nQ 26.265625 48.1875 28.421875 48.1875 \nQ 40.625 48.1875 47.75 41.5 \nQ 54.890625 34.8125 54.890625 23.390625 \nQ 54.890625 11.625 47.5625 5.09375 \nQ 40.234375 -1.421875 26.90625 -1.421875 \nQ 22.3125 -1.421875 17.546875 -0.640625 \nQ 12.796875 0.140625 7.71875 1.703125 \nL 7.71875 11.625 \nQ 12.109375 9.234375 16.796875 8.0625 \nQ 21.484375 6.890625 26.703125 6.890625 \nQ 35.15625 6.890625 40.078125 11.328125 \nQ 45.015625 15.765625 45.015625 23.390625 \nQ 45.015625 31 40.078125 35.4375 \nQ 35.15625 39.890625 26.703125 39.890625 \nQ 22.75 39.890625 18.8125 39.015625 \nQ 14.890625 38.140625 10.796875 36.28125 \nz\n\" id=\"DejaVuSans-53\"/>\n      </defs>\n      <g style=\"fill:#ffffff;\" transform=\"translate(98.085807 239.238437)scale(0.1 -0.1)\">\n       <use xlink:href=\"#DejaVuSans-53\"/>\n       <use x=\"63.623047\" xlink:href=\"#DejaVuSans-48\"/>\n       <use x=\"127.246094\" xlink:href=\"#DejaVuSans-48\"/>\n      </g>\n     </g>\n    </g>\n    <g id=\"xtick_3\">\n     <g id=\"line2d_3\">\n      <g>\n       <use style=\"fill:#ffffff;stroke:#ffffff;stroke-width:0.8;\" x=\"158.373744\" xlink:href=\"#mf8fbcbe9d7\" y=\"224.64\"/>\n      </g>\n     </g>\n     <g id=\"text_3\">\n      <!-- 1000 -->\n      <defs>\n       <path d=\"M 12.40625 8.296875 \nL 28.515625 8.296875 \nL 28.515625 63.921875 \nL 10.984375 60.40625 \nL 10.984375 69.390625 \nL 28.421875 72.90625 \nL 38.28125 72.90625 \nL 38.28125 8.296875 \nL 54.390625 8.296875 \nL 54.390625 0 \nL 12.40625 0 \nz\n\" id=\"DejaVuSans-49\"/>\n      </defs>\n      <g style=\"fill:#ffffff;\" transform=\"translate(145.648744 239.238437)scale(0.1 -0.1)\">\n       <use xlink:href=\"#DejaVuSans-49\"/>\n       <use x=\"63.623047\" xlink:href=\"#DejaVuSans-48\"/>\n       <use x=\"127.246094\" xlink:href=\"#DejaVuSans-48\"/>\n       <use x=\"190.869141\" xlink:href=\"#DejaVuSans-48\"/>\n      </g>\n     </g>\n    </g>\n    <g id=\"xtick_4\">\n     <g id=\"line2d_4\">\n      <g>\n       <use style=\"fill:#ffffff;stroke:#ffffff;stroke-width:0.8;\" x=\"209.117932\" xlink:href=\"#mf8fbcbe9d7\" y=\"224.64\"/>\n      </g>\n     </g>\n     <g id=\"text_4\">\n      <!-- 1500 -->\n      <g style=\"fill:#ffffff;\" transform=\"translate(196.392932 239.238437)scale(0.1 -0.1)\">\n       <use xlink:href=\"#DejaVuSans-49\"/>\n       <use x=\"63.623047\" xlink:href=\"#DejaVuSans-53\"/>\n       <use x=\"127.246094\" xlink:href=\"#DejaVuSans-48\"/>\n       <use x=\"190.869141\" xlink:href=\"#DejaVuSans-48\"/>\n      </g>\n     </g>\n    </g>\n    <g id=\"xtick_5\">\n     <g id=\"line2d_5\">\n      <g>\n       <use style=\"fill:#ffffff;stroke:#ffffff;stroke-width:0.8;\" x=\"259.862119\" xlink:href=\"#mf8fbcbe9d7\" y=\"224.64\"/>\n      </g>\n     </g>\n     <g id=\"text_5\">\n      <!-- 2000 -->\n      <defs>\n       <path d=\"M 19.1875 8.296875 \nL 53.609375 8.296875 \nL 53.609375 0 \nL 7.328125 0 \nL 7.328125 8.296875 \nQ 12.9375 14.109375 22.625 23.890625 \nQ 32.328125 33.6875 34.8125 36.53125 \nQ 39.546875 41.84375 41.421875 45.53125 \nQ 43.3125 49.21875 43.3125 52.78125 \nQ 43.3125 58.59375 39.234375 62.25 \nQ 35.15625 65.921875 28.609375 65.921875 \nQ 23.96875 65.921875 18.8125 64.3125 \nQ 13.671875 62.703125 7.8125 59.421875 \nL 7.8125 69.390625 \nQ 13.765625 71.78125 18.9375 73 \nQ 24.125 74.21875 28.421875 74.21875 \nQ 39.75 74.21875 46.484375 68.546875 \nQ 53.21875 62.890625 53.21875 53.421875 \nQ 53.21875 48.921875 51.53125 44.890625 \nQ 49.859375 40.875 45.40625 35.40625 \nQ 44.1875 33.984375 37.640625 27.21875 \nQ 31.109375 20.453125 19.1875 8.296875 \nz\n\" id=\"DejaVuSans-50\"/>\n      </defs>\n      <g style=\"fill:#ffffff;\" transform=\"translate(247.137119 239.238437)scale(0.1 -0.1)\">\n       <use xlink:href=\"#DejaVuSans-50\"/>\n       <use x=\"63.623047\" xlink:href=\"#DejaVuSans-48\"/>\n       <use x=\"127.246094\" xlink:href=\"#DejaVuSans-48\"/>\n       <use x=\"190.869141\" xlink:href=\"#DejaVuSans-48\"/>\n      </g>\n     </g>\n    </g>\n    <g id=\"xtick_6\">\n     <g id=\"line2d_6\">\n      <g>\n       <use style=\"fill:#ffffff;stroke:#ffffff;stroke-width:0.8;\" x=\"310.606307\" xlink:href=\"#mf8fbcbe9d7\" y=\"224.64\"/>\n      </g>\n     </g>\n     <g id=\"text_6\">\n      <!-- 2500 -->\n      <g style=\"fill:#ffffff;\" transform=\"translate(297.881307 239.238437)scale(0.1 -0.1)\">\n       <use xlink:href=\"#DejaVuSans-50\"/>\n       <use x=\"63.623047\" xlink:href=\"#DejaVuSans-53\"/>\n       <use x=\"127.246094\" xlink:href=\"#DejaVuSans-48\"/>\n       <use x=\"190.869141\" xlink:href=\"#DejaVuSans-48\"/>\n      </g>\n     </g>\n    </g>\n    <g id=\"xtick_7\">\n     <g id=\"line2d_7\">\n      <g>\n       <use style=\"fill:#ffffff;stroke:#ffffff;stroke-width:0.8;\" x=\"361.350494\" xlink:href=\"#mf8fbcbe9d7\" y=\"224.64\"/>\n      </g>\n     </g>\n     <g id=\"text_7\">\n      <!-- 3000 -->\n      <defs>\n       <path d=\"M 40.578125 39.3125 \nQ 47.65625 37.796875 51.625 33 \nQ 55.609375 28.21875 55.609375 21.1875 \nQ 55.609375 10.40625 48.1875 4.484375 \nQ 40.765625 -1.421875 27.09375 -1.421875 \nQ 22.515625 -1.421875 17.65625 -0.515625 \nQ 12.796875 0.390625 7.625 2.203125 \nL 7.625 11.71875 \nQ 11.71875 9.328125 16.59375 8.109375 \nQ 21.484375 6.890625 26.8125 6.890625 \nQ 36.078125 6.890625 40.9375 10.546875 \nQ 45.796875 14.203125 45.796875 21.1875 \nQ 45.796875 27.640625 41.28125 31.265625 \nQ 36.765625 34.90625 28.71875 34.90625 \nL 20.21875 34.90625 \nL 20.21875 43.015625 \nL 29.109375 43.015625 \nQ 36.375 43.015625 40.234375 45.921875 \nQ 44.09375 48.828125 44.09375 54.296875 \nQ 44.09375 59.90625 40.109375 62.90625 \nQ 36.140625 65.921875 28.71875 65.921875 \nQ 24.65625 65.921875 20.015625 65.03125 \nQ 15.375 64.15625 9.8125 62.3125 \nL 9.8125 71.09375 \nQ 15.4375 72.65625 20.34375 73.4375 \nQ 25.25 74.21875 29.59375 74.21875 \nQ 40.828125 74.21875 47.359375 69.109375 \nQ 53.90625 64.015625 53.90625 55.328125 \nQ 53.90625 49.265625 50.4375 45.09375 \nQ 46.96875 40.921875 40.578125 39.3125 \nz\n\" id=\"DejaVuSans-51\"/>\n      </defs>\n      <g style=\"fill:#ffffff;\" transform=\"translate(348.625494 239.238437)scale(0.1 -0.1)\">\n       <use xlink:href=\"#DejaVuSans-51\"/>\n       <use x=\"63.623047\" xlink:href=\"#DejaVuSans-48\"/>\n       <use x=\"127.246094\" xlink:href=\"#DejaVuSans-48\"/>\n       <use x=\"190.869141\" xlink:href=\"#DejaVuSans-48\"/>\n      </g>\n     </g>\n    </g>\n   </g>\n   <g id=\"matplotlib.axis_2\">\n    <g id=\"ytick_1\">\n     <g id=\"line2d_8\">\n      <defs>\n       <path d=\"M 0 0 \nL -3.5 0 \n\" id=\"md394683f43\" style=\"stroke:#ffffff;stroke-width:0.8;\"/>\n      </defs>\n      <g>\n       <use style=\"fill:#ffffff;stroke:#ffffff;stroke-width:0.8;\" x=\"41.667188\" xlink:href=\"#md394683f43\" y=\"217.563076\"/>\n      </g>\n     </g>\n     <g id=\"text_8\">\n      <!-- −300 -->\n      <defs>\n       <path d=\"M 10.59375 35.5 \nL 73.1875 35.5 \nL 73.1875 27.203125 \nL 10.59375 27.203125 \nz\n\" id=\"DejaVuSans-8722\"/>\n      </defs>\n      <g style=\"fill:#ffffff;\" transform=\"translate(7.2 221.362295)scale(0.1 -0.1)\">\n       <use xlink:href=\"#DejaVuSans-8722\"/>\n       <use x=\"83.789062\" xlink:href=\"#DejaVuSans-51\"/>\n       <use x=\"147.412109\" xlink:href=\"#DejaVuSans-48\"/>\n       <use x=\"211.035156\" xlink:href=\"#DejaVuSans-48\"/>\n      </g>\n     </g>\n    </g>\n    <g id=\"ytick_2\">\n     <g id=\"line2d_9\">\n      <g>\n       <use style=\"fill:#ffffff;stroke:#ffffff;stroke-width:0.8;\" x=\"41.667188\" xlink:href=\"#md394683f43\" y=\"177.467188\"/>\n      </g>\n     </g>\n     <g id=\"text_9\">\n      <!-- −200 -->\n      <g style=\"fill:#ffffff;\" transform=\"translate(7.2 181.266407)scale(0.1 -0.1)\">\n       <use xlink:href=\"#DejaVuSans-8722\"/>\n       <use x=\"83.789062\" xlink:href=\"#DejaVuSans-50\"/>\n       <use x=\"147.412109\" xlink:href=\"#DejaVuSans-48\"/>\n       <use x=\"211.035156\" xlink:href=\"#DejaVuSans-48\"/>\n      </g>\n     </g>\n    </g>\n    <g id=\"ytick_3\">\n     <g id=\"line2d_10\">\n      <g>\n       <use style=\"fill:#ffffff;stroke:#ffffff;stroke-width:0.8;\" x=\"41.667188\" xlink:href=\"#md394683f43\" y=\"137.3713\"/>\n      </g>\n     </g>\n     <g id=\"text_10\">\n      <!-- −100 -->\n      <g style=\"fill:#ffffff;\" transform=\"translate(7.2 141.170519)scale(0.1 -0.1)\">\n       <use xlink:href=\"#DejaVuSans-8722\"/>\n       <use x=\"83.789062\" xlink:href=\"#DejaVuSans-49\"/>\n       <use x=\"147.412109\" xlink:href=\"#DejaVuSans-48\"/>\n       <use x=\"211.035156\" xlink:href=\"#DejaVuSans-48\"/>\n      </g>\n     </g>\n    </g>\n    <g id=\"ytick_4\">\n     <g id=\"line2d_11\">\n      <g>\n       <use style=\"fill:#ffffff;stroke:#ffffff;stroke-width:0.8;\" x=\"41.667188\" xlink:href=\"#md394683f43\" y=\"97.275412\"/>\n      </g>\n     </g>\n     <g id=\"text_11\">\n      <!-- 0 -->\n      <g style=\"fill:#ffffff;\" transform=\"translate(28.304688 101.074631)scale(0.1 -0.1)\">\n       <use xlink:href=\"#DejaVuSans-48\"/>\n      </g>\n     </g>\n    </g>\n    <g id=\"ytick_5\">\n     <g id=\"line2d_12\">\n      <g>\n       <use style=\"fill:#ffffff;stroke:#ffffff;stroke-width:0.8;\" x=\"41.667188\" xlink:href=\"#md394683f43\" y=\"57.179524\"/>\n      </g>\n     </g>\n     <g id=\"text_12\">\n      <!-- 100 -->\n      <g style=\"fill:#ffffff;\" transform=\"translate(15.579688 60.978743)scale(0.1 -0.1)\">\n       <use xlink:href=\"#DejaVuSans-49\"/>\n       <use x=\"63.623047\" xlink:href=\"#DejaVuSans-48\"/>\n       <use x=\"127.246094\" xlink:href=\"#DejaVuSans-48\"/>\n      </g>\n     </g>\n    </g>\n    <g id=\"ytick_6\">\n     <g id=\"line2d_13\">\n      <g>\n       <use style=\"fill:#ffffff;stroke:#ffffff;stroke-width:0.8;\" x=\"41.667188\" xlink:href=\"#md394683f43\" y=\"17.083636\"/>\n      </g>\n     </g>\n     <g id=\"text_13\">\n      <!-- 200 -->\n      <g style=\"fill:#ffffff;\" transform=\"translate(15.579688 20.882855)scale(0.1 -0.1)\">\n       <use xlink:href=\"#DejaVuSans-50\"/>\n       <use x=\"63.623047\" xlink:href=\"#DejaVuSans-48\"/>\n       <use x=\"127.246094\" xlink:href=\"#DejaVuSans-48\"/>\n      </g>\n     </g>\n    </g>\n   </g>\n   <g id=\"line2d_14\">\n    <path clip-path=\"url(#pa259c65fe0)\" d=\"M 56.885369 211.147734 \nL 56.986858 202.326638 \nL 57.088346 209.543898 \nL 57.189834 183.88253 \nL 57.291323 208.341022 \nL 57.392811 203.128556 \nL 57.595788 209.944857 \nL 57.697276 200.321844 \nL 57.798765 213.152528 \nL 57.900253 205.133351 \nL 58.10323 211.949651 \nL 58.204718 192.703625 \nL 58.407695 202.727597 \nL 58.509183 201.123762 \nL 58.610672 177.868147 \nL 58.813648 209.142939 \nL 58.915137 213.152528 \nL 59.118114 209.142939 \nL 59.219602 209.543898 \nL 59.422579 196.312255 \nL 59.524067 195.510337 \nL 59.625555 193.505543 \nL 59.828532 211.949651 \nL 59.930021 209.944857 \nL 60.132997 188.293078 \nL 60.234486 199.118967 \nL 60.335974 193.104584 \nL 60.437462 211.147734 \nL 60.538951 210.345816 \nL 60.741928 196.713214 \nL 60.944904 206.336227 \nL 61.147881 191.901708 \nL 61.249369 208.341022 \nL 61.350858 206.737186 \nL 61.452346 210.746775 \nL 61.553835 201.524721 \nL 61.756811 212.35061 \nL 61.8583 203.529515 \nL 62.162765 212.751569 \nL 62.264253 211.949651 \nL 62.365742 209.142939 \nL 62.46723 212.751569 \nL 62.670207 209.944857 \nL 62.771695 211.548693 \nL 63.07616 200.321844 \nL 63.279137 213.954446 \nL 63.380625 193.906502 \nL 63.482114 197.916091 \nL 63.583602 214.355405 \nL 63.68509 211.147734 \nL 63.888067 190.297872 \nL 63.989556 213.152528 \nL 64.091044 203.128556 \nL 64.294021 210.746775 \nL 64.496997 213.954446 \nL 64.699974 212.35061 \nL 64.801463 198.718008 \nL 64.902951 212.35061 \nL 65.004439 185.887324 \nL 65.105928 213.954446 \nL 65.207416 213.152528 \nL 65.308904 191.09979 \nL 65.410393 207.940063 \nL 65.511881 199.118967 \nL 65.61337 202.727597 \nL 65.714858 214.756364 \nL 65.816346 207.940063 \nL 65.917835 210.345816 \nL 66.019323 208.341022 \nL 66.120811 191.09979 \nL 66.2223 198.718008 \nL 66.323788 187.090201 \nL 66.425277 192.703625 \nL 66.526765 214.355405 \nL 66.628253 191.09979 \nL 66.83123 199.920885 \nL 66.932718 181.075818 \nL 67.034207 201.123762 \nL 67.135695 181.476777 \nL 67.237184 204.331433 \nL 67.44016 180.674859 \nL 67.643137 198.718008 \nL 67.744625 198.718008 \nL 67.846114 196.713214 \nL 67.947602 191.500749 \nL 68.150579 207.539104 \nL 68.252067 185.085407 \nL 68.353556 207.138145 \nL 68.556532 190.297872 \nL 68.759509 176.66527 \nL 68.962486 199.118967 \nL 69.063974 199.118967 \nL 69.266951 166.240339 \nL 69.368439 186.689242 \nL 69.469928 161.027874 \nL 69.672905 209.142939 \nL 69.774393 181.877736 \nL 69.875881 193.505543 \nL 69.97737 182.278694 \nL 70.180346 201.524721 \nL 70.281835 190.698831 \nL 70.383323 201.92568 \nL 70.484812 187.49116 \nL 70.687788 195.911296 \nL 70.789277 199.519926 \nL 70.890765 180.674859 \nL 70.992253 184.684448 \nL 71.093742 183.88253 \nL 71.19523 175.863352 \nL 71.296719 186.288283 \nL 71.398207 175.061435 \nL 71.499695 185.085407 \nL 71.601184 172.655681 \nL 71.80416 181.476777 \nL 71.905649 182.679653 \nL 72.007137 181.877736 \nL 72.108626 173.05664 \nL 72.210114 193.505543 \nL 72.413091 185.085407 \nL 72.514579 206.336227 \nL 72.616067 196.713214 \nL 72.717556 167.042257 \nL 72.819044 198.718008 \nL 72.920533 185.085407 \nL 73.022021 188.694037 \nL 73.123509 166.641298 \nL 73.224998 196.713214 \nL 73.326486 160.626915 \nL 73.427974 201.92568 \nL 73.529463 177.467188 \nL 73.630951 202.727597 \nL 73.73244 173.858558 \nL 73.833928 193.505543 \nL 74.036905 155.41445 \nL 74.138393 205.935268 \nL 74.34137 169.848969 \nL 74.442858 169.047051 \nL 74.544347 192.703625 \nL 74.645835 175.061435 \nL 74.747323 181.075818 \nL 74.848812 162.631709 \nL 74.9503 185.085407 \nL 75.051788 166.240339 \nL 75.153277 184.684448 \nL 75.254765 170.249928 \nL 75.356254 191.500749 \nL 75.457742 165.83938 \nL 75.55923 185.486365 \nL 75.660719 177.868147 \nL 75.762207 179.872941 \nL 75.965184 158.622121 \nL 76.066672 168.646093 \nL 76.269649 163.433627 \nL 76.371137 170.650887 \nL 76.472626 195.109379 \nL 76.574114 190.698831 \nL 76.675602 159.424038 \nL 76.777091 184.283489 \nL 76.878579 177.467188 \nL 76.980068 181.075818 \nL 77.081556 160.225956 \nL 77.183044 196.713214 \nL 77.386021 154.211573 \nL 77.487509 196.713214 \nL 77.588998 156.617326 \nL 77.690486 201.92568 \nL 77.791975 167.443216 \nL 77.893463 169.44801 \nL 77.994951 190.698831 \nL 78.197928 175.863352 \nL 78.400905 164.636504 \nL 78.502393 185.887324 \nL 78.603882 184.283489 \nL 78.70537 185.887324 \nL 78.806858 179.471982 \nL 78.908347 161.027874 \nL 79.009835 167.844175 \nL 79.111323 191.901708 \nL 79.3143 162.631709 \nL 79.415789 171.853764 \nL 79.517277 195.510337 \nL 79.618765 180.2739 \nL 79.720254 189.094995 \nL 79.821742 177.467188 \nL 80.024719 193.505543 \nL 80.227696 172.655681 \nL 80.329184 175.863352 \nL 80.532161 193.104584 \nL 80.633649 181.877736 \nL 80.735137 186.288283 \nL 80.836626 206.737186 \nL 81.039603 174.259517 \nL 81.141091 190.297872 \nL 81.242579 173.05664 \nL 81.445556 178.269106 \nL 81.547044 190.297872 \nL 81.648533 184.283489 \nL 81.750021 191.500749 \nL 81.85151 179.071023 \nL 81.952998 193.505543 \nL 82.358951 172.655681 \nL 82.561928 189.896913 \nL 82.663417 185.887324 \nL 82.764905 191.09979 \nL 82.866393 187.892119 \nL 82.967882 177.066229 \nL 83.170858 187.090201 \nL 83.373835 180.674859 \nL 83.475324 185.887324 \nL 83.576812 17.083636 \nL 83.6783 183.88253 \nL 83.779789 177.868147 \nL 83.881277 187.892119 \nL 84.084254 173.858558 \nL 84.287231 176.264311 \nL 84.388719 192.302666 \nL 84.490207 187.090201 \nL 84.591696 17.083636 \nL 84.794672 183.080612 \nL 84.896161 185.085407 \nL 84.997649 175.061435 \nL 85.099138 188.694037 \nL 85.200626 187.49116 \nL 85.302114 170.650887 \nL 85.505091 185.085407 \nL 85.606579 187.49116 \nL 85.809556 177.868147 \nL 85.911045 183.88253 \nL 86.012533 162.631709 \nL 86.21551 187.49116 \nL 86.316998 191.901708 \nL 86.519975 172.655681 \nL 86.621463 179.872941 \nL 86.722952 174.259517 \nL 87.128905 191.09979 \nL 87.43337 164.235545 \nL 87.534859 173.457599 \nL 87.636347 163.433627 \nL 87.839324 181.476777 \nL 87.940812 182.679653 \nL 88.0423 175.863352 \nL 88.143789 178.269106 \nL 88.245277 172.655681 \nL 88.346766 175.061435 \nL 88.448254 189.896913 \nL 88.752719 171.051846 \nL 89.057184 193.906502 \nL 89.158673 169.44801 \nL 89.260161 185.486365 \nL 89.361649 184.684448 \nL 89.463138 190.698831 \nL 89.564626 177.066229 \nL 89.869091 192.703625 \nL 90.072068 188.293078 \nL 90.173556 189.495954 \nL 90.376533 148.999108 \nL 90.57951 184.684448 \nL 90.782487 174.660476 \nL 90.883975 173.457599 \nL 91.086952 181.476777 \nL 91.18844 17.083636 \nL 91.391417 192.302666 \nL 91.492905 175.462394 \nL 91.695882 191.901708 \nL 91.898859 162.230751 \nL 92.101835 186.689242 \nL 92.304812 162.230751 \nL 92.406301 17.083636 \nL 92.507789 153.008696 \nL 92.609277 145.390478 \nL 92.710766 156.216367 \nL 92.812254 155.013491 \nL 92.913742 148.19719 \nL 93.116719 17.083636 \nL 93.319696 198.718008 \nL 93.522673 17.083636 \nL 93.725649 165.037463 \nL 93.827138 194.307461 \nL 93.928626 191.901708 \nL 94.030115 200.722803 \nL 94.33458 17.083636 \nL 94.537556 154.211573 \nL 94.639045 153.810614 \nL 94.740533 149.801025 \nL 94.842022 168.245134 \nL 94.94351 17.885554 \nL 95.044998 149.801025 \nL 95.146487 17.083636 \nL 95.247975 163.032668 \nL 95.349463 151.404861 \nL 95.450952 163.032668 \nL 95.55244 142.984724 \nL 95.653929 143.786642 \nL 95.856905 156.617326 \nL 95.958394 182.679653 \nL 96.059882 140.97993 \nL 96.16137 163.032668 \nL 96.262859 149.400066 \nL 96.364347 17.083636 \nL 96.465836 154.211573 \nL 96.567324 151.80582 \nL 96.668812 17.083636 \nL 96.770301 157.018285 \nL 96.871789 144.989519 \nL 96.973277 161.428833 \nL 97.074766 146.593354 \nL 97.176254 17.083636 \nL 97.277743 161.027874 \nL 97.379231 155.41445 \nL 97.480719 149.801025 \nL 97.582208 153.409655 \nL 97.683696 187.892119 \nL 97.785184 142.583765 \nL 97.886673 154.211573 \nL 97.988161 140.97993 \nL 98.08965 189.094995 \nL 98.191138 17.083636 \nL 98.394115 203.128556 \nL 98.495603 17.083636 \nL 98.69858 157.820203 \nL 98.800068 155.815408 \nL 98.901557 158.622121 \nL 99.104533 17.083636 \nL 99.206022 196.713214 \nL 99.30751 174.259517 \nL 99.408998 188.293078 \nL 99.611975 143.385683 \nL 99.713464 157.820203 \nL 99.814952 152.206779 \nL 99.91644 159.824997 \nL 100.017929 154.612532 \nL 100.220905 17.083636 \nL 100.322394 17.083636 \nL 100.525371 158.622121 \nL 100.728347 17.083636 \nL 101.032812 17.083636 \nL 101.235789 157.419244 \nL 101.438766 17.083636 \nL 101.641743 17.083636 \nL 101.844719 151.80582 \nL 101.946208 159.424038 \nL 102.047696 17.083636 \nL 102.149185 17.484595 \nL 102.352161 17.083636 \nL 102.555138 17.083636 \nL 102.656626 153.810614 \nL 102.758115 17.083636 \nL 102.859603 160.626915 \nL 102.961092 157.820203 \nL 103.06258 17.083636 \nL 103.164068 160.225956 \nL 103.265557 17.083636 \nL 103.367045 152.607737 \nL 103.570022 17.083636 \nL 103.772999 150.201984 \nL 103.874487 140.578971 \nL 103.975975 145.390478 \nL 104.077464 158.221162 \nL 104.178952 155.815408 \nL 104.28044 140.178012 \nL 104.381929 153.409655 \nL 104.483417 17.083636 \nL 104.584906 154.211573 \nL 104.686394 152.206779 \nL 104.787882 159.023079 \nL 104.889371 155.013491 \nL 104.990859 140.178012 \nL 105.295324 148.598149 \nL 105.396813 171.051846 \nL 105.498301 147.395272 \nL 105.701278 17.083636 \nL 105.802766 17.484595 \nL 105.904254 161.027874 \nL 106.005743 17.083636 \nL 106.107231 153.008696 \nL 106.20872 17.083636 \nL 106.411696 147.796231 \nL 106.513185 149.400066 \nL 106.716161 140.578971 \nL 106.919138 17.083636 \nL 107.020627 155.41445 \nL 107.122115 148.19719 \nL 107.223603 17.083636 \nL 107.325092 179.071023 \nL 107.528068 140.578971 \nL 107.731045 17.083636 \nL 107.832534 17.083636 \nL 107.934022 198.31705 \nL 108.136999 17.083636 \nL 108.238487 141.380889 \nL 108.441464 17.083636 \nL 108.542952 191.500749 \nL 108.644441 144.58856 \nL 108.847417 17.083636 \nL 108.948906 17.083636 \nL 109.151882 165.83938 \nL 109.253371 17.083636 \nL 109.456348 149.801025 \nL 109.557836 150.602943 \nL 109.659324 17.083636 \nL 109.862301 156.617326 \nL 110.065278 17.083636 \nL 110.166766 195.911296 \nL 110.268255 18.286513 \nL 110.369743 206.336227 \nL 110.57272 17.083636 \nL 110.674208 150.602943 \nL 110.877185 17.083636 \nL 110.978673 17.083636 \nL 111.080162 144.989519 \nL 111.283138 17.083636 \nL 111.384627 154.612532 \nL 111.486115 153.409655 \nL 111.689092 17.083636 \nL 111.993557 17.083636 \nL 112.095045 170.650887 \nL 112.196534 144.989519 \nL 112.39951 17.083636 \nL 113.109929 17.083636 \nL 113.312906 158.622121 \nL 113.515883 17.083636 \nL 113.617371 201.92568 \nL 113.718859 151.404861 \nL 113.820348 153.409655 \nL 113.921836 148.999108 \nL 114.023324 187.090201 \nL 114.124813 153.409655 \nL 114.226301 17.083636 \nL 114.32779 147.796231 \nL 114.530766 17.083636 \nL 114.733743 148.999108 \nL 114.835231 17.083636 \nL 114.93672 164.235545 \nL 115.038208 161.027874 \nL 115.241185 17.083636 \nL 115.342673 17.083636 \nL 115.444162 146.593354 \nL 115.54565 17.083636 \nL 115.647138 142.583765 \nL 115.748627 17.083636 \nL 115.951604 159.023079 \nL 116.053092 17.083636 \nL 116.15458 204.732392 \nL 116.357557 17.083636 \nL 116.763511 17.083636 \nL 116.864999 147.395272 \nL 117.067976 17.083636 \nL 117.270952 17.083636 \nL 117.372441 165.83938 \nL 117.575418 17.083636 \nL 117.676906 17.083636 \nL 117.778394 207.138145 \nL 117.879883 184.684448 \nL 118.082859 17.083636 \nL 118.184348 17.083636 \nL 118.387325 156.216367 \nL 118.488813 17.083636 \nL 118.590301 159.824997 \nL 118.793278 17.083636 \nL 118.996255 17.083636 \nL 119.097743 159.824997 \nL 119.199232 148.19719 \nL 119.402208 17.083636 \nL 119.605185 17.083636 \nL 119.808162 155.013491 \nL 119.90965 153.810614 \nL 120.011139 167.042257 \nL 120.112627 154.211573 \nL 120.315604 17.083636 \nL 120.417092 17.083636 \nL 120.51858 17.885554 \nL 120.620069 17.083636 \nL 120.721557 163.032668 \nL 120.823046 17.083636 \nL 120.924534 151.404861 \nL 121.026022 17.083636 \nL 121.127511 145.390478 \nL 121.330487 17.083636 \nL 121.431976 17.083636 \nL 121.634953 157.820203 \nL 121.736441 17.083636 \nL 121.939418 156.216367 \nL 122.040906 151.80582 \nL 122.142394 160.626915 \nL 122.243883 147.395272 \nL 122.44686 17.083636 \nL 122.548348 17.083636 \nL 122.649836 144.989519 \nL 122.751325 17.083636 \nL 122.852813 146.994313 \nL 122.954301 146.593354 \nL 123.05579 147.395272 \nL 123.157278 161.027874 \nL 123.258767 17.083636 \nL 123.360255 157.018285 \nL 123.563232 17.083636 \nL 123.66472 163.032668 \nL 123.766208 151.404861 \nL 123.867697 154.211573 \nL 123.969185 142.984724 \nL 124.172162 17.083636 \nL 124.27365 158.622121 \nL 124.375139 17.083636 \nL 124.578115 170.650887 \nL 124.679604 147.395272 \nL 124.781092 163.032668 \nL 124.882581 142.182807 \nL 124.984069 144.989519 \nL 125.085557 17.083636 \nL 125.187046 206.737186 \nL 125.390022 17.083636 \nL 125.491511 17.083636 \nL 125.592999 144.187601 \nL 125.795976 17.083636 \nL 125.998953 17.083636 \nL 126.100441 205.133351 \nL 126.303418 17.083636 \nL 126.506395 17.083636 \nL 126.709371 164.636504 \nL 126.912348 17.083636 \nL 127.013836 17.083636 \nL 127.115325 178.269106 \nL 127.216813 17.083636 \nL 127.318302 142.984724 \nL 127.41979 17.083636 \nL 127.622767 162.230751 \nL 127.724255 144.58856 \nL 127.825743 155.013491 \nL 128.02872 17.083636 \nL 128.130209 167.042257 \nL 128.333185 17.083636 \nL 130.464441 17.083636 \nL 130.667418 161.027874 \nL 130.768906 144.58856 \nL 130.870395 185.887324 \nL 130.971883 163.032668 \nL 131.073371 163.433627 \nL 131.17486 151.80582 \nL 131.377837 17.083636 \nL 132.088255 17.083636 \nL 132.189744 199.118967 \nL 132.39272 17.083636 \nL 136.959697 17.083636 \nL 137.061185 142.182807 \nL 137.264162 17.083636 \nL 139.90286 17.083636 \nL 140.004348 201.92568 \nL 140.207325 17.083636 \nL 140.308813 174.660476 \nL 140.51179 17.083636 \nL 142.541558 17.083636 \nL 142.643046 194.307461 \nL 142.846023 17.083636 \nL 147.210023 17.083636 \nL 147.311511 143.786642 \nL 147.514488 17.083636 \nL 156.039512 17.083636 \nL 156.141 158.221162 \nL 156.343977 17.083636 \nL 167.101744 17.083636 \nL 167.304721 206.737186 \nL 167.507698 17.083636 \nL 168.62407 17.083636 \nL 168.725558 167.042257 \nL 168.928535 17.083636 \nL 173.901466 17.083636 \nL 174.002954 140.97993 \nL 174.205931 17.083636 \nL 189.124722 17.083636 \nL 189.22621 153.810614 \nL 189.429187 17.083636 \nL 205.768815 17.083636 \nL 205.870304 202.727597 \nL 205.971792 17.083636 \nL 206.07328 203.529515 \nL 206.276257 17.083636 \nL 220.48463 17.083636 \nL 220.586118 187.49116 \nL 220.789095 17.083636 \nL 221.905467 17.083636 \nL 222.006955 191.09979 \nL 222.209932 17.083636 \nL 230.937932 17.083636 \nL 231.039421 145.390478 \nL 231.242397 17.083636 \nL 241.6957 17.083636 \nL 241.797188 144.58856 \nL 242.000165 17.083636 \nL 245.755235 17.083636 \nL 245.856723 17.885554 \nL 245.958212 148.598149 \nL 246.161189 17.083636 \nL 246.364165 17.083636 \nL 246.465654 203.930474 \nL 246.66863 17.083636 \nL 248.190956 17.083636 \nL 248.292444 207.539104 \nL 248.59691 17.083636 \nL 258.339794 17.083636 \nL 258.441282 203.930474 \nL 258.644259 17.083636 \nL 264.632073 17.083636 \nL 264.733561 208.341022 \nL 264.936538 17.083636 \nL 280.464259 17.083636 \nL 280.565748 208.74198 \nL 280.768724 17.083636 \nL 286.959515 17.083636 \nL 287.061004 187.090201 \nL 287.26398 17.083636 \nL 290.917562 17.083636 \nL 291.01905 209.944857 \nL 291.222027 17.083636 \nL 291.323515 17.083636 \nL 291.425004 198.31705 \nL 291.62798 17.083636 \nL 292.236911 17.083636 \nL 292.338399 175.061435 \nL 292.541376 17.083636 \nL 294.16519 17.083636 \nL 294.266678 140.578971 \nL 294.469655 17.083636 \nL 297.615795 17.083636 \nL 297.717283 189.896913 \nL 297.92026 17.083636 \nL 298.935143 17.083636 \nL 299.036632 199.118967 \nL 299.239609 17.083636 \nL 300.254492 17.083636 \nL 300.355981 190.297872 \nL 300.558957 17.083636 \nL 307.663144 17.083636 \nL 307.86612 209.543898 \nL 307.967609 17.083636 \nL 308.069097 140.578971 \nL 308.272074 17.083636 \nL 314.462865 17.083636 \nL 314.564353 18.286513 \nL 314.76733 17.083636 \nL 321.364074 17.083636 \nL 321.465563 177.467188 \nL 321.668539 17.083636 \nL 343.590028 17.083636 \nL 343.793005 194.307461 \nL 343.995982 17.083636 \nL 361.249006 17.083636 \nL 361.249006 17.083636 \n\" style=\"fill:none;stroke:#8dd3c7;stroke-linecap:square;stroke-width:1.5;\"/>\n   </g>\n   <g id=\"patch_3\">\n    <path d=\"M 41.667188 224.64 \nL 41.667188 7.2 \n\" style=\"fill:none;stroke:#ffffff;stroke-linecap:square;stroke-linejoin:miter;stroke-width:0.8;\"/>\n   </g>\n   <g id=\"patch_4\">\n    <path d=\"M 376.467188 224.64 \nL 376.467188 7.2 \n\" style=\"fill:none;stroke:#ffffff;stroke-linecap:square;stroke-linejoin:miter;stroke-width:0.8;\"/>\n   </g>\n   <g id=\"patch_5\">\n    <path d=\"M 41.667188 224.64 \nL 376.467188 224.64 \n\" style=\"fill:none;stroke:#ffffff;stroke-linecap:square;stroke-linejoin:miter;stroke-width:0.8;\"/>\n   </g>\n   <g id=\"patch_6\">\n    <path d=\"M 41.667188 7.2 \nL 376.467188 7.2 \n\" style=\"fill:none;stroke:#ffffff;stroke-linecap:square;stroke-linejoin:miter;stroke-width:0.8;\"/>\n   </g>\n  </g>\n </g>\n <defs>\n  <clipPath id=\"pa259c65fe0\">\n   <rect height=\"217.44\" width=\"334.8\" x=\"41.667188\" y=\"7.2\"/>\n  </clipPath>\n </defs>\n</svg>\n",
      "image/png": "[encoded data removed]"
     },
     "metadata": {
      "needs_background": "dark"
     }
    }
   ],
   "source": [
    "# PLOT REWARDS CURVE\n",
    "plt.plot(np.arange(NUM_EPISODES), episode_rewards)"
   ]
  },
  {
   "cell_type": "code",
   "execution_count": 107,
   "metadata": {
    "tags": []
   },
   "outputs": [
    {
     "output_type": "stream",
     "name": "stderr",
     "text": "100%|█████████▉| 199/200 [00:03<00:00, 58.36it/s]MOVES:  199\n\n"
    }
   ],
   "source": [
    "# TESTING\n",
    "observation = env.reset()\n",
    "state = get_state(observation, bins)\n",
    "for moves in tqdm(range(MAX_MOVES)):\n",
    "    env.render()\n",
    "    action = np.argmax(Q[state])\n",
    "    # TAKE ACTION\n",
    "    observation, reward, done, _ = env.step(action)\n",
    "    state = get_state(observation, bins)\n",
    "    \n",
    "    if(done):\n",
    "        print(\"MOVES: \",moves)\n",
    "        break\n",
    "\n",
    "env.close()"
   ]
  }
 ]
}